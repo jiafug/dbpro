{
 "cells": [
  {
   "cell_type": "markdown",
   "metadata": {
    "pycharm": {}
   },
   "source": [
    "# 0. Import Data"
   ]
  },
  {
   "cell_type": "code",
   "execution_count": 4,
   "metadata": {
    "pycharm": {
     "is_executing": false
    }
   },
   "outputs": [],
   "source": [
    "import warnings\n",
    "\n",
    "warnings.simplefilter(action='ignore', category=FutureWarning)\n",
    "warnings.simplefilter(action='ignore', category=UserWarning)\n",
    "\n",
    "\n",
    "import csv\n",
    "import math\n",
    "#import mplleaflet\n",
    "import matplotlib.pyplot as plt\n",
    "import pandas as pd\n",
    "import gps_utils as gps\n",
    "import time as ttt\n",
    "\n",
    "current_milli_time = lambda: int(round(ttt.time() * 1000))"
   ]
  },
  {
   "cell_type": "code",
   "execution_count": 5,
   "metadata": {
    "pycharm": {
     "is_executing": false
    }
   },
   "outputs": [],
   "source": [
    "with open('C:\\\\Users\\\\markb\\\\Documents\\\\DBPRO\\\\raw_data\\\\test.csv') as csv_file:\n",
    "    csv_reader = csv.reader(csv_file, delimiter=',')\n",
    "\n",
    "    latitude_list = []\n",
    "    longitude_list = []\n",
    "    time_list = []\n",
    "    # breaks only for development purposes\n",
    "    counter = 0\n",
    "    time = 0\n",
    "    \n",
    "    # for development only\n",
    "    # test ist eine Liste mit allen Trajectories, jeder Traejctory ist ein (Pandas-) Dataframe mit den Spalten lon, lat, time\n",
    "    test = []\n",
    "    \n",
    "    for row in csv_reader:\n",
    "        cleared = row[8].replace(\"],[\", \" -1 \").replace(\"[[\", \"\").replace(\"]]\", \"\")\n",
    "        if cleared != \"POLYLINE\":\n",
    "            splitted = cleared.split(\" -1 \")\n",
    "            # extractes all the points\n",
    "            for entry in splitted:\n",
    "                data = entry.split(\",\")\n",
    "                latitude_list.append(data[1])\n",
    "                longitude_list.append(data[0])\n",
    "                time_list.append(time)\n",
    "                time += 15\n",
    "            counter += 1\n",
    "            time = 0\n",
    "            # creats a trajectory dataframe\n",
    "            coords = pd.DataFrame({'lon': longitude_list, 'lat': latitude_list, 'time': time_list})\n",
    "            test.append(coords)\n",
    "            # reset everything \n",
    "            latitude_list = []\n",
    "            longitude_list = []\n",
    "            time_list = []\n",
    "            # breaks only for development purposes\n",
    "            if counter == 35:\n",
    "                break"
   ]
  },
  {
   "cell_type": "markdown",
   "metadata": {
    "pycharm": {}
   },
   "source": [
    "# 1. Initial Data "
   ]
  },
  {
   "cell_type": "code",
   "execution_count": 6,
   "metadata": {
    "pycharm": {
     "is_executing": false
    }
   },
   "outputs": [],
   "source": [
    "# retrieve the test route\n",
    "coords = test[16]\n",
    "coords.lon = coords.lon.astype(float)\n",
    "coords.lat = coords.lat.astype(float)"
   ]
  },
  {
   "cell_type": "code",
   "execution_count": 7,
   "metadata": {
    "pycharm": {
     "is_executing": false
    }
   },
   "outputs": [
    {
     "data": {
      "text/plain": [
       "[<matplotlib.lines.Line2D at 0x2679e5e9b38>]"
      ]
     },
     "execution_count": 7,
     "metadata": {},
     "output_type": "execute_result"
    },
    {
     "data": {
      "image/png": "[encoded data removed]",
      "text/plain": [
       "<Figure size 432x288 with 1 Axes>"
      ]
     },
     "metadata": {
      "needs_background": "light"
     },
     "output_type": "display_data"
    }
   ],
   "source": [
    "fig = plt.figure()\n",
    "simplified_coords = coords[['lon', 'lat']].values\n",
    "plt.plot(simplified_coords[:,0], simplified_coords[:,1])\n",
    "plt.plot(simplified_coords[:,0], simplified_coords[:,1], 'ro')"
   ]
  },
  {
   "cell_type": "code",
   "execution_count": 8,
   "metadata": {
    "pycharm": {
     "is_executing": false
    }
   },
   "outputs": [
    {
     "ename": "NameError",
     "evalue": "name 'mplleaflet' is not defined",
     "output_type": "error",
     "traceback": [
      "\u001b[1;31m---------------------------------------------------------------------------\u001b[0m",
      "\u001b[1;31mNameError\u001b[0m                                 Traceback (most recent call last)",
      "\u001b[1;32m<ipython-input-8-3f32ad87be6d>\u001b[0m in \u001b[0;36m<module>\u001b[1;34m\u001b[0m\n\u001b[1;32m----> 1\u001b[1;33m \u001b[0mmplleaflet\u001b[0m\u001b[1;33m.\u001b[0m\u001b[0mdisplay\u001b[0m\u001b[1;33m(\u001b[0m\u001b[0mfig\u001b[0m\u001b[1;33m=\u001b[0m\u001b[0mfig\u001b[0m\u001b[1;33m)\u001b[0m\u001b[1;33m\u001b[0m\u001b[1;33m\u001b[0m\u001b[0m\n\u001b[0m",
      "\u001b[1;31mNameError\u001b[0m: name 'mplleaflet' is not defined"
     ]
    }
   ],
   "source": [
    "mplleaflet.display(fig=fig)"
   ]
  },
  {
   "cell_type": "markdown",
   "metadata": {
    "pycharm": {}
   },
   "source": [
    "# 2. Trajectory Partition"
   ]
  },
  {
   "cell_type": "markdown",
   "metadata": {
    "pycharm": {}
   },
   "source": [
    "## 2.1. Stop Point Extraction (TDBC)\n",
    "Referenz: Z. Fu, Z. Tian, Y. Xu, and C. Qiao, ‘‘A two-step clustering approach to extract locations from individual GPS trajectory data,’’ ISPRS Int. J. Geo- Inf., vol. 5, no. 10, p. 166, 2016.\n",
    "\n",
    "Auch bei Github hochgeladen als spe-tdbc.pdf"
   ]
  },
  {
   "cell_type": "code",
   "execution_count": 9,
   "metadata": {
    "pycharm": {
     "is_executing": false
    }
   },
   "outputs": [],
   "source": [
    "def centroid(lonT, latT):\n",
    "    # https://stackoverflow.com/questions/6671183/calculate-the-center-point-of-multiple-latitude-longitude-coordinate-pairs\n",
    "    \n",
    "    # lonT = [13.341664, 13.374373, 13.376003, 13.352830]\n",
    "    # latT = [52.519198, 52.523039, 52.504053, 52.508498]\n",
    "    \n",
    "    '''\n",
    "    benchmark beginns\n",
    "    '''\n",
    "    start_time = current_milli_time()\n",
    "    \n",
    "    \n",
    "    if (len(lonT) == 0 or len(latT)== 0):\n",
    "        return 0, 0\n",
    "\n",
    "    xList = []\n",
    "    yList = []\n",
    "    zList = []\n",
    "\n",
    "    dataT = pd.DataFrame({'lat': latT, 'lon': lonT})\n",
    "    for index, row in dataT.iterrows():\n",
    "        lat = row['lat'] * math.pi / 180\n",
    "        lon = row['lon'] * math.pi / 180\n",
    "        X = math.cos(lat) * math.cos(lon)\n",
    "        Y = math.cos(lat) * math.sin(lon)\n",
    "        Z = math.sin(lat)\n",
    "        xList.append(X)\n",
    "        yList.append(Y)\n",
    "        zList.append(Z)\n",
    "\n",
    "    dataXYZ = pd.DataFrame({'x': xList, 'y': yList, 'z': zList})\n",
    "\n",
    "    x = 0\n",
    "    y = 0\n",
    "    z = 0\n",
    "    n = 0\n",
    "\n",
    "    for index, row in dataXYZ.iterrows():\n",
    "        x += row['x']\n",
    "        y += row['y']\n",
    "        z += row['z']\n",
    "        n += 1\n",
    "\n",
    "    aX = x / n\n",
    "    aY = y / n\n",
    "    aZ = z / n\n",
    "\n",
    "    Lon = math.atan2(y, x) * 180 / math.pi\n",
    "    Hyp = math.sqrt(x * x + y * y)\n",
    "    Lat = math.atan2(z, Hyp) * 180 / math.pi\n",
    "    \n",
    "    '''\n",
    "    benchmark ends\n",
    "    '''\n",
    "    time = (current_milli_time() - start_time)\n",
    "    print(\"----------centroid(...): BEGIN----------\")\n",
    "    print(\"time consumption in ms: {}\".format(time))\n",
    "    print(\"----------centroid(...): END----------\")\n",
    "    \n",
    "    return Lon, Lat"
   ]
  },
  {
   "cell_type": "code",
   "execution_count": 10,
   "metadata": {
    "pycharm": {
     "is_executing": false
    }
   },
   "outputs": [],
   "source": [
    "def stop_point_extraction(trajectory, time_threshold, distance_threshold):\n",
    "    \n",
    "    '''\n",
    "    benchmark beginns\n",
    "    '''\n",
    "    start_time = current_milli_time()\n",
    "    \n",
    "    # leere Cluster, c_cluster ist Cluster aus dem Paper, p_cluster ist Previous C\n",
    "    c_cluster = pd.DataFrame(columns=['lon', 'lat', 'time'])\n",
    "    p_cluster = pd.DataFrame(columns=['lon', 'lat', 'time'])\n",
    "    stop_points = pd.DataFrame(columns=['lon', 'lat', 'time'])\n",
    "    stop_points_cluster = pd.DataFrame(columns=['lon', 'lat', 'tstart', 'tend'])\n",
    "    # p_point ist Previous stop point in SP aus dem Paper, relevant für Zeile 9 und 11 aus dem Paper\n",
    "    p_point = None\n",
    "    c_point = None\n",
    "    # Boolean Flag, nur relevant für die check Funktion\n",
    "    is_type2 = False\n",
    "    # braucht man nicht wirklich\n",
    "    counter = 0\n",
    "\n",
    "    def start_end(cluster):\n",
    "        min_time = min(cluster['time'].tolist())\n",
    "        max_time = max(cluster['time'].tolist())\n",
    "        return min_time, max_time\n",
    "\n",
    "    def add_stop_point(cluster):\n",
    "        # print(\"-------------------BEGIN: add_stop_point(cluster)---------------------\")\n",
    "        # nonlocal, damit auf die Variablen der übergeordneten Funktion aufgerufen und bearbeiten werden kann\n",
    "        nonlocal p_cluster\n",
    "        nonlocal stop_points\n",
    "        nonlocal stop_points_cluster\n",
    "        nonlocal c_cluster\n",
    "        # Variablen Initialisierung\n",
    "        p_stop_point = None\n",
    "        # Nur relevant für die Initailisierung des Algorithmuses: wenn kein Stopppunkt vorhanden,\n",
    "        # füge das aktuelle Cluster oder Punkt der Liste der Stopppunkte hinzu\n",
    "        # print(\"-> cluster:\")\n",
    "        # print(cluster)\n",
    "        min_time, max_time = start_end(cluster)\n",
    "        if len(stop_points.tail(1)['lon'].values) == 0:\n",
    "            stop_points = stop_points.append(cluster, ignore_index=True)\n",
    "            spc_frame = pd.DataFrame(\n",
    "                {\"lon\": [cluster['lon'][0]], \"lat\": [cluster['lat'][0]], \"tstart\": [cluster['time'][0]]})\n",
    "            stop_points_cluster = stop_points_cluster.append(spc_frame, ignore_index=True)\n",
    "            p_cluster = cluster\n",
    "            # print(\"--> initial SP\")\n",
    "            # print(\"-> stop_points:\")\n",
    "            # print(stop_points)\n",
    "            # print(\"-> stop_points_cluster:\")\n",
    "            # print(stop_points_cluster)\n",
    "        else:\n",
    "            p_stop_point = stop_points_cluster.tail(1)['lon'].values[0], stop_points_cluster.tail(1)['lat'].values[0]\n",
    "            cluster_coord = centroid(cluster['lon'].tolist(), cluster['lat'].tolist())\n",
    "            # gps.haversine(coord1, coord2) berechnet die Distanc in Metern zwischen zwei Koordinaten\n",
    "            # coord1 und coord2 müssen als Dataframe mit den Spalten lon und lat vorliegen\n",
    "            # print(\"-> p_stop_point\")\n",
    "            # print(p_stop_point)\n",
    "            # print(\"-> cluster\")\n",
    "            # print(cluster_coord)\n",
    "            # print(\"-> distance between cluster and p_stop_point\")\n",
    "            # print(gps.haversine(cluster_coord, p_stop_point))\n",
    "            if gps.haversine(cluster_coord, p_stop_point) < distance_threshold:\n",
    "                # hängt alle Punkte des Clusters oder einzelnen Punkt an den p_cluster (vorheriger Cluster)\n",
    "                p_stop_point_lon, p_stop_point_lat = p_stop_point\n",
    "                test_point = centroid([p_stop_point_lon], [p_stop_point_lon])\n",
    "                test_point_frame = pd.DataFrame(\n",
    "                    {\"lon\": [p_stop_point_lon], \"lat\": [p_stop_point_lat], \"tstart\": [min_time], \"tend\": [max_time]})\n",
    "                stop_points = pd.concat([stop_points, cluster]).drop_duplicates().reset_index(drop=True)\n",
    "                stop_points_cluster = stop_points_cluster.drop(stop_points_cluster.tail(1).index, inplace=True)\n",
    "                stop_points_cluster = pd.concat([stop_points_cluster, test_point_frame]).drop_duplicates().reset_index(\n",
    "                    drop=True)\n",
    "                # print(\"--> Added c_cluster to p_cluster!!!!!!!!!!!!!!!!!!!!!!!!!!!!!!!!!!\")\n",
    "                # print(\"-> c_cluster:\")\n",
    "                # print(c_cluster)\n",
    "                # print(\"-> p_cluster:\")\n",
    "                # print(p_cluster)\n",
    "                c_cluster = c_cluster.iloc[0:0]\n",
    "            else:\n",
    "                centeroid_lon, centeroid_lat = cluster_coord\n",
    "                if centeroid_lon != 0:\n",
    "                    data = {'lon': [centeroid_lon], 'lat': [centeroid_lat], 'tstart': [min_time], 'tend': [max_time]}\n",
    "                    sp_frame = pd.DataFrame(data, columns=['lon', 'lat', 'tstart', 'tend'])\n",
    "                    stop_points = stop_points.append(cluster, ignore_index=True)\n",
    "                    stop_points_cluster = stop_points_cluster.append(sp_frame, ignore_index=True)\n",
    "                    p_cluster = cluster\n",
    "                    # Dataframe.iloc[0:0] löscht den Inhalt eines Dataframes, hier den Inhalt von c_cluster\n",
    "                    c_cluster = c_cluster.iloc[0:0]\n",
    "                    # print(\"---> p_cluster = cluster / drop c_cluster\")\n",
    "            # print(\"-> stop_points:\")\n",
    "            # print(stop_points)\n",
    "            # print(\"-> stop_points_cluster:\")\n",
    "            # print(stop_points_cluster)\n",
    "        # print(\"-------------------END: add_stop_point(cluster)---------------------\")\n",
    "\n",
    "    def check():\n",
    "        # print(\"-------------------BEGIN: check()---------------------\")\n",
    "        nonlocal c_cluster\n",
    "        nonlocal p_cluster\n",
    "        nonlocal is_type2\n",
    "        # centroid(coods, coords) berechnet den Mittelpunkt, Argumente, sind jeweils eine Liste von lon und lat\n",
    "        c_cluster_coord = centroid(c_cluster['lon'].tolist(), c_cluster['lat'].tolist())\n",
    "        p_cluster_coord = centroid(p_cluster['lon'].tolist(), p_cluster['lat'].tolist())\n",
    "        # print(\"---> BEFORE:\")\n",
    "        # print(\"-> c_cluster:\")\n",
    "        # print(c_cluster)\n",
    "        # print(\"-> p_cluster:\")\n",
    "        # print(p_cluster)\n",
    "        # print(\"-> time_interval:\")\n",
    "        # print(time_interval())\n",
    "        # print(\"-> distance c_cluster_coord, p_cluster_coord:\")\n",
    "        # print(gps.haversine(c_cluster_coord, p_cluster_coord))\n",
    "        if (time_interval() < time_threshold and gps.haversine(c_cluster_coord, p_cluster_coord) < distance_threshold):\n",
    "            # p_cluster wird erweitert mit c_cluster, Duplikate werden gelöscht\n",
    "            p_cluster = p_cluster.append(c_cluster).drop_duplicates().reset_index(drop=True)\n",
    "            # print(\"-> p_cluster\")\n",
    "            # print(p_cluster)\n",
    "            # print(\"-> is_type2\")\n",
    "            # print(is_type2)\n",
    "            if is_type2 == True:\n",
    "                # print(\"----> add_stop_point(p_cluster)\")\n",
    "                add_stop_point(p_cluster)\n",
    "                is_type2 == False\n",
    "                # c_cluster = c_cluster.iloc[0:0]\n",
    "            else:\n",
    "                # print(\"----> p_cluster = c_cluster / drop c_cluster\")\n",
    "                p_cluster = c_cluster\n",
    "                # löschen des Inhalts von c_cluster\n",
    "                # c_cluster = c_cluster.iloc[0:0]\n",
    "        else:\n",
    "            # pass\n",
    "            add_stop_point(c_cluster)\n",
    "        # print(\"---> AFTER:\")\n",
    "        # print(\"-> c_cluster:\")\n",
    "        # print(c_cluster)\n",
    "        # print(\"-> p_cluster:\")\n",
    "        # print(p_cluster)\n",
    "        # print(\"-------------------END: check()---------------------\")\n",
    "\n",
    "    def time_interval():\n",
    "        nonlocal c_cluster\n",
    "        nonlocal p_cluster\n",
    "        # wenn p_cluster leer, dann return 0 als Zeitinterval\n",
    "        if p_cluster.shape[0] == 0:\n",
    "            return 0\n",
    "        # berechnet den Zeitinterval von zwei Clustern, indem der Maximalwert (Zeit) der beiden Cluster - Minimalwert\n",
    "        min_time = min([c_cluster.iloc[[0]]['time'].tolist()[0], p_cluster.iloc[[0]]['time'].tolist()[0]])\n",
    "        max_time = max([c_cluster.iloc[[-1]]['time'].tolist()[0], p_cluster.iloc[[-1]]['time'].tolist()[0]])\n",
    "        return abs(max_time - min_time)\n",
    "\n",
    "    def duration():\n",
    "        nonlocal c_cluster\n",
    "        min_time = min(c_cluster['time'].tolist())\n",
    "        max_time = max(c_cluster['time'].tolist())\n",
    "        return max_time - min_time\n",
    "\n",
    "    p_coord = None\n",
    "    skip = False\n",
    "    # adds the first and last trajectory points as type 1 stop points\n",
    "    # if counter == 0 or counter == trajectory.shape[0]-1:\n",
    "\n",
    "    first_sp_lon = trajectory.iloc[0].values[0]\n",
    "    first_sp_lat = trajectory.iloc[0].values[1]\n",
    "    first_sp_frame = pd.DataFrame({\"lon\": [first_sp_lon], \"lat\": [first_sp_lat], \"time\": [0]})\n",
    "    # print(first_sp_frame)\n",
    "    add_stop_point(first_sp_frame)\n",
    "    for index, point in trajectory.iterrows():\n",
    "        c_point = point\n",
    "        point_coord = point['lon'], point['lat']\n",
    "        point_frame = pd.DataFrame({\"lon\": [point['lon']], \"lat\": [point['lat']], \"time\": [point['time']]})\n",
    "        # print(\"_____________________________________________________________________________\")\n",
    "        # print(point_frame)\n",
    "        # print(\"-> p_coord:\")\n",
    "        # print(p_coord)\n",
    "        # print(\"-> point_coord:\")\n",
    "        # print(point_coord)\n",
    "        # if p_coord != None:\n",
    "        # print(\"-> distance between p_coord and point_coord:\")\n",
    "        # print(gps.haversine(p_coord, point_coord))\n",
    "        # Lösungsvorschlag, wenn der initiale Cluster leer ist, dann füge aktuellen Punkt hinzu\n",
    "        cluster_coord = centroid(c_cluster['lon'].tolist(), c_cluster['lat'].tolist())\n",
    "        # # print(gps.haversine(cluster_coord, point_coord))\n",
    "        # # print(cluster_coord, point_coord)\n",
    "        # Punkte des Typ 2 sind der 1,2,3 Fall\n",
    "        if c_cluster.shape[0] == 0:\n",
    "            # print(\"IF -> Cluster empty\")\n",
    "            if p_coord != None and gps.haversine(p_coord, point_coord) < distance_threshold:\n",
    "                # print(\"----->c_cluster empty: put current point in c_cluster\")\n",
    "                p_p_lon, p_p_lat = p_coord\n",
    "                p_point_frame = pd.DataFrame({\"lon\": [p_p_lon], \"lat\": [p_p_lat], \"time\": [point['time'] - 15]})\n",
    "                # if (point['time'] - 15) != 0 :\n",
    "                c_cluster = c_cluster.append(p_point_frame)\n",
    "                c_cluster = c_cluster.append(point_frame)\n",
    "                cluster_coord = centroid(c_cluster['lon'].tolist(), c_cluster['lat'].tolist())\n",
    "            else:\n",
    "                skip = True\n",
    "                # print(\"----->PASS -> p_coord None or distance between p_coord, point_coord < distance_threshold\")\n",
    "\n",
    "        else:\n",
    "            skip = False\n",
    "            # print(\"ELSE -> Cluster not empty and point may be added to cluster\")\n",
    "            if gps.haversine(cluster_coord, point_coord) < distance_threshold:\n",
    "                # print(\">>>case1: put in c_cluster\")\n",
    "                c_cluster = c_cluster.append(point_frame)\n",
    "                cluster_coord = centroid(c_cluster['lon'].tolist(), c_cluster['lat'].tolist())\n",
    "                is_type2 = True\n",
    "        if (skip != True):\n",
    "            # print(\"Other Cases:\")\n",
    "            # print(\"-> distance cluster_coord and point_coord\")\n",
    "            # print(gps.haversine(cluster_coord, point_coord))\n",
    "            # print(\"-> duration()\")\n",
    "            # print(duration())\n",
    "            if c_cluster.shape[0] != 0 and gps.haversine(cluster_coord,\n",
    "                                                         point_coord) > distance_threshold and duration() > time_threshold:\n",
    "                # print(\">>>case2\")\n",
    "                add_stop_point(c_cluster)\n",
    "                is_type2 = True\n",
    "            if c_cluster.shape[0] != 0 and gps.haversine(cluster_coord,\n",
    "                                                         point_coord) > distance_threshold and duration() < time_threshold:\n",
    "                # print(\">>>case3\")\n",
    "                check()\n",
    "                is_type2 = True\n",
    "            if p_coord != None and gps.haversine(p_coord, point_coord) < distance_threshold and 15 > time_threshold:\n",
    "                # print(\">>>case4\")\n",
    "                is_type2 = False\n",
    "\n",
    "            if p_coord != None and gps.haversine(p_coord, point_coord) > distance_threshold and 15 > time_threshold:\n",
    "                # print(\">>>case5\")\n",
    "                is_type2 = False\n",
    "                pass\n",
    "        # print(\"<<<----------LOOP RESULTS BEGINN---------->>>\")\n",
    "        # print(\"-> c_cluster\")\n",
    "        # print(c_cluster)\n",
    "        # print(\"-> p_cluster\")\n",
    "        # print(p_cluster)\n",
    "        # print(\"-> END: stop_points\")\n",
    "        # print(stop_points)\n",
    "        # print(\"-> END: stop_points_cluster\")\n",
    "        # print(stop_points_cluster)\n",
    "        # print(\"<<<----------LOOP RESULTS END---------->>>\")\n",
    "\n",
    "        counter += 1\n",
    "        # p_coord (Vorherige Punkt) wird gesetzt\n",
    "        p_coord = point['lon'], point['lat']\n",
    "    if c_cluster.shape[0] == 0:\n",
    "        p_frame = {'lon': c_point['lon'], 'lat': c_point['lat'], 'time': c_point['time']}\n",
    "        spc_frame = {\"lon\": c_point['lon'], \"lat\": c_point['lat'], \"tstart\": c_point['time']}\n",
    "        # stop_points_cluster = stop_points_cluster.append(p_frame, ignore_index=True)\n",
    "        stop_points = stop_points.append(p_frame, ignore_index=True)\n",
    "        stop_points_cluster = stop_points_cluster.append(spc_frame, ignore_index=True)\n",
    "    else:\n",
    "        cluster_coord = centroid(c_cluster['lon'].tolist(), c_cluster['lat'].tolist())\n",
    "        centeroid_lon, centeroid_lat = cluster_coord\n",
    "        min_time, max_time = start_end(c_cluster)\n",
    "        data = {'lon': [centeroid_lon], 'lat': [centeroid_lat], 'tstart': [min_time], 'tend': [max_time]}\n",
    "        sp_frame = pd.DataFrame(data, columns=['lon', 'lat', 'tstart', 'tend'])\n",
    "        stop_points_cluster = stop_points_cluster.append(sp_frame, ignore_index=True)\n",
    "        stop_points = stop_points.append(c_cluster, ignore_index=True)\n",
    "    # print(\"ENDENDENDENDENDENDENDENDENDENDENDENDENDENDENDENDENDENDENDENDENDENDENDENDENDENDENDEND\")\n",
    "    # print(stop_points_cluster)\n",
    "    \n",
    "    '''\n",
    "    benchmark ends\n",
    "    '''\n",
    "    time = (current_milli_time() - start_time) \n",
    "    print(\"----------stop_point_extraction(...): BEGIN----------\")\n",
    "    print(\"time consumption in ms: {}\".format(time))\n",
    "    print(\"----------stop_point_extraction(...): END----------\")\n",
    "\n",
    "    return stop_points, stop_points_cluster"
   ]
  },
  {
   "cell_type": "code",
   "execution_count": 11,
   "metadata": {
    "pycharm": {
     "is_executing": false
    },
    "scrolled": true
   },
   "outputs": [
    {
     "name": "stdout",
     "output_type": "stream",
     "text": [
      "----------centroid(...): BEGIN----------\n",
      "time consumption in ms: 1\n",
      "----------centroid(...): END----------\n",
      "----------centroid(...): BEGIN----------\n",
      "time consumption in ms: 2\n",
      "----------centroid(...): END----------\n",
      "----------centroid(...): BEGIN----------\n",
      "time consumption in ms: 1\n",
      "----------centroid(...): END----------\n",
      "----------centroid(...): BEGIN----------\n",
      "time consumption in ms: 2\n",
      "----------centroid(...): END----------\n",
      "----------centroid(...): BEGIN----------\n",
      "time consumption in ms: 2\n",
      "----------centroid(...): END----------\n",
      "----------centroid(...): BEGIN----------\n",
      "time consumption in ms: 2\n",
      "----------centroid(...): END----------\n",
      "----------centroid(...): BEGIN----------\n",
      "time consumption in ms: 2\n",
      "----------centroid(...): END----------\n",
      "----------centroid(...): BEGIN----------\n",
      "time consumption in ms: 2\n",
      "----------centroid(...): END----------\n",
      "----------centroid(...): BEGIN----------\n",
      "time consumption in ms: 2\n",
      "----------centroid(...): END----------\n",
      "----------centroid(...): BEGIN----------\n",
      "time consumption in ms: 2\n",
      "----------centroid(...): END----------\n",
      "----------centroid(...): BEGIN----------\n",
      "time consumption in ms: 2\n",
      "----------centroid(...): END----------\n",
      "----------centroid(...): BEGIN----------\n",
      "time consumption in ms: 1\n",
      "----------centroid(...): END----------\n",
      "----------centroid(...): BEGIN----------\n",
      "time consumption in ms: 2\n",
      "----------centroid(...): END----------\n",
      "----------centroid(...): BEGIN----------\n",
      "time consumption in ms: 2\n",
      "----------centroid(...): END----------\n",
      "----------centroid(...): BEGIN----------\n",
      "time consumption in ms: 2\n",
      "----------centroid(...): END----------\n",
      "----------centroid(...): BEGIN----------\n",
      "time consumption in ms: 2\n",
      "----------centroid(...): END----------\n",
      "----------centroid(...): BEGIN----------\n",
      "time consumption in ms: 2\n",
      "----------centroid(...): END----------\n",
      "----------centroid(...): BEGIN----------\n",
      "time consumption in ms: 1\n",
      "----------centroid(...): END----------\n",
      "----------centroid(...): BEGIN----------\n",
      "time consumption in ms: 2\n",
      "----------centroid(...): END----------\n",
      "----------centroid(...): BEGIN----------\n",
      "time consumption in ms: 1\n",
      "----------centroid(...): END----------\n",
      "----------centroid(...): BEGIN----------\n",
      "time consumption in ms: 2\n",
      "----------centroid(...): END----------\n",
      "----------centroid(...): BEGIN----------\n",
      "time consumption in ms: 1\n",
      "----------centroid(...): END----------\n",
      "----------centroid(...): BEGIN----------\n",
      "time consumption in ms: 2\n",
      "----------centroid(...): END----------\n",
      "----------centroid(...): BEGIN----------\n",
      "time consumption in ms: 1\n",
      "----------centroid(...): END----------\n",
      "----------centroid(...): BEGIN----------\n",
      "time consumption in ms: 2\n",
      "----------centroid(...): END----------\n",
      "----------centroid(...): BEGIN----------\n",
      "time consumption in ms: 1\n",
      "----------centroid(...): END----------\n",
      "----------centroid(...): BEGIN----------\n",
      "time consumption in ms: 2\n",
      "----------centroid(...): END----------\n",
      "----------centroid(...): BEGIN----------\n",
      "time consumption in ms: 4\n",
      "----------centroid(...): END----------\n",
      "----------centroid(...): BEGIN----------\n",
      "time consumption in ms: 2\n",
      "----------centroid(...): END----------\n",
      "----------centroid(...): BEGIN----------\n",
      "time consumption in ms: 1\n",
      "----------centroid(...): END----------\n",
      "----------centroid(...): BEGIN----------\n",
      "time consumption in ms: 1\n",
      "----------centroid(...): END----------\n",
      "----------centroid(...): BEGIN----------\n",
      "time consumption in ms: 1\n",
      "----------centroid(...): END----------\n",
      "----------centroid(...): BEGIN----------\n",
      "time consumption in ms: 2\n",
      "----------centroid(...): END----------\n",
      "----------stop_point_extraction(...): BEGIN----------\n",
      "time consumption in ms: 174\n",
      "----------stop_point_extraction(...): END----------\n"
     ]
    }
   ],
   "source": [
    "time_threshold = 500\n",
    "distance_threshold = 60\n",
    "stop_points, stop_points_cluster = stop_point_extraction(coords, time_threshold, distance_threshold)"
   ]
  },
  {
   "cell_type": "code",
   "execution_count": 12,
   "metadata": {},
   "outputs": [
    {
     "name": "stdout",
     "output_type": "stream",
     "text": [
      "----------create_route: BEGIN----------\n",
      "time consumption in ms: 21\n",
      "----------create_route: END----------\n",
      "         lon        lat time\n",
      "0  -8.627094  41.166936    0\n",
      "1  -8.627049  41.166900   15\n",
      "2  -8.626644  41.166900   30\n",
      "3  -8.626626  41.166909   45\n",
      "4  -8.626617  41.166909   60\n",
      "5  -8.626617  41.166900   75\n",
      "6  -8.626608  41.166900   90\n",
      "7  -8.626599  41.166891  105\n",
      "8  -8.626923  41.166504  120\n",
      "9  -8.630343  41.158908  255\n",
      "10 -8.630406  41.158854  270\n",
      "11 -8.630217  41.158629  285\n",
      "12 -8.630325  41.158305  300\n",
      "13 -8.629218  41.155128  360\n",
      "14 -8.629074  41.155146  375\n",
      "15 -8.629065  41.155137  390\n",
      "         lon        lat  tstart   tend\n",
      "0  -8.627094  41.166936     0.0  120.0\n",
      "1  -8.628075  41.166135   135.0    NaN\n",
      "2  -8.629461  41.165577   150.0    NaN\n",
      "3  -8.630802  41.165019   165.0    NaN\n",
      "4  -8.632548  41.164155   180.0    NaN\n",
      "5  -8.633538  41.163345   195.0    NaN\n",
      "6  -8.632764  41.162292   210.0    NaN\n",
      "7  -8.631945  41.161248   225.0    NaN\n",
      "8  -8.630604  41.159493   240.0    NaN\n",
      "9  -8.630323  41.158674   255.0  300.0\n",
      "10 -8.630451  41.157567   315.0    NaN\n",
      "11 -8.629542  41.156883   330.0    NaN\n",
      "12 -8.629731  41.155731   345.0    NaN\n",
      "13 -8.629119  41.155137   360.0  390.0\n"
     ]
    },
    {
     "data": {
      "text/plain": [
       "[<matplotlib.lines.Line2D at 0x2679fb64ef0>]"
      ]
     },
     "execution_count": 12,
     "metadata": {},
     "output_type": "execute_result"
    },
    {
     "data": {
      "image/png": "[encoded data removed]",
      "text/plain": [
       "<Figure size 432x288 with 1 Axes>"
      ]
     },
     "metadata": {
      "needs_background": "light"
     },
     "output_type": "display_data"
    }
   ],
   "source": [
    "'''\n",
    "benchmark beginns\n",
    "'''\n",
    "start_time = current_milli_time()\n",
    "\n",
    "new = coords.merge(stop_points,on=['lon','lat'],how='left')\n",
    "new = new[new.time_y.isnull()]\n",
    "new = new.rename(columns={\"time_x\": \"tstart\", \"time_y\": \"tend\"})\n",
    "route = stop_points_cluster.append(new)\n",
    "route = route.sort_values(by=['tstart']).reset_index(drop=True)\n",
    "\n",
    "'''\n",
    "benchmark ends\n",
    "'''\n",
    "time = (current_milli_time() - start_time) \n",
    "print(\"----------create_route: BEGIN----------\")\n",
    "print(\"time consumption in ms: {}\".format(time))\n",
    "print(\"----------create_route: END----------\")\n",
    "\n",
    "print(stop_points)\n",
    "print(route)\n",
    "polt_point_data = route[['lon', 'lat']].values\n",
    "polt_stop_point_data = stop_points_cluster[['lon', 'lat']].values\n",
    "plt.plot(polt_point_data[:,0], polt_point_data[:,1])\n",
    "plt.plot(polt_point_data[:,0], polt_point_data[:,1], 'ro')\n",
    "plt.plot(polt_stop_point_data[:,0], polt_stop_point_data[:,1], 's', color='red', markersize= 10)"
   ]
  },
  {
   "cell_type": "markdown",
   "metadata": {
    "pycharm": {}
   },
   "source": [
    "## 2.2. Data Simplification "
   ]
  },
  {
   "cell_type": "code",
   "execution_count": 13,
   "metadata": {
    "pycharm": {}
   },
   "outputs": [
    {
     "name": "stdout",
     "output_type": "stream",
     "text": [
      "----------data_simplification(...): BEGIN----------\n",
      "time consumption in ms: 37\n",
      "----------data_simplification(...): END----------\n"
     ]
    }
   ],
   "source": [
    "'''\n",
    "benchmark beginns\n",
    "'''\n",
    "start_time = current_milli_time()\n",
    "\n",
    "part = []\n",
    "simplified_coords = pd.DataFrame(columns=['lon','lat','tstart', 'tend'])\n",
    "counter = 0\n",
    "for index, point in route.iterrows():\n",
    "    counter += 1\n",
    "    current_point = [point['lon'], point['lat']]\n",
    "    part.append(current_point)\n",
    "    if (not math.isnan(point['tend']) and len(part) > 1) or (route.shape[0] == counter) :\n",
    "        l_data = gps.rdp(part, 0.00025)\n",
    "        for i in l_data:\n",
    "            l_lon = i[0]\n",
    "            l_lat = i[1]\n",
    "            l_frame = pd.DataFrame({\"lon\": [l_lon], \"lat\": [l_lat]})\n",
    "            simplified_coords = simplified_coords.append(l_frame)\n",
    "        part = []\n",
    "        part.append(current_point)\n",
    "#print(simplified_coords)\n",
    "#simplified_coords = simplified_coords.drop_duplicates(subset=None, keep='first', inplace=False).reset_index(drop=True)\n",
    "#print(simplified_coords)\n",
    "merged = route.merge(simplified_coords, on=['lon','lat'])\n",
    "merged = merged.drop(['tstart_y', 'tend_y'], axis=1)\n",
    "merged = merged.rename(columns={'tstart_x': 'tstart', 'tend_x': 'tend'})\n",
    "#print(merged)\n",
    "#print(\"{} gps points simplified to {} points\".format(route.shape[0], simplified_coords.shape[0]))\n",
    "\n",
    "'''\n",
    "benchmark ends\n",
    "'''\n",
    "time = (current_milli_time() - start_time) \n",
    "print(\"----------data_simplification(...): BEGIN----------\")\n",
    "print(\"time consumption in ms: {}\".format(time))\n",
    "print(\"----------data_simplification(...): END----------\")"
   ]
  },
  {
   "cell_type": "code",
   "execution_count": 14,
   "metadata": {
    "pycharm": {},
    "scrolled": true
   },
   "outputs": [
    {
     "data": {
      "text/plain": [
       "[<matplotlib.lines.Line2D at 0x2679fbc6da0>]"
      ]
     },
     "execution_count": 14,
     "metadata": {},
     "output_type": "execute_result"
    },
    {
     "data": {
      "image/png": "[encoded data removed]",
      "text/plain": [
       "<Figure size 432x288 with 1 Axes>"
      ]
     },
     "metadata": {
      "needs_background": "light"
     },
     "output_type": "display_data"
    }
   ],
   "source": [
    "fig = plt.figure()\n",
    "simplified_coords_plot = simplified_coords[['lon', 'lat']].values\n",
    "plt.plot(simplified_coords_plot[:,0], simplified_coords_plot[:,1])\n",
    "plt.plot(simplified_coords_plot[:,0], simplified_coords_plot[:,1], 'ro')\n",
    "plt.plot(polt_stop_point_data[:,0], polt_stop_point_data[:,1], 's', color='red', markersize= 10)"
   ]
  },
  {
   "cell_type": "code",
   "execution_count": 15,
   "metadata": {
    "pycharm": {}
   },
   "outputs": [
    {
     "ename": "NameError",
     "evalue": "name 'mplleaflet' is not defined",
     "output_type": "error",
     "traceback": [
      "\u001b[1;31m---------------------------------------------------------------------------\u001b[0m",
      "\u001b[1;31mNameError\u001b[0m                                 Traceback (most recent call last)",
      "\u001b[1;32m<ipython-input-15-3f32ad87be6d>\u001b[0m in \u001b[0;36m<module>\u001b[1;34m\u001b[0m\n\u001b[1;32m----> 1\u001b[1;33m \u001b[0mmplleaflet\u001b[0m\u001b[1;33m.\u001b[0m\u001b[0mdisplay\u001b[0m\u001b[1;33m(\u001b[0m\u001b[0mfig\u001b[0m\u001b[1;33m=\u001b[0m\u001b[0mfig\u001b[0m\u001b[1;33m)\u001b[0m\u001b[1;33m\u001b[0m\u001b[1;33m\u001b[0m\u001b[0m\n\u001b[0m",
      "\u001b[1;31mNameError\u001b[0m: name 'mplleaflet' is not defined"
     ]
    }
   ],
   "source": [
    "mplleaflet.display(fig=fig)"
   ]
  },
  {
   "cell_type": "markdown",
   "metadata": {},
   "source": [
    "## 2.3. CSV Writer"
   ]
  },
  {
   "cell_type": "code",
   "execution_count": 16,
   "metadata": {
    "pycharm": {}
   },
   "outputs": [
    {
     "name": "stdout",
     "output_type": "stream",
     "text": [
      "----------write_to_csv(...): BEGIN----------\n",
      "time consumption in ms: 25\n",
      "----------write_to_csv(...): END----------\n"
     ]
    }
   ],
   "source": [
    "'''\n",
    "benchmark beginns\n",
    "'''\n",
    "start_time = current_milli_time()\n",
    "\n",
    "p_point = pd.Series([])\n",
    "p_point_e = False\n",
    "header = False\n",
    "lts = pd.DataFrame(columns=['lon1', 'lat1', 'tstart1', 'tend1', 'lon2', 'lat2', 'tstart2', 'tend2', 'distance', 'bearing'])\n",
    "for index, point in merged.iterrows():\n",
    "    if p_point_e == False:\n",
    "        pass\n",
    "    else:\n",
    "        # # print(point)\n",
    "        brng = gps.bearingCalculator((p_point['lon'], p_point['lat']), (point['lon'], point['lat']))\n",
    "        dis = gps.haversine((p_point['lon'], p_point['lat']), (point['lon'], point['lat']))\n",
    "        lts_frame = pd.DataFrame(\n",
    "            {'lon1': [p_point['lon']], 'lat1': [p_point['lat']], 'tstart1': [p_point['tstart']],\n",
    "            'tend1': [p_point['tend']],\n",
    "                 'lon2': [point['lon']], 'lat2': [point['lat']], 'tstart2': [point['tstart']], 'tend2': [point['tend']],\n",
    "                 'distance': [dis], 'bearing': [brng]})\n",
    "        lts = lts.append(lts_frame)\n",
    "        # print(p_point, point)\n",
    "        # print(brng, dis)\n",
    "        p_point = point\n",
    "        p_point_e = True\n",
    "\n",
    "lts = lts.reset_index(drop=True)\n",
    "    # print(lts)\n",
    "if header == False:\n",
    "    header = True\n",
    "    lts.to_csv('test_lts.csv', header=True, sep=';', mode='w')  # header = 'False', index = 'True')\n",
    "else:\n",
    "    lts.to_csv('test_lts.csv', header=False, sep=';', mode='a')  # header = 'False', index = 'True')\n",
    "\n",
    "'''\n",
    "benchmark ends\n",
    "'''\n",
    "time = (current_milli_time() - start_time) \n",
    "print(\"----------write_to_csv(...): BEGIN----------\")\n",
    "print(\"time consumption in ms: {}\".format(time))\n",
    "print(\"----------write_to_csv(...): END----------\")\n",
    "\n"
   ]
  },
  {
   "cell_type": "markdown",
   "metadata": {},
   "source": [
    "## 2.4. Common  Segment  Discovery "
   ]
  },
  {
   "cell_type": "markdown",
   "metadata": {},
   "source": [
    "### alternative "
   ]
  },
  {
   "cell_type": "code",
   "execution_count": 17,
   "metadata": {},
   "outputs": [],
   "source": [
    "import numpy as np\n",
    "global line_segments\n",
    "\n",
    "line_segments = pd.DataFrame(columns=['lon1', 'lat1', 'tstart1', 'tend1', 'lon2', 'lat2', 'tstart2', 'tend2', 'distance', 'bearing', 'route'])\n",
    "with open('test_lts.csv') as csv_file:\n",
    "    csv_reader = csv.reader(csv_file, delimiter=';')\n",
    "    route_id = 0 \n",
    "    for row in csv_reader:\n",
    "        if row[0] == '':\n",
    "            pass\n",
    "        else:\n",
    "            if float(row[0]) == 0:\n",
    "                route_id += 1\n",
    "            # a short line segment might induce over-clustering, thus a the partitioning criteria is added\n",
    "            if float(row[9]) >= 75:\n",
    "                df = {'lon1': float(row[1]), 'lat1': float(row[2]), 'tstart1': float(row[3]), 'tend1': row[4],\n",
    "                      'lon2': float(row[5]), 'lat2': float(row[6]), 'tstart2': float(row[7]), 'tend2': row[8],\n",
    "                      'distance': row[9], 'bearing': row[10], 'route': route_id}\n",
    "                line_segments = line_segments.append(df, ignore_index=True)"
   ]
  },
  {
   "cell_type": "code",
   "execution_count": 18,
   "metadata": {},
   "outputs": [],
   "source": [
    "'''\n",
    "Input: Zwei Linien als Pandas Series\n",
    "Output: Die längere Line zuerst, dann die kürzere Line als Pandas Series\n",
    "'''\n",
    "def longer_and_shorter_lines(line_a, line_b):\n",
    "    if line_a['distance'] > line_b['distance']:\n",
    "        return (line_b, line_a)\n",
    "    else:\n",
    "        return (line_a, line_b)"
   ]
  },
  {
   "cell_type": "markdown",
   "metadata": {},
   "source": [
    "#### test of projection points ps and pe"
   ]
  },
  {
   "cell_type": "code",
   "execution_count": 19,
   "metadata": {},
   "outputs": [
    {
     "name": "stdout",
     "output_type": "stream",
     "text": [
      "[-0.0011115 -0.001215 ]\n",
      "[-0.0011115 -0.001215 ]\n",
      "[-8.5867875 41.147307 ]\n",
      "[-8.58626091 41.14788262]\n",
      "-0.3857035655745071\n"
     ]
    },
    {
     "data": {
      "image/png": "[encoded data removed]",
      "text/plain": [
       "<Figure size 432x288 with 1 Axes>"
      ]
     },
     "metadata": {
      "needs_background": "light"
     },
     "output_type": "display_data"
    }
   ],
   "source": [
    "'''\n",
    "Zum Testen und visualisieren der projection points Funktion\n",
    "Eventuell muss Exception Handling eingebaut werden\n",
    "'''\n",
    "\n",
    "si = [-8.585676, 41.148522] \n",
    "ei = [-8.586787499506492, 41.14730700019343]\n",
    "sj = [-8.586787499506492, 41.14730700019343]\n",
    "ej = [-8.584884, 41.146623]\n",
    "\n",
    "# ps\n",
    "sisj = np.array([sj[0] - si[0], sj[1] - si[1]])\n",
    "siei = np.array([ei[0] - si[0], ei[1] - si[1]])\n",
    "print(sisj)\n",
    "print(siei)\n",
    "siei_norm = np.linalg.norm(siei)\n",
    "u1 = np.dot(sisj, siei) / (siei_norm * siei_norm)\n",
    "ps = si + u1 * siei\n",
    "print(ps)\n",
    "\n",
    "# pe\n",
    "siej = np.array([ej[0] - si[0], ej[1] - si[1]])\n",
    "u2 = np.dot(siej, siei) / (siei_norm * siei_norm)\n",
    "pe = si + u2 * siei\n",
    "print(pe)\n",
    "\n",
    "# angle θ\n",
    "sjej = np.array([ej[0] - sj[0], ej[1] - sj[1]])\n",
    "cos_angle = np.dot(siei, sjej) / (np.linalg.norm(siei) * np.linalg.norm(sjej))\n",
    "print(cos_angle)\n",
    "\n",
    "fig = plt.figure()\n",
    "# plt.plot([si[0], ei[0]], [si[1], ei[1]])\n",
    "plt.plot([sj[0], ej[0]], [sj[1], ej[1]])\n",
    "plt.plot(ps[0] , ps[1], 'ro')\n",
    "plt.plot(pe[0] , pe[1], 'ro')\n",
    "plt.show()"
   ]
  },
  {
   "cell_type": "code",
   "execution_count": 20,
   "metadata": {},
   "outputs": [
    {
     "ename": "NameError",
     "evalue": "name 'mplleaflet' is not defined",
     "output_type": "error",
     "traceback": [
      "\u001b[1;31m---------------------------------------------------------------------------\u001b[0m",
      "\u001b[1;31mNameError\u001b[0m                                 Traceback (most recent call last)",
      "\u001b[1;32m<ipython-input-20-3f32ad87be6d>\u001b[0m in \u001b[0;36m<module>\u001b[1;34m\u001b[0m\n\u001b[1;32m----> 1\u001b[1;33m \u001b[0mmplleaflet\u001b[0m\u001b[1;33m.\u001b[0m\u001b[0mdisplay\u001b[0m\u001b[1;33m(\u001b[0m\u001b[0mfig\u001b[0m\u001b[1;33m=\u001b[0m\u001b[0mfig\u001b[0m\u001b[1;33m)\u001b[0m\u001b[1;33m\u001b[0m\u001b[1;33m\u001b[0m\u001b[0m\n\u001b[0m",
      "\u001b[1;31mNameError\u001b[0m: name 'mplleaflet' is not defined"
     ]
    }
   ],
   "source": [
    "mplleaflet.display(fig=fig)"
   ]
  },
  {
   "cell_type": "markdown",
   "metadata": {},
   "source": [
    "#### real implementation of projection points ps and pe function"
   ]
  },
  {
   "cell_type": "code",
   "execution_count": 21,
   "metadata": {},
   "outputs": [],
   "source": [
    "def projection_points(line_a, line_b):\n",
    "    '''\n",
    "    si = [13.323899, 52.512749]\n",
    "    ei = [13.332428,  52.513389]\n",
    "    sj = [13.325390,  52.513223]\n",
    "    ej = [13.328577,  52.514398]\n",
    "    '''\n",
    "    si = line_a['si']\n",
    "    ei = line_a['ei']\n",
    "    sj = line_b['sj']\n",
    "    ej = line_b['ej']\n",
    "    \n",
    "    # ps\n",
    "    sisj = np.array([sj[0] - si[0], sj[1] - si[1]])\n",
    "    siei = np.array([ei[0] - si[0], ei[1] - si[1]])\n",
    "    siei_norm = np.linalg.norm(siei)\n",
    "    u1 = np.dot(sisj, siei) / (siei_norm * siei_norm)\n",
    "    ps = si + u1 * siei\n",
    "    \n",
    "    # pe\n",
    "    siej = np.array([ej[0] - si[0], ej[1] - si[1]])\n",
    "    u2 = np.dot(siej, siei) / (siei_norm * siei_norm)\n",
    "    pe = si + u2 * siei\n",
    "\n",
    "    # angle θ\n",
    "    sjej = np.array([ej[0] - sj[0], ej[1] - sj[1]])\n",
    "    cos_angle = np.dot(siei, sjej) / (np.linalg.norm(siei) * np.linalg.norm(sjej))\n",
    "        \n",
    "    return (pe, ps, cos_angle)\n"
   ]
  },
  {
   "cell_type": "markdown",
   "metadata": {},
   "source": [
    "#### distance functions"
   ]
  },
  {
   "cell_type": "code",
   "execution_count": 22,
   "metadata": {},
   "outputs": [],
   "source": [
    "def distance_functions(line_a, line_b):\n",
    "    '''\n",
    "    si = [13.323899, 52.512749]\n",
    "    ei = [13.332428,  52.513389]\n",
    "    sj = [13.325390,  52.513223]\n",
    "    ej = [13.328577,  52.514398]\n",
    "    '''\n",
    "    si = line_a['si']\n",
    "    ei = line_a['ei']\n",
    "    sj = line_b['sj']\n",
    "    ej = line_b['ej']\n",
    "    \n",
    "    '''\n",
    "    if (si == sj and ei == ej) or (si == ei or sj == ej):\n",
    "        return 0\n",
    "    '''\n",
    "    \n",
    "    pe, ps, cos_angle = projection_points(line_a, line_b)\n",
    "    \n",
    "    def perpendicular_distance(line_a, line_b):\n",
    "        l1 = np.linalg.norm(ps-sj)\n",
    "        l2 = np.linalg.norm(pe-ej)\n",
    "        dist = (l1*l1+l2*l2)/l1+l2\n",
    "        return dist\n",
    "\n",
    "    def parallel_distance(line_a, line_b):\n",
    "        l1 = min(np.linalg.norm(si-ps), np.linalg.norm(ei-ps))\n",
    "        l2 = min(np.linalg.norm(si-pe), np.linalg.norm(ei-pe))\n",
    "        dist = min(l1, l2)\n",
    "        return dist\n",
    "\n",
    "    def angle_distance(line_a, line_b):\n",
    "        nonlocal cos_angle\n",
    "        if (cos_angle) > 1:\n",
    "            cos_angle = 1\n",
    "        angle = math.acos(cos_angle)\n",
    "        sjej = np.array([ej[0] - sj[0], ej[1] - sj[1]])\n",
    "        dist = 0\n",
    "        # print(\"angle: {}\".format(np.degrees(angle)))\n",
    "        if np.degrees(angle) >= 0 and np.degrees(angle) < 90:\n",
    "            dist = np.linalg.norm(sjej) * math.sin(angle)\n",
    "        elif np.degrees(angle) >= 90 and np.degrees(angle) <= 180:\n",
    "            dist = np.linalg.norm(sjej)\n",
    "        return dist\n",
    "\n",
    "    perpendicular_distance = perpendicular_distance(line_a, line_b)\n",
    "    parallel_distance = parallel_distance(line_a, line_b)\n",
    "    angle_distance = angle_distance(line_a, line_b)\n",
    "    \n",
    "    # print(\"perpendicular_distance: {}\".format(perpendicular_distance))\n",
    "    # print(\"parallel_distance: {}\".format(parallel_distance))\n",
    "    # print(\"angle_distance: {}\".format(angle_distance))\n",
    "    \n",
    "    '''\n",
    "    Per Diffinition ist die Distanz die Addierte Distanzen der verschiedenen Funktionen,\n",
    "    eine Gewichting kann noch erfolgen falls notwendig\n",
    "    '''\n",
    "    \n",
    "    return (perpendicular_distance + parallel_distance + angle_distance)\n",
    "    \n",
    "    \n",
    "    "
   ]
  },
  {
   "cell_type": "markdown",
   "metadata": {},
   "source": [
    "### Algorithm Line Segment Clustering Implementation "
   ]
  },
  {
   "cell_type": "code",
   "execution_count": 49,
   "metadata": {},
   "outputs": [
    {
     "ename": "OSError",
     "evalue": "could not find or load spatialindex_c.dll",
     "output_type": "error",
     "traceback": [
      "\u001b[1;31m---------------------------------------------------------------------------\u001b[0m",
      "\u001b[1;31mOSError\u001b[0m                                   Traceback (most recent call last)",
      "\u001b[1;32m<ipython-input-49-74706369e171>\u001b[0m in \u001b[0;36m<module>\u001b[1;34m\u001b[0m\n\u001b[1;32m----> 1\u001b[1;33m \u001b[1;32mfrom\u001b[0m \u001b[0mrtree\u001b[0m \u001b[1;32mimport\u001b[0m \u001b[0mindex\u001b[0m\u001b[1;33m\u001b[0m\u001b[1;33m\u001b[0m\u001b[0m\n\u001b[0m\u001b[0;32m      2\u001b[0m \u001b[1;33m\u001b[0m\u001b[0m\n\u001b[0;32m      3\u001b[0m \u001b[1;32mdef\u001b[0m \u001b[0mr_tree\u001b[0m\u001b[1;33m(\u001b[0m\u001b[1;33m)\u001b[0m\u001b[1;33m:\u001b[0m\u001b[1;33m\u001b[0m\u001b[1;33m\u001b[0m\u001b[0m\n\u001b[0;32m      4\u001b[0m     \u001b[0midx\u001b[0m \u001b[1;33m=\u001b[0m \u001b[0mindex\u001b[0m\u001b[1;33m.\u001b[0m\u001b[0mIndex\u001b[0m\u001b[1;33m(\u001b[0m\u001b[1;33m)\u001b[0m\u001b[1;33m\u001b[0m\u001b[1;33m\u001b[0m\u001b[0m\n\u001b[0;32m      5\u001b[0m \u001b[1;33m\u001b[0m\u001b[0m\n",
      "\u001b[1;32m~\\Anaconda3\\lib\\site-packages\\rtree\\__init__.py\u001b[0m in \u001b[0;36m<module>\u001b[1;34m\u001b[0m\n\u001b[1;32m----> 1\u001b[1;33m \u001b[1;32mfrom\u001b[0m \u001b[1;33m.\u001b[0m\u001b[0mindex\u001b[0m \u001b[1;32mimport\u001b[0m \u001b[0mRtree\u001b[0m\u001b[1;33m\u001b[0m\u001b[1;33m\u001b[0m\u001b[0m\n\u001b[0m\u001b[0;32m      2\u001b[0m \u001b[1;33m\u001b[0m\u001b[0m\n\u001b[0;32m      3\u001b[0m \u001b[1;32mfrom\u001b[0m \u001b[1;33m.\u001b[0m\u001b[0mcore\u001b[0m \u001b[1;32mimport\u001b[0m \u001b[0mrt\u001b[0m\u001b[1;33m\u001b[0m\u001b[1;33m\u001b[0m\u001b[0m\n\u001b[0;32m      4\u001b[0m \u001b[1;33m\u001b[0m\u001b[0m\n\u001b[0;32m      5\u001b[0m \u001b[0m__version__\u001b[0m \u001b[1;33m=\u001b[0m \u001b[1;34m'0.8.3'\u001b[0m\u001b[1;33m\u001b[0m\u001b[1;33m\u001b[0m\u001b[0m\n",
      "\u001b[1;32m~\\Anaconda3\\lib\\site-packages\\rtree\\index.py\u001b[0m in \u001b[0;36m<module>\u001b[1;34m\u001b[0m\n\u001b[0;32m      3\u001b[0m \u001b[1;32mimport\u001b[0m \u001b[0mpprint\u001b[0m\u001b[1;33m\u001b[0m\u001b[1;33m\u001b[0m\u001b[0m\n\u001b[0;32m      4\u001b[0m \u001b[1;33m\u001b[0m\u001b[0m\n\u001b[1;32m----> 5\u001b[1;33m \u001b[1;32mfrom\u001b[0m \u001b[1;33m.\u001b[0m \u001b[1;32mimport\u001b[0m \u001b[0mcore\u001b[0m\u001b[1;33m\u001b[0m\u001b[1;33m\u001b[0m\u001b[0m\n\u001b[0m\u001b[0;32m      6\u001b[0m \u001b[1;32mimport\u001b[0m \u001b[0mctypes\u001b[0m\u001b[1;33m\u001b[0m\u001b[1;33m\u001b[0m\u001b[0m\n\u001b[0;32m      7\u001b[0m \u001b[1;32mtry\u001b[0m\u001b[1;33m:\u001b[0m\u001b[1;33m\u001b[0m\u001b[1;33m\u001b[0m\u001b[0m\n",
      "\u001b[1;32m~\\Anaconda3\\lib\\site-packages\\rtree\\core.py\u001b[0m in \u001b[0;36m<module>\u001b[1;34m\u001b[0m\n\u001b[0;32m    114\u001b[0m         \u001b[0mrt\u001b[0m \u001b[1;33m=\u001b[0m \u001b[0m_load_library\u001b[0m\u001b[1;33m(\u001b[0m\u001b[1;34m'spatialindex_c.dll'\u001b[0m\u001b[1;33m,\u001b[0m \u001b[0mctypes\u001b[0m\u001b[1;33m.\u001b[0m\u001b[0mcdll\u001b[0m\u001b[1;33m.\u001b[0m\u001b[0mLoadLibrary\u001b[0m\u001b[1;33m)\u001b[0m\u001b[1;33m\u001b[0m\u001b[1;33m\u001b[0m\u001b[0m\n\u001b[0;32m    115\u001b[0m     \u001b[1;32mif\u001b[0m \u001b[1;32mnot\u001b[0m \u001b[0mrt\u001b[0m\u001b[1;33m:\u001b[0m\u001b[1;33m\u001b[0m\u001b[1;33m\u001b[0m\u001b[0m\n\u001b[1;32m--> 116\u001b[1;33m         \u001b[1;32mraise\u001b[0m \u001b[0mOSError\u001b[0m\u001b[1;33m(\u001b[0m\u001b[1;34m\"could not find or load spatialindex_c.dll\"\u001b[0m\u001b[1;33m)\u001b[0m\u001b[1;33m\u001b[0m\u001b[1;33m\u001b[0m\u001b[0m\n\u001b[0m\u001b[0;32m    117\u001b[0m \u001b[1;33m\u001b[0m\u001b[0m\n\u001b[0;32m    118\u001b[0m \u001b[1;32melif\u001b[0m \u001b[0mos\u001b[0m\u001b[1;33m.\u001b[0m\u001b[0mname\u001b[0m \u001b[1;33m==\u001b[0m \u001b[1;34m'posix'\u001b[0m\u001b[1;33m:\u001b[0m\u001b[1;33m\u001b[0m\u001b[1;33m\u001b[0m\u001b[0m\n",
      "\u001b[1;31mOSError\u001b[0m: could not find or load spatialindex_c.dll"
     ]
    }
   ],
   "source": [
    "from rtree import index\n",
    "\n",
    "def r_tree():\n",
    "    idx = index.Index()\n",
    "\n",
    "    for entry in line_segments.iterrows():\n",
    "        ls_id = entry[0]\n",
    "        lon1, lat1 = entry[1]['lon1'], entry[1]['lat1']\n",
    "        lon2, lat2 = entry[1]['lon2'], entry[1]['lat2']\n",
    "        min_x = min(lon1, lon2)\n",
    "        max_x = max(lon1, lon2)\n",
    "        min_y = min(lat1, lat2)\n",
    "        max_y = max(lat1, lat2)\n",
    "        idx.insert(ls_id, (min_x - 0.001, min_y - 0.001, max_x + 0.001, max_y + 0.001))\n",
    "\n",
    "    return idx\n",
    "\n",
    "    '''\n",
    "    a = list(idx.intersection((-8.610876, 41.145570 , -8.608857, 41.147259)))\n",
    "    a.sort() \n",
    "    print(a)\n",
    "    '''\n",
    "\n"
   ]
  },
  {
   "cell_type": "code",
   "execution_count": 24,
   "metadata": {},
   "outputs": [],
   "source": [
    "'''\n",
    "Berechnet die Nachbarschaft indem die Distanz der Input Line mit allen anderen Linien verglichen wird:\n",
    "The ε-neighborhood Nε(Li) of a line segment Li ∈DisdefinedbyNε(Li)={Lj ∈D|dist(Li,Lj)≤ε\n",
    "'''\n",
    "# Compute Nε(L);\n",
    "def neighborhood(line, cluster_id, extended, rtree): \n",
    "    neighbors = pd.DataFrame(columns=['lon1', 'lat1', 'tstart1', 'tend1', 'lon2', 'lat2', 'tstart2', 'tend2', 'distance', 'bearing', 'route', 'classified'])\n",
    "    n_candidates = pd.DataFrame(columns=['lon1', 'lat1', 'tstart1', 'tend1', 'lon2', 'lat2', 'tstart2', 'tend2', 'distance', 'bearing', 'route', 'classified'])\n",
    "\n",
    "    # r tree index\n",
    "    lon1, lat1 = line[1]['lon1'], line[1]['lat1']\n",
    "    lon2, lat2 = line[1]['lon2'], line[1]['lat2']\n",
    "    min_x = min(lon1, lon2)\n",
    "    max_x = max(lon1, lon2)\n",
    "    min_y = min(lat1, lat2)\n",
    "    max_y = max(lat1, lat2)\n",
    "    n_candidates_ids = list(rtree.intersection((min_x, min_y, max_x, max_y)))\n",
    "    n_candidates = line_segments.iloc[n_candidates_ids,:]\n",
    "    \n",
    "    for entry in n_candidates.iterrows():\n",
    "        is_classified = entry[1]['classified']\n",
    "        \n",
    "        if (not extended and is_classified <= 0) or extended:    \n",
    "            if not line[1].equals(entry[1]):\n",
    "                line_longer, line_shorter = longer_and_shorter_lines(line[1], entry[1])\n",
    "                line_a = {'si': [line_longer[0], line_longer[1]], 'ei': [line_longer[4], line_longer[5]]}\n",
    "                line_b = {'sj': [line_shorter[0], line_shorter[1]], 'ej': [line_shorter[4], line_shorter[5]]}\n",
    "                '''\n",
    "                Parameter ε ist aktuell 0.0005\n",
    "                '''\n",
    "                if distance_functions(line_a, line_b) < 0.001:\n",
    "                    # line_segments.set_value(entry[0],'classified',cluster_id)\n",
    "                    neighbors = neighbors.append(entry[1])\n",
    "    return neighbors\n",
    "    "
   ]
  },
  {
   "cell_type": "code",
   "execution_count": 25,
   "metadata": {},
   "outputs": [],
   "source": [
    "# /* Step 2: compute a density-connected set */\n",
    "def expand_cluster(queue, cluster_id, rtree):\n",
    "    global line_segments\n",
    "    # print(\"----------------input queue start----------------\")\n",
    "    # print(queue)\n",
    "    # print(\"----------------input queue ended----------------\")\n",
    "    cluster = pd.DataFrame(columns=['lon1', 'lat1', 'tstart1', 'tend1', 'lon2', 'lat2', 'tstart2', 'tend2', 'distance', 'bearing', 'route', 'classified'])\n",
    "    while queue.shape[0] != 0:\n",
    "        neighbors = pd.DataFrame(columns=['lon1', 'lat1', 'tstart1', 'tend1', 'lon2', 'lat2', 'tstart2', 'tend2', 'distance', 'bearing', 'route', 'classified'])\n",
    "        for entry in queue.iterrows():\n",
    "            # Let M be the first line segment in Q;\n",
    "            m = entry\n",
    "            break\n",
    "        # Compute Nε(M);\n",
    "        neighbors = neighbors.append(neighborhood(m, cluster_id, True, rtree))\n",
    "        neighbor_count = neighbors.shape[0] + 1\n",
    "        # if (|Nε(M)| ≥ MinLns) then\n",
    "        if (neighbor_count >= 3):\n",
    "            for xn in neighbors.iterrows():\n",
    "                #if (X is unclassified or noise) then\n",
    "                if xn[1]['classified'] == -1 or xn[1]['classified'] == 0:\n",
    "                    # line_segments.set_value(xn[0], 'classified', cluster_id)\n",
    "                    # Assign clusterId to X;\n",
    "                    line_segments.at[xn[0],'classified'] = cluster_id\n",
    "                    series = pd.Series({'lon1': float(xn[1][0]), 'lat1': float(xn[1][1]), 'tstart1': float(xn[1][2]), 'tend1': xn[1][3],\n",
    "                          'lon2': float(xn[1][4]), 'lat2': float(xn[1][5]), 'tstart2': float(xn[1][6]), 'tend2': xn[1][7],\n",
    "                          'distance': xn[1][8], 'bearing': xn[1][9], 'route': xn[1][10], 'classified': cluster_id})\n",
    "                    series.name = xn[0]\n",
    "                    cluster = cluster.append(series)\n",
    "                # if (X is unclassified) then\n",
    "                if xn[1]['classified'] == -1:\n",
    "                    # Insert X into the queue Q;\n",
    "                    series = pd.Series({'lon1': float(xn[1][0]), 'lat1': float(xn[1][1]), 'tstart1': float(xn[1][2]), 'tend1': xn[1][3],\n",
    "                          'lon2': float(xn[1][4]), 'lat2': float(xn[1][5]), 'tstart2': float(xn[1][6]), 'tend2': xn[1][7],\n",
    "                          'distance': xn[1][8], 'bearing': xn[1][9], 'route': xn[1][10], 'classified': cluster_id})\n",
    "                    series.name = xn[0]\n",
    "                    queue = queue.append(series)\n",
    "        # Remove M from the queue Q;\n",
    "        queue = queue.iloc[1:]\n",
    "        \n",
    "        # print(\"----------------output queue start----------------\")\n",
    "        # print(queue)\n",
    "        # print(\"----------------output queue ended----------------\")\n",
    "        \n",
    "    # print(\"_-_-_-_-_-_-_-_-_-_-_-_-_-_-_-_-_-_-_-_-_-\")\n",
    "    # print(cluster)\n",
    "    # print(\"_-_-_-_-_-_-_-_-_-_-_-_-_-_-_-_-_-_-_-_-_-\")\n",
    "    return cluster\n",
    "        \n",
    "    "
   ]
  },
  {
   "cell_type": "code",
   "execution_count": 26,
   "metadata": {},
   "outputs": [
    {
     "ename": "NameError",
     "evalue": "name 'r_tree' is not defined",
     "output_type": "error",
     "traceback": [
      "\u001b[1;31m---------------------------------------------------------------------------\u001b[0m",
      "\u001b[1;31mNameError\u001b[0m                                 Traceback (most recent call last)",
      "\u001b[1;32m<ipython-input-26-f0a4b03b092d>\u001b[0m in \u001b[0;36m<module>\u001b[1;34m\u001b[0m\n\u001b[0;32m      9\u001b[0m \u001b[1;33m\u001b[0m\u001b[0m\n\u001b[0;32m     10\u001b[0m \u001b[1;31m# initialize a r-tree as a index\u001b[0m\u001b[1;33m\u001b[0m\u001b[1;33m\u001b[0m\u001b[1;33m\u001b[0m\u001b[0m\n\u001b[1;32m---> 11\u001b[1;33m \u001b[0mrtree\u001b[0m \u001b[1;33m=\u001b[0m \u001b[0mr_tree\u001b[0m\u001b[1;33m(\u001b[0m\u001b[1;33m)\u001b[0m\u001b[1;33m\u001b[0m\u001b[1;33m\u001b[0m\u001b[0m\n\u001b[0m\u001b[0;32m     12\u001b[0m \u001b[1;33m\u001b[0m\u001b[0m\n\u001b[0;32m     13\u001b[0m \u001b[1;31m# /* Step 1 */\u001b[0m\u001b[1;33m\u001b[0m\u001b[1;33m\u001b[0m\u001b[1;33m\u001b[0m\u001b[0m\n",
      "\u001b[1;31mNameError\u001b[0m: name 'r_tree' is not defined"
     ]
    }
   ],
   "source": [
    "'''\n",
    "benchmark beginns\n",
    "'''\n",
    "start_time = current_milli_time()\n",
    "\n",
    "global line_segments\n",
    "\n",
    "np.seterr(invalid='ignore', divide='ignore')\n",
    "\n",
    "# initialize a r-tree as a index\n",
    "rtree = r_tree()\n",
    "\n",
    "# /* Step 1 */\n",
    "# Set clusterId to be 0; /* an initial id */\n",
    "cluster_id = 1\n",
    "line_segments['classified'] = -1\n",
    "neighbors = pd.DataFrame(columns=['lon1', 'lat1', 'tstart1', 'tend1', 'lon2', 'lat2', 'tstart2', 'tend2', 'distance', 'bearing', 'route', 'classified'])\n",
    "queue = pd.DataFrame(columns=['lon1', 'lat1', 'tstart1', 'tend1', 'lon2', 'lat2', 'tstart2', 'tend2', 'distance', 'bearing', 'route', 'classified'])\n",
    "clusters = []\n",
    "\n",
    "'''\n",
    "die Spalte classified der Dataframes kann folgende Werte besitzen:\n",
    "-1 := unclassified\n",
    "-2 := noise\n",
    ">= 0 := die entsprechende Segmente (Cluster)\n",
    "\n",
    "Output dieser Zelle:\n",
    "1.) Modifiziertes Dataframe der line_segments (Ausgangsdaten der test_lts.csv) mit der Routennummer und classified Status\n",
    "2.) cluster: eine Liste mit Dataframes, die die Segmente (Cluster) darstellen\n",
    "'''\n",
    "\n",
    "for entry in line_segments.iterrows():\n",
    "    entry = (entry[0], line_segments.loc[[entry[0]]].iloc[0])\n",
    "    is_classified = entry[1]['classified']\n",
    "    if is_classified == -1:\n",
    "        # Compute Nε(L);\n",
    "        neighbors = neighbors.append(entry[1])\n",
    "        neighbors = neighbors.append(neighborhood(entry, cluster_id, False, rtree))\n",
    "        neighbor_count = neighbors.shape[0]\n",
    "        '''\n",
    "        Parameter MinLns ist aktuell 3\n",
    "        '''\n",
    "        if neighbor_count >= 3:\n",
    "            # Assign clusterId to ∀X ∈ Nε(L);\n",
    "            neighbors['classified'] = cluster_id\n",
    "            # line_segments.set_value(entry[0], 'classified' , cluster_id)\n",
    "            line_segments.at[entry[0],'classified'] = cluster_id\n",
    "            # Insert Nε(L) − {L} into the queue Q;\n",
    "            queue = queue.append(neighbors.tail(neighbor_count - 1))\n",
    "            # /* Step 2 */\n",
    "            neighbors = neighbors.append(expand_cluster(queue, cluster_id, rtree))\n",
    "            # print(\"????????????????????????????\")\n",
    "            # print(neighbors)\n",
    "            # print(\"????????????????????????????\")\n",
    "            for index in neighbors.index.values.tolist():\n",
    "                line_segments.set_value(index, 'classified' , cluster_id)\n",
    "            neighbors.drop_duplicates(keep='first', inplace=True)\n",
    "            '''\n",
    "            clusters ist eine Liste mit allen Linien eines gemeinsamen Segments\n",
    "            '''\n",
    "            clusters.append(neighbors)\n",
    "            # Increase clusterId by 1; /* a new id */\n",
    "            cluster_id += 1\n",
    "        else:\n",
    "            # Mark L as noise;\n",
    "            # line_segments.set_value(entry[0],'classified', -2)\n",
    "            line_segments.at[entry[0],'classified'] = 0\n",
    "            if entry[0] == 4:\n",
    "                print(\"What should i do? First\")\n",
    "                \n",
    "    neighbors = neighbors.iloc[0:0]\n",
    "    queue = queue.iloc[0:0]\n",
    "    \n",
    "    '''\n",
    "    Aktuell auf 4 Segmente (Cluster) beschränkt (aus Testzwecken / Performance)\n",
    "    \n",
    "    if cluster_id == 5:\n",
    "        break\n",
    "    '''\n",
    "'''\n",
    "benchmark ends\n",
    "'''\n",
    "time = (current_milli_time() - start_time) \n",
    "print(\"----------Line Segment Clustering: BEGIN----------\")\n",
    "print(\"time consumption in ms: {}\".format(time))\n",
    "print(\"----------Line Segment Clustering: END----------\")\n"
   ]
  },
  {
   "cell_type": "code",
   "execution_count": 27,
   "metadata": {},
   "outputs": [
    {
     "ename": "NameError",
     "evalue": "name 'clusters' is not defined",
     "output_type": "error",
     "traceback": [
      "\u001b[1;31m---------------------------------------------------------------------------\u001b[0m",
      "\u001b[1;31mNameError\u001b[0m                                 Traceback (most recent call last)",
      "\u001b[1;32m<ipython-input-27-cebb63b8c296>\u001b[0m in \u001b[0;36m<module>\u001b[1;34m\u001b[0m\n\u001b[0;32m      4\u001b[0m \u001b[0mfinal_cluster\u001b[0m \u001b[1;33m=\u001b[0m \u001b[1;33m[\u001b[0m\u001b[1;33m]\u001b[0m\u001b[1;33m\u001b[0m\u001b[1;33m\u001b[0m\u001b[0m\n\u001b[0;32m      5\u001b[0m \u001b[1;33m\u001b[0m\u001b[0m\n\u001b[1;32m----> 6\u001b[1;33m \u001b[1;32mfor\u001b[0m \u001b[0msegment\u001b[0m \u001b[1;32min\u001b[0m \u001b[0mclusters\u001b[0m\u001b[1;33m:\u001b[0m\u001b[1;33m\u001b[0m\u001b[1;33m\u001b[0m\u001b[0m\n\u001b[0m\u001b[0;32m      7\u001b[0m     \u001b[1;31m# print(segment)\u001b[0m\u001b[1;33m\u001b[0m\u001b[1;33m\u001b[0m\u001b[1;33m\u001b[0m\u001b[0m\n\u001b[0;32m      8\u001b[0m     \u001b[1;31m# print(segment.route.nunique())\u001b[0m\u001b[1;33m\u001b[0m\u001b[1;33m\u001b[0m\u001b[1;33m\u001b[0m\u001b[0m\n",
      "\u001b[1;31mNameError\u001b[0m: name 'clusters' is not defined"
     ]
    }
   ],
   "source": [
    "# /* Step 3 */\n",
    "# /* check the trajectory cardinality */\n",
    "\n",
    "final_cluster = []\n",
    "\n",
    "for segment in clusters:\n",
    "    # print(segment)\n",
    "    # print(segment.route.nunique())\n",
    "    '''\n",
    "    Parameter MinLns ist aktuell 3\n",
    "    '''\n",
    "    # if (|PTR(C)| < MinLns) then\n",
    "    if segment.route.nunique() >= 3:\n",
    "        # Remove C from the set O of clusters;\n",
    "        final_cluster.append(segment)\n",
    "        \n",
    "print(\"----\")\n",
    "for segment in final_cluster:\n",
    "    print(segment.route.nunique())"
   ]
  },
  {
   "cell_type": "markdown",
   "metadata": {},
   "source": [
    "#### data comparison"
   ]
  },
  {
   "cell_type": "code",
   "execution_count": 28,
   "metadata": {},
   "outputs": [
    {
     "data": {
      "text/plain": [
       "<Figure size 432x288 with 0 Axes>"
      ]
     },
     "metadata": {},
     "output_type": "display_data"
    },
    {
     "name": "stdout",
     "output_type": "stream",
     "text": [
      "----------cluster via search: BEGIN----------\n",
      "time consumption in ms: 4\n",
      "----------cluster via search(...): END----------\n"
     ]
    }
   ],
   "source": [
    "'''\n",
    "benchmark beginns\n",
    "'''\n",
    "start_time = current_milli_time()\n",
    "\n",
    "fig = plt.figure()\n",
    "for entry in line_segments.iterrows():\n",
    "    '''\n",
    "    Das Ändern der 1 in der if-Abfrage, ändert das Testcluster \n",
    "    '''\n",
    "    if entry[1]['classified'] == 80:        \n",
    "        # plot\n",
    "        lon = [entry[1][0], entry[1][4]]\n",
    "        lat = [entry[1][1], entry[1][5]]\n",
    "        plt.plot(lon, lat)\n",
    "#lon = [-8.608857000310614, -8.608179000357707]\n",
    "#lat = [41.14725900005238, 41.148348000069426]\n",
    "#plt.plot(lon, lat, 'ro')\n",
    "#plt.plot(lon, lat, 'r')\n",
    "\n",
    "#lon = [-8.60736600000288, -8.606358]\n",
    "#lat = [41.14992000000163, 41.151915]\n",
    "#plt.plot(lon, lat, 'bo')\n",
    "#plt.plot(lon, lat, 'b')\n",
    "\n",
    "plt.show()\n",
    "\n",
    "'''\n",
    "benchmark ends\n",
    "'''\n",
    "time = (current_milli_time() - start_time) \n",
    "print(\"----------cluster via search: BEGIN----------\")\n",
    "print(\"time consumption in ms: {}\".format(time))\n",
    "print(\"----------cluster via search(...): END----------\")"
   ]
  },
  {
   "cell_type": "code",
   "execution_count": 29,
   "metadata": {},
   "outputs": [
    {
     "ename": "NameError",
     "evalue": "name 'clusters' is not defined",
     "output_type": "error",
     "traceback": [
      "\u001b[1;31m---------------------------------------------------------------------------\u001b[0m",
      "\u001b[1;31mNameError\u001b[0m                                 Traceback (most recent call last)",
      "\u001b[1;32m<ipython-input-29-ec168bd46daa>\u001b[0m in \u001b[0;36m<module>\u001b[1;34m\u001b[0m\n\u001b[0;32m      6\u001b[0m \u001b[0mfig\u001b[0m \u001b[1;33m=\u001b[0m \u001b[0mplt\u001b[0m\u001b[1;33m.\u001b[0m\u001b[0mfigure\u001b[0m\u001b[1;33m(\u001b[0m\u001b[1;33m)\u001b[0m\u001b[1;33m\u001b[0m\u001b[1;33m\u001b[0m\u001b[0m\n\u001b[0;32m      7\u001b[0m \u001b[0mcounter\u001b[0m \u001b[1;33m=\u001b[0m \u001b[1;36m1\u001b[0m\u001b[1;33m\u001b[0m\u001b[1;33m\u001b[0m\u001b[0m\n\u001b[1;32m----> 8\u001b[1;33m \u001b[1;32mfor\u001b[0m \u001b[0mentry\u001b[0m \u001b[1;32min\u001b[0m \u001b[0mclusters\u001b[0m\u001b[1;33m:\u001b[0m\u001b[1;33m\u001b[0m\u001b[1;33m\u001b[0m\u001b[0m\n\u001b[0m\u001b[0;32m      9\u001b[0m     '''\n\u001b[0;32m     10\u001b[0m     \u001b[0mDas\u001b[0m \u001b[0mÄndern\u001b[0m \u001b[0mder\u001b[0m \u001b[1;36m1\u001b[0m \u001b[1;32min\u001b[0m \u001b[0mder\u001b[0m \u001b[1;32mif\u001b[0m\u001b[1;33m-\u001b[0m\u001b[0mAbfrage\u001b[0m\u001b[1;33m,\u001b[0m \u001b[0mändert\u001b[0m \u001b[0mdas\u001b[0m \u001b[0mTestcluster\u001b[0m\u001b[1;33m\u001b[0m\u001b[1;33m\u001b[0m\u001b[0m\n",
      "\u001b[1;31mNameError\u001b[0m: name 'clusters' is not defined"
     ]
    },
    {
     "data": {
      "text/plain": [
       "<Figure size 432x288 with 0 Axes>"
      ]
     },
     "metadata": {},
     "output_type": "display_data"
    }
   ],
   "source": [
    "'''\n",
    "benchmark beginns\n",
    "'''\n",
    "start_time = current_milli_time()\n",
    "\n",
    "fig = plt.figure()\n",
    "counter = 1\n",
    "for entry in clusters:\n",
    "    '''\n",
    "    Das Ändern der 1 in der if-Abfrage, ändert das Testcluster \n",
    "    '''\n",
    "    if counter == 3:\n",
    "        print(entry)\n",
    "        for data in entry.iterrows():\n",
    "            # plot\n",
    "            lon = [data[1][0], data[1][4]]\n",
    "            lat = [data[1][1], data[1][5]]\n",
    "            plt.plot(lon, lat)\n",
    "    counter += 1\n",
    "plt.show()\n",
    "\n",
    "'''\n",
    "benchmark ends\n",
    "'''\n",
    "time = (current_milli_time() - start_time) \n",
    "print(\"----------cluster via list: BEGIN----------\")\n",
    "print(\"time consumption in ms: {}\".format(time))\n",
    "print(\"----------cluster via list: END----------\")"
   ]
  },
  {
   "cell_type": "code",
   "execution_count": 30,
   "metadata": {},
   "outputs": [
    {
     "ename": "NameError",
     "evalue": "name 'mplleaflet' is not defined",
     "output_type": "error",
     "traceback": [
      "\u001b[1;31m---------------------------------------------------------------------------\u001b[0m",
      "\u001b[1;31mNameError\u001b[0m                                 Traceback (most recent call last)",
      "\u001b[1;32m<ipython-input-30-3f32ad87be6d>\u001b[0m in \u001b[0;36m<module>\u001b[1;34m\u001b[0m\n\u001b[1;32m----> 1\u001b[1;33m \u001b[0mmplleaflet\u001b[0m\u001b[1;33m.\u001b[0m\u001b[0mdisplay\u001b[0m\u001b[1;33m(\u001b[0m\u001b[0mfig\u001b[0m\u001b[1;33m=\u001b[0m\u001b[0mfig\u001b[0m\u001b[1;33m)\u001b[0m\u001b[1;33m\u001b[0m\u001b[1;33m\u001b[0m\u001b[0m\n\u001b[0m",
      "\u001b[1;31mNameError\u001b[0m: name 'mplleaflet' is not defined"
     ]
    }
   ],
   "source": [
    "mplleaflet.display(fig=fig)"
   ]
  },
  {
   "cell_type": "markdown",
   "metadata": {},
   "source": [
    "### Representative Trajectory Generation"
   ]
  },
  {
   "cell_type": "code",
   "execution_count": 31,
   "metadata": {},
   "outputs": [
    {
     "ename": "NameError",
     "evalue": "name 'clusters' is not defined",
     "output_type": "error",
     "traceback": [
      "\u001b[1;31m---------------------------------------------------------------------------\u001b[0m",
      "\u001b[1;31mNameError\u001b[0m                                 Traceback (most recent call last)",
      "\u001b[1;32m<ipython-input-31-b97c5bb25935>\u001b[0m in \u001b[0;36m<module>\u001b[1;34m\u001b[0m\n\u001b[0;32m      9\u001b[0m \u001b[0mfig\u001b[0m \u001b[1;33m=\u001b[0m \u001b[0mplt\u001b[0m\u001b[1;33m.\u001b[0m\u001b[0mfigure\u001b[0m\u001b[1;33m(\u001b[0m\u001b[1;33m)\u001b[0m\u001b[1;33m\u001b[0m\u001b[1;33m\u001b[0m\u001b[0m\n\u001b[0;32m     10\u001b[0m \u001b[1;33m\u001b[0m\u001b[0m\n\u001b[1;32m---> 11\u001b[1;33m \u001b[1;32mfor\u001b[0m \u001b[0mentry\u001b[0m \u001b[1;32min\u001b[0m \u001b[0mclusters\u001b[0m\u001b[1;33m:\u001b[0m\u001b[1;33m\u001b[0m\u001b[1;33m\u001b[0m\u001b[0m\n\u001b[0m\u001b[0;32m     12\u001b[0m     '''\n\u001b[0;32m     13\u001b[0m     \u001b[0mDas\u001b[0m \u001b[0mÄndern\u001b[0m \u001b[0mder\u001b[0m \u001b[1;36m1\u001b[0m \u001b[1;32min\u001b[0m \u001b[0mder\u001b[0m \u001b[1;32mif\u001b[0m\u001b[1;33m-\u001b[0m\u001b[0mAbfrage\u001b[0m\u001b[1;33m,\u001b[0m \u001b[0mändert\u001b[0m \u001b[0mdas\u001b[0m \u001b[0mTestcluster\u001b[0m\u001b[1;33m\u001b[0m\u001b[1;33m\u001b[0m\u001b[0m\n",
      "\u001b[1;31mNameError\u001b[0m: name 'clusters' is not defined"
     ]
    },
    {
     "data": {
      "text/plain": [
       "<Figure size 432x288 with 0 Axes>"
      ]
     },
     "metadata": {},
     "output_type": "display_data"
    }
   ],
   "source": [
    "'''\n",
    "simple linear regression \n",
    "'''\n",
    "\n",
    "from sklearn.linear_model import LinearRegression\n",
    "\n",
    "\n",
    "counter = 0\n",
    "fig = plt.figure()\n",
    "\n",
    "for entry in clusters:\n",
    "    '''\n",
    "    Das Ändern der 1 in der if-Abfrage, ändert das Testcluster \n",
    "    '''\n",
    "    if counter != -1:\n",
    "        lon1_list = entry['lon1'].values.tolist()\n",
    "        lon2_list = entry['lon2'].values.tolist()\n",
    "        lon1_list.extend(lon2_list)\n",
    "        x_list = np.array(lon1_list).reshape(-1, 1)\n",
    "        lat1_list = entry['lat1'].values.tolist()\n",
    "        lat2_list = entry['lat2'].values.tolist()\n",
    "        lat1_list.extend(lat2_list)\n",
    "        y_list = np.array(lat1_list).reshape(-1, 1)\n",
    "        \n",
    "        linear_regressor = LinearRegression()  # create object for the class\n",
    "        linear_regressor.fit(x_list, y_list)  # perform linear regression\n",
    "        Y_pred = linear_regressor.predict(x_list)  # make predictions\n",
    "\n",
    "        # plt.plot(x_list, y_list, 'bo')\n",
    "        plt.plot(x_list, Y_pred, color='red')\n",
    "\n",
    "    counter += 1\n",
    "plt.show()"
   ]
  },
  {
   "cell_type": "code",
   "execution_count": null,
   "metadata": {},
   "outputs": [],
   "source": [
    "mplleaflet.show(fig=fig)"
   ]
  },
  {
   "cell_type": "code",
   "execution_count": null,
   "metadata": {},
   "outputs": [],
   "source": [
    "'''\n",
    "Schreibt das modifizierte Dataframe der line_segments in eine neue CSV (test_seg.csv)\n",
    "'''\n",
    "\n",
    "\n",
    "\n",
    "'''\n",
    "benchmark beginns\n",
    "'''\n",
    "start_time = current_milli_time()\n",
    "\n",
    "print(line_segments)\n",
    "# line_segments.to_csv('test_seg.csv', header=True, sep=';', mode='w')  # header = 'False', index = 'True')\n",
    "\n",
    "inputSP = ''\n",
    "eins = ' -1 '\n",
    "zwei = '-2\\n'\n",
    "route = 2\n",
    "for entry in line_segments.iterrows():\n",
    "    if( entry[1]['route'] == route):\n",
    "        cluster = str(entry[1]['classified'])\n",
    "        inputSP = inputSP + cluster\n",
    "        inputSP = inputSP + eins\n",
    "        #print('if:' + cluster + 'String: ' + inputSP)\n",
    "    else:\n",
    "        route += 1\n",
    "        cluster = str(entry[1]['classified'])\n",
    "        inputSP = inputSP + zwei + cluster + eins\n",
    "        #print('else:' + cluster + 'String: ' + inputSP)\n",
    "        \n",
    "print(inputSP)        \n",
    "        \n",
    "        #.join(['num' for num in xrange(loop_count)])\n",
    "\n",
    "\n",
    "'''\n",
    "benchmark ends\n",
    "'''\n",
    "time = (current_milli_time() - start_time) \n",
    "print(\"----------write_to_csv(...): BEGIN----------\")\n",
    "print(\"time consumption in ms: {}\".format(time))\n",
    "print(\"----------write_to_csv(...): END----------\")"
   ]
  },
  {
   "cell_type": "code",
   "execution_count": 32,
   "metadata": {},
   "outputs": [
    {
     "ename": "OSError",
     "evalue": "could not find or load spatialindex_c.dll",
     "output_type": "error",
     "traceback": [
      "\u001b[1;31m---------------------------------------------------------------------------\u001b[0m",
      "\u001b[1;31mOSError\u001b[0m                                   Traceback (most recent call last)",
      "\u001b[1;32m<ipython-input-32-c815741c6fbb>\u001b[0m in \u001b[0;36m<module>\u001b[1;34m\u001b[0m\n\u001b[1;32m----> 1\u001b[1;33m \u001b[1;32mfrom\u001b[0m \u001b[0mrtree\u001b[0m \u001b[1;32mimport\u001b[0m \u001b[0mindex\u001b[0m\u001b[1;33m\u001b[0m\u001b[1;33m\u001b[0m\u001b[0m\n\u001b[0m\u001b[0;32m      2\u001b[0m \u001b[0midx\u001b[0m \u001b[1;33m=\u001b[0m \u001b[0mindex\u001b[0m\u001b[1;33m.\u001b[0m\u001b[0mIndex\u001b[0m\u001b[1;33m(\u001b[0m\u001b[1;33m)\u001b[0m\u001b[1;33m\u001b[0m\u001b[1;33m\u001b[0m\u001b[0m\n\u001b[0;32m      3\u001b[0m \u001b[1;33m\u001b[0m\u001b[0m\n\u001b[0;32m      4\u001b[0m \u001b[1;32mfor\u001b[0m \u001b[0mentry\u001b[0m \u001b[1;32min\u001b[0m \u001b[0mline_segments\u001b[0m\u001b[1;33m.\u001b[0m\u001b[0miterrows\u001b[0m\u001b[1;33m(\u001b[0m\u001b[1;33m)\u001b[0m\u001b[1;33m:\u001b[0m\u001b[1;33m\u001b[0m\u001b[1;33m\u001b[0m\u001b[0m\n\u001b[0;32m      5\u001b[0m     \u001b[0mls_id\u001b[0m \u001b[1;33m=\u001b[0m \u001b[0mentry\u001b[0m\u001b[1;33m[\u001b[0m\u001b[1;36m0\u001b[0m\u001b[1;33m]\u001b[0m\u001b[1;33m\u001b[0m\u001b[1;33m\u001b[0m\u001b[0m\n",
      "\u001b[1;32m~\\Anaconda3\\lib\\site-packages\\rtree\\__init__.py\u001b[0m in \u001b[0;36m<module>\u001b[1;34m\u001b[0m\n\u001b[1;32m----> 1\u001b[1;33m \u001b[1;32mfrom\u001b[0m \u001b[1;33m.\u001b[0m\u001b[0mindex\u001b[0m \u001b[1;32mimport\u001b[0m \u001b[0mRtree\u001b[0m\u001b[1;33m\u001b[0m\u001b[1;33m\u001b[0m\u001b[0m\n\u001b[0m\u001b[0;32m      2\u001b[0m \u001b[1;33m\u001b[0m\u001b[0m\n\u001b[0;32m      3\u001b[0m \u001b[1;32mfrom\u001b[0m \u001b[1;33m.\u001b[0m\u001b[0mcore\u001b[0m \u001b[1;32mimport\u001b[0m \u001b[0mrt\u001b[0m\u001b[1;33m\u001b[0m\u001b[1;33m\u001b[0m\u001b[0m\n\u001b[0;32m      4\u001b[0m \u001b[1;33m\u001b[0m\u001b[0m\n\u001b[0;32m      5\u001b[0m \u001b[0m__version__\u001b[0m \u001b[1;33m=\u001b[0m \u001b[1;34m'0.8.3'\u001b[0m\u001b[1;33m\u001b[0m\u001b[1;33m\u001b[0m\u001b[0m\n",
      "\u001b[1;32m~\\Anaconda3\\lib\\site-packages\\rtree\\index.py\u001b[0m in \u001b[0;36m<module>\u001b[1;34m\u001b[0m\n\u001b[0;32m      3\u001b[0m \u001b[1;32mimport\u001b[0m \u001b[0mpprint\u001b[0m\u001b[1;33m\u001b[0m\u001b[1;33m\u001b[0m\u001b[0m\n\u001b[0;32m      4\u001b[0m \u001b[1;33m\u001b[0m\u001b[0m\n\u001b[1;32m----> 5\u001b[1;33m \u001b[1;32mfrom\u001b[0m \u001b[1;33m.\u001b[0m \u001b[1;32mimport\u001b[0m \u001b[0mcore\u001b[0m\u001b[1;33m\u001b[0m\u001b[1;33m\u001b[0m\u001b[0m\n\u001b[0m\u001b[0;32m      6\u001b[0m \u001b[1;32mimport\u001b[0m \u001b[0mctypes\u001b[0m\u001b[1;33m\u001b[0m\u001b[1;33m\u001b[0m\u001b[0m\n\u001b[0;32m      7\u001b[0m \u001b[1;32mtry\u001b[0m\u001b[1;33m:\u001b[0m\u001b[1;33m\u001b[0m\u001b[1;33m\u001b[0m\u001b[0m\n",
      "\u001b[1;32m~\\Anaconda3\\lib\\site-packages\\rtree\\core.py\u001b[0m in \u001b[0;36m<module>\u001b[1;34m\u001b[0m\n\u001b[0;32m    114\u001b[0m         \u001b[0mrt\u001b[0m \u001b[1;33m=\u001b[0m \u001b[0m_load_library\u001b[0m\u001b[1;33m(\u001b[0m\u001b[1;34m'spatialindex_c.dll'\u001b[0m\u001b[1;33m,\u001b[0m \u001b[0mctypes\u001b[0m\u001b[1;33m.\u001b[0m\u001b[0mcdll\u001b[0m\u001b[1;33m.\u001b[0m\u001b[0mLoadLibrary\u001b[0m\u001b[1;33m)\u001b[0m\u001b[1;33m\u001b[0m\u001b[1;33m\u001b[0m\u001b[0m\n\u001b[0;32m    115\u001b[0m     \u001b[1;32mif\u001b[0m \u001b[1;32mnot\u001b[0m \u001b[0mrt\u001b[0m\u001b[1;33m:\u001b[0m\u001b[1;33m\u001b[0m\u001b[1;33m\u001b[0m\u001b[0m\n\u001b[1;32m--> 116\u001b[1;33m         \u001b[1;32mraise\u001b[0m \u001b[0mOSError\u001b[0m\u001b[1;33m(\u001b[0m\u001b[1;34m\"could not find or load spatialindex_c.dll\"\u001b[0m\u001b[1;33m)\u001b[0m\u001b[1;33m\u001b[0m\u001b[1;33m\u001b[0m\u001b[0m\n\u001b[0m\u001b[0;32m    117\u001b[0m \u001b[1;33m\u001b[0m\u001b[0m\n\u001b[0;32m    118\u001b[0m \u001b[1;32melif\u001b[0m \u001b[0mos\u001b[0m\u001b[1;33m.\u001b[0m\u001b[0mname\u001b[0m \u001b[1;33m==\u001b[0m \u001b[1;34m'posix'\u001b[0m\u001b[1;33m:\u001b[0m\u001b[1;33m\u001b[0m\u001b[1;33m\u001b[0m\u001b[0m\n",
      "\u001b[1;31mOSError\u001b[0m: could not find or load spatialindex_c.dll"
     ]
    }
   ],
   "source": [
    "from rtree import index\n",
    "idx = index.Index()\n",
    "\n",
    "for entry in line_segments.iterrows():\n",
    "    ls_id = entry[0]\n",
    "    lon1, lat1 = entry[1]['lon1'], entry[1]['lat1']\n",
    "    lon2, lat2 = entry[1]['lon2'], entry[1]['lat2']\n",
    "    min_x = min(lon1, lon2)\n",
    "    max_x = max(lon1, lon2)\n",
    "    min_y = min(lat1, lat2)\n",
    "    max_y = max(lat1, lat2)\n",
    "    idx.insert(ls_id, (min_x, min_y, max_x, max_y))\n",
    "\n",
    "a = list(idx.intersection((-8.608857000310614, 41.14725900005238 , -8.608179000357707, 41.148348000069426)))\n",
    "b = list(idx.nearest((-8.608857000310614, 41.14725900005238 , -8.608179000357707, 41.148348000069426), 10))\n",
    "a.sort() \n",
    "b.sort() \n",
    "print(a)\n",
    "print(b)\n"
   ]
  },
  {
   "cell_type": "markdown",
   "metadata": {},
   "source": [
    "### ----------------------------------------------------------------------------------------------------------------------------------"
   ]
  },
  {
   "cell_type": "code",
   "execution_count": 33,
   "metadata": {},
   "outputs": [],
   "source": [
    "routes = []\n",
    "points = pd.DataFrame(columns=['lon', 'lat', 'tstart', 'tend'])\n",
    "p_points = pd.DataFrame(columns=['lon', 'lat', 'tstart', 'tend'])\n",
    "with open('test_lts.csv') as csv_file:\n",
    "    csv_reader = csv.reader(csv_file, delimiter=';')\n",
    "    header = True\n",
    "    p_index = -1\n",
    "    for row in csv_reader:\n",
    "        #polt_point_data = route[['lon', 'lat']].values\n",
    "        if header == True:\n",
    "            header = False\n",
    "        else:\n",
    "            if p_index >= 0 and int(row[0]) == 0:\n",
    "                p_points = p_points.append(df_alt, ignore_index=True)\n",
    "                routes.append(p_points)\n",
    "                points = pd.DataFrame(columns=['lon', 'lat', 'tstart', 'tend'])\n",
    "            df = {'lon': float(row[1]), 'lat': float(row[2]), 'tstart': float(row[3]), 'tend': row[4]}\n",
    "            df_alt = {'lon': float(row[5]), 'lat': float(row[6]), 'tstart': float(row[7]), 'tend': row[8]}\n",
    "            points = points.append(df, ignore_index=True)\n",
    "            p_index = int(row[0])\n",
    "            p_points = points"
   ]
  },
  {
   "cell_type": "code",
   "execution_count": 34,
   "metadata": {},
   "outputs": [
    {
     "data": {
      "text/plain": [
       "<Figure size 432x288 with 0 Axes>"
      ]
     },
     "metadata": {},
     "output_type": "display_data"
    }
   ],
   "source": [
    "fig = plt.figure()\n",
    "counter = 0\n",
    "for test in routes:\n",
    "    \n",
    "    plot = test[['lon', 'lat']].values\n",
    "    plt.plot(plot[:,0], plot[:,1])\n",
    "    plt.plot(plot[:,0], plot[:,1], 'ro', markersize=3)\n",
    "    counter += 1\n",
    "plt.show()"
   ]
  },
  {
   "cell_type": "code",
   "execution_count": 35,
   "metadata": {},
   "outputs": [
    {
     "ename": "NameError",
     "evalue": "name 'mplleaflet' is not defined",
     "output_type": "error",
     "traceback": [
      "\u001b[1;31m---------------------------------------------------------------------------\u001b[0m",
      "\u001b[1;31mNameError\u001b[0m                                 Traceback (most recent call last)",
      "\u001b[1;32m<ipython-input-35-1f3c1460f7b3>\u001b[0m in \u001b[0;36m<module>\u001b[1;34m\u001b[0m\n\u001b[1;32m----> 1\u001b[1;33m \u001b[0mmplleaflet\u001b[0m\u001b[1;33m.\u001b[0m\u001b[0mshow\u001b[0m\u001b[1;33m(\u001b[0m\u001b[0mfig\u001b[0m\u001b[1;33m=\u001b[0m\u001b[0mfig\u001b[0m\u001b[1;33m)\u001b[0m\u001b[1;33m\u001b[0m\u001b[1;33m\u001b[0m\u001b[0m\n\u001b[0m",
      "\u001b[1;31mNameError\u001b[0m: name 'mplleaflet' is not defined"
     ]
    }
   ],
   "source": [
    "mplleaflet.show(fig=fig)"
   ]
  },
  {
   "cell_type": "markdown",
   "metadata": {},
   "source": [
    "### 2.4.3. Segment"
   ]
  },
  {
   "cell_type": "markdown",
   "metadata": {},
   "source": [
    "#### testdata and ploting"
   ]
  },
  {
   "cell_type": "code",
   "execution_count": 36,
   "metadata": {},
   "outputs": [],
   "source": [
    "l1_lon = [13.333203, 13.323440]\n",
    "l1_lat = [52.513379, 52.512739]\n",
    "r4_lon = [13.323687, 13.324814, 13.325855]\n",
    "r4_lat = [52.512674, 52.512680, 52.512876]\n",
    "r2_lon = [13.333053, 13.329931, 13.329727, 13.327174, 13.325543]\n",
    "r2_lat = [52.513470, 52.513235, 52.513052, 52.512876, 52.513020]\n",
    "r3_lon = [13.327722, 13.330393, 13.331648, 13.333343]\n",
    "r3_lat = [52.513202, 52.513000, 52.513209, 52.513777]"
   ]
  },
  {
   "cell_type": "code",
   "execution_count": 37,
   "metadata": {},
   "outputs": [
    {
     "data": {
      "text/plain": [
       "[<matplotlib.lines.Line2D at 0x267a21e1f98>]"
      ]
     },
     "execution_count": 37,
     "metadata": {},
     "output_type": "execute_result"
    },
    {
     "data": {
      "image/png": "[encoded data removed]",
      "text/plain": [
       "<Figure size 432x288 with 1 Axes>"
      ]
     },
     "metadata": {
      "needs_background": "light"
     },
     "output_type": "display_data"
    }
   ],
   "source": [
    "fig = plt.figure()\n",
    "plt.plot(l1_lon, l1_lat)\n",
    "plt.plot(r2_lon, r2_lat)\n",
    "plt.plot(r3_lon, r3_lat)\n",
    "plt.plot(r4_lon, r4_lat)\n",
    "plt.plot(l1_lon, l1_lat, 'ro')\n",
    "plt.plot(r2_lon, r2_lat, 'ro')\n",
    "plt.plot(r3_lon, r3_lat, 'ro')\n",
    "plt.plot(r4_lon, r4_lat, 'ro')\n"
   ]
  },
  {
   "cell_type": "code",
   "execution_count": 38,
   "metadata": {},
   "outputs": [
    {
     "ename": "NameError",
     "evalue": "name 'mplleaflet' is not defined",
     "output_type": "error",
     "traceback": [
      "\u001b[1;31m---------------------------------------------------------------------------\u001b[0m",
      "\u001b[1;31mNameError\u001b[0m                                 Traceback (most recent call last)",
      "\u001b[1;32m<ipython-input-38-3f32ad87be6d>\u001b[0m in \u001b[0;36m<module>\u001b[1;34m\u001b[0m\n\u001b[1;32m----> 1\u001b[1;33m \u001b[0mmplleaflet\u001b[0m\u001b[1;33m.\u001b[0m\u001b[0mdisplay\u001b[0m\u001b[1;33m(\u001b[0m\u001b[0mfig\u001b[0m\u001b[1;33m=\u001b[0m\u001b[0mfig\u001b[0m\u001b[1;33m)\u001b[0m\u001b[1;33m\u001b[0m\u001b[1;33m\u001b[0m\u001b[0m\n\u001b[0m",
      "\u001b[1;31mNameError\u001b[0m: name 'mplleaflet' is not defined"
     ]
    }
   ],
   "source": [
    "mplleaflet.display(fig=fig)"
   ]
  },
  {
   "cell_type": "markdown",
   "metadata": {},
   "source": [
    "#### building a Pandas data frame from the test data so it is a LG = {L1, L2,...,Ln}"
   ]
  },
  {
   "cell_type": "code",
   "execution_count": 39,
   "metadata": {},
   "outputs": [
    {
     "ename": "AttributeError",
     "evalue": "module 'gps_utils' has no attribute 'bearingCalculator'",
     "output_type": "error",
     "traceback": [
      "\u001b[1;31m---------------------------------------------------------------------------\u001b[0m",
      "\u001b[1;31mAttributeError\u001b[0m                            Traceback (most recent call last)",
      "\u001b[1;32m<ipython-input-39-388622ac2e9d>\u001b[0m in \u001b[0;36m<module>\u001b[1;34m\u001b[0m\n\u001b[0;32m     13\u001b[0m         \u001b[1;32mif\u001b[0m \u001b[0mp_p\u001b[0m \u001b[1;33m!=\u001b[0m \u001b[1;32mNone\u001b[0m\u001b[1;33m:\u001b[0m\u001b[1;33m\u001b[0m\u001b[1;33m\u001b[0m\u001b[0m\n\u001b[0;32m     14\u001b[0m             \u001b[0mindex\u001b[0m \u001b[1;33m=\u001b[0m \u001b[0mp_p\u001b[0m\u001b[1;33m[\u001b[0m\u001b[1;36m0\u001b[0m\u001b[1;33m]\u001b[0m\u001b[1;33m\u001b[0m\u001b[1;33m\u001b[0m\u001b[0m\n\u001b[1;32m---> 15\u001b[1;33m             \u001b[0mbrng\u001b[0m \u001b[1;33m=\u001b[0m \u001b[0mgps\u001b[0m\u001b[1;33m.\u001b[0m\u001b[0mbearingCalculator\u001b[0m\u001b[1;33m(\u001b[0m\u001b[1;33m(\u001b[0m\u001b[0mp_p\u001b[0m\u001b[1;33m[\u001b[0m\u001b[1;36m1\u001b[0m\u001b[1;33m]\u001b[0m\u001b[1;33m[\u001b[0m\u001b[1;36m0\u001b[0m\u001b[1;33m]\u001b[0m\u001b[1;33m,\u001b[0m \u001b[0mp_p\u001b[0m\u001b[1;33m[\u001b[0m\u001b[1;36m1\u001b[0m\u001b[1;33m]\u001b[0m\u001b[1;33m[\u001b[0m\u001b[1;36m1\u001b[0m\u001b[1;33m]\u001b[0m\u001b[1;33m)\u001b[0m\u001b[1;33m,\u001b[0m \u001b[1;33m(\u001b[0m\u001b[0mc_p\u001b[0m\u001b[1;33m[\u001b[0m\u001b[1;36m1\u001b[0m\u001b[1;33m]\u001b[0m\u001b[1;33m[\u001b[0m\u001b[1;36m0\u001b[0m\u001b[1;33m]\u001b[0m\u001b[1;33m,\u001b[0m \u001b[0mc_p\u001b[0m\u001b[1;33m[\u001b[0m\u001b[1;36m1\u001b[0m\u001b[1;33m]\u001b[0m\u001b[1;33m[\u001b[0m\u001b[1;36m1\u001b[0m\u001b[1;33m]\u001b[0m\u001b[1;33m)\u001b[0m\u001b[1;33m)\u001b[0m\u001b[1;33m\u001b[0m\u001b[1;33m\u001b[0m\u001b[0m\n\u001b[0m\u001b[0;32m     16\u001b[0m             \u001b[0mdis\u001b[0m \u001b[1;33m=\u001b[0m \u001b[0mgps\u001b[0m\u001b[1;33m.\u001b[0m\u001b[0mhaversine\u001b[0m\u001b[1;33m(\u001b[0m\u001b[1;33m(\u001b[0m\u001b[0mp_p\u001b[0m\u001b[1;33m[\u001b[0m\u001b[1;36m1\u001b[0m\u001b[1;33m]\u001b[0m\u001b[1;33m[\u001b[0m\u001b[1;36m0\u001b[0m\u001b[1;33m]\u001b[0m\u001b[1;33m,\u001b[0m \u001b[0mp_p\u001b[0m\u001b[1;33m[\u001b[0m\u001b[1;36m1\u001b[0m\u001b[1;33m]\u001b[0m\u001b[1;33m[\u001b[0m\u001b[1;36m1\u001b[0m\u001b[1;33m]\u001b[0m\u001b[1;33m)\u001b[0m\u001b[1;33m,\u001b[0m \u001b[1;33m(\u001b[0m\u001b[0mc_p\u001b[0m\u001b[1;33m[\u001b[0m\u001b[1;36m1\u001b[0m\u001b[1;33m]\u001b[0m\u001b[1;33m[\u001b[0m\u001b[1;36m0\u001b[0m\u001b[1;33m]\u001b[0m\u001b[1;33m,\u001b[0m \u001b[0mc_p\u001b[0m\u001b[1;33m[\u001b[0m\u001b[1;36m1\u001b[0m\u001b[1;33m]\u001b[0m\u001b[1;33m[\u001b[0m\u001b[1;36m1\u001b[0m\u001b[1;33m]\u001b[0m\u001b[1;33m)\u001b[0m\u001b[1;33m)\u001b[0m\u001b[1;33m\u001b[0m\u001b[1;33m\u001b[0m\u001b[0m\n\u001b[0;32m     17\u001b[0m             df = pd.DataFrame({\n",
      "\u001b[1;31mAttributeError\u001b[0m: module 'gps_utils' has no attribute 'bearingCalculator'"
     ]
    }
   ],
   "source": [
    "l1 = pd.DataFrame({'lon': l1_lon, 'lat': l1_lat})\n",
    "r2 = pd.DataFrame({'lon': r2_lon, 'lat': r2_lat})\n",
    "r3 = pd.DataFrame({'lon': r3_lon, 'lat': r3_lat})\n",
    "r4 = pd.DataFrame({'lon': r4_lon, 'lat': r4_lat})\n",
    "lg = pd.DataFrame(columns=['lon1', 'lat1', 'tstart1', 'tend1', 'lon2', 'lat2', 'tstart2', 'tend2', 'distance', 'bearing'])\n",
    "list_of_lg = [l1, r2, r3, r4]\n",
    "p_p = None\n",
    "for entry in list_of_lg:\n",
    "    time = 0\n",
    "    for c_p in entry.iterrows():\n",
    "        if p_p != None and c_p[0] == 0:\n",
    "            p_p = None\n",
    "        if p_p != None:\n",
    "            index = p_p[0]\n",
    "            brng = gps.bearingCalculator((p_p[1][0], p_p[1][1]), (c_p[1][0], c_p[1][1]))\n",
    "            dis = gps.haversine((p_p[1][0], p_p[1][1]), (c_p[1][0], c_p[1][1]))\n",
    "            df = pd.DataFrame({\n",
    "                'lon1': p_p[1][0], \n",
    "                'lat1': p_p[1][1], \n",
    "                'tstart1': time - 15, \n",
    "                'tend1': time, \n",
    "                'lon2': c_p[1][0], \n",
    "                'lat2': c_p[1][1], \n",
    "                'tstart2': time , \n",
    "                'tend2': time + 15, \n",
    "                'distance': dis, \n",
    "                'bearing': brng\n",
    "            }, index=[index])\n",
    "            lg = lg.append(df)\n",
    "        p_p = c_p\n",
    "        p_time = time\n",
    "        time += 15\n",
    "print(lg)"
   ]
  },
  {
   "cell_type": "markdown",
   "metadata": {},
   "source": [
    "#### lines that belong to the same LTS in LG, are merged into one line, LG = {L,...,Lm,...,Lij}"
   ]
  },
  {
   "cell_type": "code",
   "execution_count": 40,
   "metadata": {},
   "outputs": [
    {
     "name": "stdout",
     "output_type": "stream",
     "text": [
      "Empty DataFrame\n",
      "Columns: [lon1, lat1, tstart1, tend1, lon2, lat2, tstart2, tend2, distance, bearing]\n",
      "Index: []\n"
     ]
    }
   ],
   "source": [
    "new_lg = pd.DataFrame(columns=['lon1', 'lat1', 'tstart1', 'tend1', 'lon2', 'lat2', 'tstart2', 'tend2', 'distance', 'bearing'])\n",
    "f_entry = None\n",
    "p_entry = None\n",
    "counter = 0\n",
    "for entry in lg.iterrows():\n",
    "    counter += 1\n",
    "    if (entry[0] == 0 or lg.shape[0] == counter) and counter > 1:\n",
    "        if lg.shape[0] == counter:\n",
    "            p_entry = entry\n",
    "        index = p_entry[0]\n",
    "        brng = gps.bearingCalculator((f_entry[1][0], f_entry[1][1]), (p_entry[1][4], p_entry[1][5]))\n",
    "        dis = gps.haversine((f_entry[1][0], f_entry[1][1]), (p_entry[1][4], p_entry[1][5]))\n",
    "        df = pd.DataFrame({\n",
    "                'lon1': f_entry[1][0], \n",
    "                'lat1': f_entry[1][1], \n",
    "                'tstart1': f_entry[1][2], \n",
    "                'tend1': f_entry[1][3], \n",
    "                'lon2': p_entry[1][4], \n",
    "                'lat2': p_entry[1][5], \n",
    "                'tstart2': p_entry[1][6] , \n",
    "                'tend2': p_entry[1][7], \n",
    "                'distance': dis, \n",
    "                'bearing': brng\n",
    "            }, index=[index])\n",
    "        f_entry = None\n",
    "        new_lg = new_lg.append(df)\n",
    "    if entry[0] == 0:\n",
    "        f_entry = entry\n",
    "    p_entry = entry\n",
    "print(new_lg)"
   ]
  },
  {
   "cell_type": "markdown",
   "metadata": {},
   "source": [
    "#### ploting after merging"
   ]
  },
  {
   "cell_type": "code",
   "execution_count": 41,
   "metadata": {},
   "outputs": [
    {
     "data": {
      "text/plain": [
       "<Figure size 432x288 with 0 Axes>"
      ]
     },
     "metadata": {},
     "output_type": "display_data"
    }
   ],
   "source": [
    "fig = plt.figure()\n",
    "for i in new_lg.iterrows():\n",
    "    lon_l = []\n",
    "    lat_l= []\n",
    "    p1_lon = i[1][0]\n",
    "    p1_lat = i[1][1]\n",
    "    lon_l.append(p1_lon)\n",
    "    lat_l.append(p1_lat)\n",
    "    p2_lon = i[1][4]\n",
    "    p2_lat = i[1][5]\n",
    "    lon_l.append(p2_lon)\n",
    "    lat_l.append(p2_lat)\n",
    "    plt.plot(lon_l, lat_l)\n",
    "    plt.plot(lon_l, lat_l, 'ro')"
   ]
  },
  {
   "cell_type": "code",
   "execution_count": 42,
   "metadata": {},
   "outputs": [
    {
     "ename": "NameError",
     "evalue": "name 'mplleaflet' is not defined",
     "output_type": "error",
     "traceback": [
      "\u001b[1;31m---------------------------------------------------------------------------\u001b[0m",
      "\u001b[1;31mNameError\u001b[0m                                 Traceback (most recent call last)",
      "\u001b[1;32m<ipython-input-42-3f32ad87be6d>\u001b[0m in \u001b[0;36m<module>\u001b[1;34m\u001b[0m\n\u001b[1;32m----> 1\u001b[1;33m \u001b[0mmplleaflet\u001b[0m\u001b[1;33m.\u001b[0m\u001b[0mdisplay\u001b[0m\u001b[1;33m(\u001b[0m\u001b[0mfig\u001b[0m\u001b[1;33m=\u001b[0m\u001b[0mfig\u001b[0m\u001b[1;33m)\u001b[0m\u001b[1;33m\u001b[0m\u001b[1;33m\u001b[0m\u001b[0m\n\u001b[0m",
      "\u001b[1;31mNameError\u001b[0m: name 'mplleaflet' is not defined"
     ]
    }
   ],
   "source": [
    "mplleaflet.display(fig=fig)"
   ]
  },
  {
   "cell_type": "markdown",
   "metadata": {},
   "source": [
    "#### calculating the representative line of LG, Ax + By + C = 0\n",
    "the angle θ is the mean angle in LG in:\n",
    "$$\\theta = \\frac{1}{k}   \\sum_{i=1}^{k} \\theta_i, \\theta \\in [0, \\pi)$$"
   ]
  },
  {
   "cell_type": "code",
   "execution_count": 43,
   "metadata": {},
   "outputs": [
    {
     "ename": "ZeroDivisionError",
     "evalue": "division by zero",
     "output_type": "error",
     "traceback": [
      "\u001b[1;31m---------------------------------------------------------------------------\u001b[0m",
      "\u001b[1;31mZeroDivisionError\u001b[0m                         Traceback (most recent call last)",
      "\u001b[1;32m<ipython-input-43-5a44e6a415d4>\u001b[0m in \u001b[0;36m<module>\u001b[1;34m\u001b[0m\n\u001b[0;32m     11\u001b[0m     \u001b[0mprint\u001b[0m\u001b[1;33m(\u001b[0m\u001b[0mangle\u001b[0m\u001b[1;33m)\u001b[0m\u001b[1;33m\u001b[0m\u001b[1;33m\u001b[0m\u001b[0m\n\u001b[0;32m     12\u001b[0m     \u001b[0msumme\u001b[0m \u001b[1;33m+=\u001b[0m \u001b[0mangle\u001b[0m\u001b[1;33m\u001b[0m\u001b[1;33m\u001b[0m\u001b[0m\n\u001b[1;32m---> 13\u001b[1;33m \u001b[0mavg\u001b[0m \u001b[1;33m=\u001b[0m \u001b[1;33m(\u001b[0m\u001b[1;36m1\u001b[0m \u001b[1;33m/\u001b[0m \u001b[0mk\u001b[0m\u001b[1;33m)\u001b[0m \u001b[1;33m*\u001b[0m \u001b[0msumme\u001b[0m\u001b[1;33m\u001b[0m\u001b[1;33m\u001b[0m\u001b[0m\n\u001b[0m\u001b[0;32m     14\u001b[0m \u001b[0mprint\u001b[0m\u001b[1;33m(\u001b[0m\u001b[0mavg\u001b[0m\u001b[1;33m)\u001b[0m\u001b[1;33m\u001b[0m\u001b[1;33m\u001b[0m\u001b[0m\n",
      "\u001b[1;31mZeroDivisionError\u001b[0m: division by zero"
     ]
    }
   ],
   "source": [
    "summe = 0\n",
    "k = 0\n",
    "for i in new_lg.iterrows():\n",
    "    angle = i[1][9]\n",
    "    k += 1\n",
    "    if angle > 90 and angle <= 180:\n",
    "        angle = 180 - angle\n",
    "    elif angle > 180 :\n",
    "        angle = 360 - angle\n",
    "    print(i[1][9])\n",
    "    print(angle)\n",
    "    summe += angle\n",
    "avg = (1 / k) * summe\n",
    "print(avg)"
   ]
  },
  {
   "cell_type": "markdown",
   "metadata": {},
   "source": [
    "##### the least squares straight line fitting is used to calculate the parameters of the representative line:\n",
    "$$ C = \\frac{1}{k} \\sum_{i=1}^{k} ( -Ax_i - By_i), \\begin{cases} A=1, B=0; \\theta = \\frac{\\pi}{2} \\\\A = - tan \\theta, B = 1; \\theta  \\neq \\frac{\\pi}{2} \\end{cases} $$ \n",
    "where (x_i, y_i) is the endpoint of L_i in LG\n",
    "$$ hint: \\pi = 180 $$"
   ]
  },
  {
   "cell_type": "code",
   "execution_count": 44,
   "metadata": {},
   "outputs": [
    {
     "ename": "ZeroDivisionError",
     "evalue": "division by zero",
     "output_type": "error",
     "traceback": [
      "\u001b[1;31m---------------------------------------------------------------------------\u001b[0m",
      "\u001b[1;31mZeroDivisionError\u001b[0m                         Traceback (most recent call last)",
      "\u001b[1;32m<ipython-input-44-1859d3114aab>\u001b[0m in \u001b[0;36m<module>\u001b[1;34m\u001b[0m\n\u001b[0;32m     16\u001b[0m     \u001b[0mcc\u001b[0m \u001b[1;33m+=\u001b[0m \u001b[1;33m(\u001b[0m\u001b[1;33m-\u001b[0m\u001b[0ma\u001b[0m \u001b[1;33m*\u001b[0m \u001b[0mx\u001b[0m \u001b[1;33m-\u001b[0m \u001b[0mb\u001b[0m \u001b[1;33m*\u001b[0m \u001b[0my\u001b[0m\u001b[1;33m)\u001b[0m\u001b[1;33m\u001b[0m\u001b[1;33m\u001b[0m\u001b[0m\n\u001b[0;32m     17\u001b[0m     \u001b[0mprint\u001b[0m\u001b[1;33m(\u001b[0m\u001b[0mcc\u001b[0m\u001b[1;33m)\u001b[0m\u001b[1;33m\u001b[0m\u001b[1;33m\u001b[0m\u001b[0m\n\u001b[1;32m---> 18\u001b[1;33m \u001b[0mc\u001b[0m \u001b[1;33m=\u001b[0m \u001b[1;33m(\u001b[0m\u001b[1;36m1\u001b[0m\u001b[1;33m/\u001b[0m\u001b[0mk\u001b[0m\u001b[1;33m)\u001b[0m \u001b[1;33m*\u001b[0m \u001b[0mcc\u001b[0m\u001b[1;33m\u001b[0m\u001b[1;33m\u001b[0m\u001b[0m\n\u001b[0m\u001b[0;32m     19\u001b[0m \u001b[0mprint\u001b[0m\u001b[1;33m(\u001b[0m\u001b[0ma\u001b[0m\u001b[1;33m,\u001b[0m\u001b[0mb\u001b[0m\u001b[1;33m,\u001b[0m\u001b[0mc\u001b[0m\u001b[1;33m)\u001b[0m\u001b[1;33m\u001b[0m\u001b[1;33m\u001b[0m\u001b[0m\n\u001b[0;32m     20\u001b[0m \u001b[1;33m\u001b[0m\u001b[0m\n",
      "\u001b[1;31mZeroDivisionError\u001b[0m: division by zero"
     ]
    }
   ],
   "source": [
    "cc = 0\n",
    "k = 0\n",
    "a = 0\n",
    "b = 0\n",
    "for i in new_lg.iterrows():\n",
    "    k += 1\n",
    "    if (avg == 90):\n",
    "        a = 1\n",
    "        b = 0\n",
    "    else:\n",
    "        a = -math.tan(avg)\n",
    "        b = 1\n",
    "    x = i[1][4]\n",
    "    y = i[1][5]\n",
    "    print(a, b, x, y)\n",
    "    cc += (-a * x - b * y)\n",
    "    print(cc)\n",
    "c = (1/k) * cc\n",
    "print(a,b,c)\n",
    "\n",
    "# Ax + By + C = 0 -> y = (-Ax - C) / B\n",
    "def fun(xi):\n",
    "    return (-a * xi - c) / b\n"
   ]
  },
  {
   "cell_type": "markdown",
   "metadata": {},
   "source": [
    "##### plot of representative line of LG, Ax + By + C = 0"
   ]
  },
  {
   "cell_type": "code",
   "execution_count": 45,
   "metadata": {},
   "outputs": [
    {
     "name": "stdout",
     "output_type": "stream",
     "text": [
      "[]\n",
      "[]\n"
     ]
    },
    {
     "data": {
      "text/plain": [
       "[<matplotlib.lines.Line2D at 0x267a2253b38>]"
      ]
     },
     "execution_count": 45,
     "metadata": {},
     "output_type": "execute_result"
    },
    {
     "data": {
      "image/png": "[encoded data removed]",
      "text/plain": [
       "<Figure size 432x288 with 1 Axes>"
      ]
     },
     "metadata": {
      "needs_background": "light"
     },
     "output_type": "display_data"
    }
   ],
   "source": [
    "fig = plt.figure()\n",
    "\n",
    "for i in new_lg.iterrows():\n",
    "    lon_l = []\n",
    "    lat_l= []\n",
    "    p1_lon = i[1][0]\n",
    "    p1_lat = i[1][1]\n",
    "    lon_l.append(p1_lon)\n",
    "    lat_l.append(p1_lat)\n",
    "    p2_lon = i[1][4]\n",
    "    p2_lat = i[1][5]\n",
    "    lon_l.append(p2_lon)\n",
    "    lat_l.append(p2_lat)\n",
    "    plt.plot(lon_l, lat_l)\n",
    "    plt.plot(lon_l, lat_l, 'ro')\n",
    "    \n",
    "rl_lon_l = []\n",
    "rl_lat_l = []\n",
    "for i in new_lg.iterrows():\n",
    "    p1_lon = i[1][0]\n",
    "    p1_lat = fun(p1_lon)\n",
    "    rl_lon_l.append(p1_lon)\n",
    "    rl_lat_l.append(p1_lat)\n",
    "    p2_lon = i[1][4]\n",
    "    p2_lat = fun(p2_lon)\n",
    "    rl_lon_l.append(p2_lon)\n",
    "    rl_lat_l.append(p2_lat)\n",
    "print(rl_lon_l)\n",
    "print(rl_lat_l)\n",
    "plt.plot(rl_lon_l, rl_lat_l)\n"
   ]
  },
  {
   "cell_type": "code",
   "execution_count": 46,
   "metadata": {},
   "outputs": [
    {
     "ename": "NameError",
     "evalue": "name 'mplleaflet' is not defined",
     "output_type": "error",
     "traceback": [
      "\u001b[1;31m---------------------------------------------------------------------------\u001b[0m",
      "\u001b[1;31mNameError\u001b[0m                                 Traceback (most recent call last)",
      "\u001b[1;32m<ipython-input-46-3f32ad87be6d>\u001b[0m in \u001b[0;36m<module>\u001b[1;34m\u001b[0m\n\u001b[1;32m----> 1\u001b[1;33m \u001b[0mmplleaflet\u001b[0m\u001b[1;33m.\u001b[0m\u001b[0mdisplay\u001b[0m\u001b[1;33m(\u001b[0m\u001b[0mfig\u001b[0m\u001b[1;33m=\u001b[0m\u001b[0mfig\u001b[0m\u001b[1;33m)\u001b[0m\u001b[1;33m\u001b[0m\u001b[1;33m\u001b[0m\u001b[0m\n\u001b[0m",
      "\u001b[1;31mNameError\u001b[0m: name 'mplleaflet' is not defined"
     ]
    }
   ],
   "source": [
    "mplleaflet.display(fig=fig)"
   ]
  },
  {
   "cell_type": "markdown",
   "metadata": {},
   "source": [
    "#### line projection\n",
    "For each line L_i in LG, calculate the projection points of the endpoints on the representative line. ∀p(x_0 , y_0 ), the projection point on Ax + By + C = 0 can be calculated by:\n",
    "$$ x' = (B^2 * x_0  - A*B*y_0 - A*C)/(A^2 +B^2) $$\n",
    "$$ y' = (A^2 * y_0  - A*B*x_0 - B*C)/(A^2 +B^2) $$"
   ]
  },
  {
   "cell_type": "code",
   "execution_count": 47,
   "metadata": {},
   "outputs": [],
   "source": [
    "for i in new_lg.iterrows():\n",
    "    lon_l = []\n",
    "    lat_l= []\n",
    "    p1_lon = i[1][0]\n",
    "    p1_lat = i[1][1]\n",
    "    x = (b * b * p1_lon - a * b * p1_lat - a * c) / (a * a + b * b)\n",
    "    y = (a * a * p1_lat - a * b * p1_lon - b * c) / (a * a + b * b)\n",
    "    lon_l.append(x)\n",
    "    lat_l.append(y)\n",
    "    p2_lon = i[1][4]\n",
    "    p2_lat = i[1][5]\n",
    "    x = (b * b * p2_lon - a * b * p2_lat - a * c) / (a * a + b * b)\n",
    "    y = (a * a * p2_lat - a * b * p2_lon - b * c) / (a * a + b * b)\n",
    "    lon_l.append(x)\n",
    "    lat_l.append(y)\n",
    "    plt.plot(lon_l, lat_l)\n",
    "    plt.plot(lon_l, lat_l, 'ro')"
   ]
  },
  {
   "cell_type": "code",
   "execution_count": null,
   "metadata": {},
   "outputs": [],
   "source": []
  },
  {
   "cell_type": "code",
   "execution_count": null,
   "metadata": {},
   "outputs": [],
   "source": []
  }
 ],
 "metadata": {
  "kernelspec": {
   "display_name": "Python 3",
   "language": "python",
   "name": "python3"
  },
  "language_info": {
   "codemirror_mode": {
    "name": "ipython",
    "version": 3
   },
   "file_extension": ".py",
   "mimetype": "text/x-python",
   "name": "python",
   "nbconvert_exporter": "python",
   "pygments_lexer": "ipython3",
   "version": "3.7.3"
  },
  "pycharm": {
   "stem_cell": {
    "cell_type": "raw",
    "metadata": {
     "collapsed": false
    },
    "source": []
   }
  }
 },
 "nbformat": 4,
 "nbformat_minor": 2
}
