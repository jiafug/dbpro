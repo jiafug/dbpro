{
 "cells": [
  {
   "cell_type": "markdown",
   "metadata": {
    "pycharm": {}
   },
   "source": [
    "# (ALT) Google Maps Visualization"
   ]
  },
  {
   "cell_type": "code",
   "execution_count": 1,
   "metadata": {
    "pycharm": {}
   },
   "outputs": [],
   "source": [
    "import gmplot \n",
    "\n",
    "gmap3 = gmplot.GoogleMapPlotter( 41.148522, -8.585676, 15) \n",
    "  \n",
    "# trip0\n",
    "latitude_list0 = [41.148522, 41.148639, 41.148855, 41.148927, 41.148963 , 41.148954, 41.14872, 41.147847, 41.14746, 41.147154, 41.146623] \n",
    "longitude_list0 = [ -8.585676, -8.585712, -8.585685, -8.58573 , -8.585982, -8.586396, -8.586072, -8.586324, -8.586999, -8.586576, -8.584884 ] \n",
    "gmap3.scatter( latitude_list0, longitude_list0, '# FF0000', size = 2.5, marker = False ) \n",
    "gmap3.plot(latitude_list0, longitude_list0, 'cornflowerblue', edge_width = 2.5) \n",
    "  \n",
    "gmap3.draw( \"map.html\" )"
   ]
  },
  {
   "cell_type": "markdown",
   "metadata": {
    "pycharm": {}
   },
   "source": [
    "# 0. Import Data"
   ]
  },
  {
   "cell_type": "code",
   "execution_count": 1,
   "metadata": {
    "pycharm": {
     "is_executing": false
    }
   },
   "outputs": [
    {
     "ename": "ModuleNotFoundError",
     "evalue": "No module named 'mplleaflet'",
     "output_type": "error",
     "traceback": [
      "\u001b[1;31m---------------------------------------------------------------------------\u001b[0m",
      "\u001b[1;31mModuleNotFoundError\u001b[0m                       Traceback (most recent call last)",
      "\u001b[1;32m<ipython-input-1-9c09f207c170>\u001b[0m in \u001b[0;36m<module>\u001b[1;34m\u001b[0m\n\u001b[0;32m      1\u001b[0m \u001b[1;32mimport\u001b[0m \u001b[0mcsv\u001b[0m\u001b[1;33m\u001b[0m\u001b[1;33m\u001b[0m\u001b[0m\n\u001b[0;32m      2\u001b[0m \u001b[1;32mimport\u001b[0m \u001b[0mmath\u001b[0m\u001b[1;33m\u001b[0m\u001b[1;33m\u001b[0m\u001b[0m\n\u001b[1;32m----> 3\u001b[1;33m \u001b[1;32mimport\u001b[0m \u001b[0mmplleaflet\u001b[0m\u001b[1;33m\u001b[0m\u001b[1;33m\u001b[0m\u001b[0m\n\u001b[0m\u001b[0;32m      4\u001b[0m \u001b[1;32mimport\u001b[0m \u001b[0mmatplotlib\u001b[0m\u001b[1;33m.\u001b[0m\u001b[0mpyplot\u001b[0m \u001b[1;32mas\u001b[0m \u001b[0mplt\u001b[0m\u001b[1;33m\u001b[0m\u001b[1;33m\u001b[0m\u001b[0m\n\u001b[0;32m      5\u001b[0m \u001b[1;32mimport\u001b[0m \u001b[0mpandas\u001b[0m \u001b[1;32mas\u001b[0m \u001b[0mpd\u001b[0m\u001b[1;33m\u001b[0m\u001b[1;33m\u001b[0m\u001b[0m\n",
      "\u001b[1;31mModuleNotFoundError\u001b[0m: No module named 'mplleaflet'"
     ]
    }
   ],
   "source": [
    "import csv\n",
    "import math\n",
    "import mplleaflet\n",
    "import matplotlib.pyplot as plt\n",
    "import pandas as pd\n",
    "import gps_utils as gps"
   ]
  },
  {
   "cell_type": "code",
   "execution_count": 2,
   "metadata": {
    "pycharm": {
     "is_executing": false
    }
   },
   "outputs": [
    {
     "ename": "FileNotFoundError",
     "evalue": "[Errno 2] No such file or directory: '../test.csv'",
     "output_type": "error",
     "traceback": [
      "\u001b[1;31m---------------------------------------------------------------------------\u001b[0m",
      "\u001b[1;31mFileNotFoundError\u001b[0m                         Traceback (most recent call last)",
      "\u001b[1;32m<ipython-input-2-6d77665d3ad1>\u001b[0m in \u001b[0;36m<module>\u001b[1;34m\u001b[0m\n\u001b[1;32m----> 1\u001b[1;33m \u001b[1;32mwith\u001b[0m \u001b[0mopen\u001b[0m\u001b[1;33m(\u001b[0m\u001b[1;34m'../test.csv'\u001b[0m\u001b[1;33m)\u001b[0m \u001b[1;32mas\u001b[0m \u001b[0mcsv_file\u001b[0m\u001b[1;33m:\u001b[0m\u001b[1;33m\u001b[0m\u001b[1;33m\u001b[0m\u001b[0m\n\u001b[0m\u001b[0;32m      2\u001b[0m     \u001b[0mcsv_reader\u001b[0m \u001b[1;33m=\u001b[0m \u001b[0mcsv\u001b[0m\u001b[1;33m.\u001b[0m\u001b[0mreader\u001b[0m\u001b[1;33m(\u001b[0m\u001b[0mcsv_file\u001b[0m\u001b[1;33m,\u001b[0m \u001b[0mdelimiter\u001b[0m\u001b[1;33m=\u001b[0m\u001b[1;34m','\u001b[0m\u001b[1;33m)\u001b[0m\u001b[1;33m\u001b[0m\u001b[1;33m\u001b[0m\u001b[0m\n\u001b[0;32m      3\u001b[0m \u001b[1;33m\u001b[0m\u001b[0m\n\u001b[0;32m      4\u001b[0m     \u001b[0mlatitude_list\u001b[0m \u001b[1;33m=\u001b[0m \u001b[1;33m[\u001b[0m\u001b[1;33m]\u001b[0m\u001b[1;33m\u001b[0m\u001b[1;33m\u001b[0m\u001b[0m\n\u001b[0;32m      5\u001b[0m     \u001b[0mlongitude_list\u001b[0m \u001b[1;33m=\u001b[0m \u001b[1;33m[\u001b[0m\u001b[1;33m]\u001b[0m\u001b[1;33m\u001b[0m\u001b[1;33m\u001b[0m\u001b[0m\n",
      "\u001b[1;31mFileNotFoundError\u001b[0m: [Errno 2] No such file or directory: '../test.csv'"
     ]
    }
   ],
   "source": [
    "with open('../test.csv') as csv_file:\n",
    "    csv_reader = csv.reader(csv_file, delimiter=',')\n",
    "\n",
    "    latitude_list = []\n",
    "    longitude_list = []\n",
    "    time_list = []\n",
    "    # breaks only for development purposes\n",
    "    counter = 0\n",
    "    time = 0\n",
    "    \n",
    "    # for development only\n",
    "    # test ist eine Liste mit allen Trajectories, jeder Traejctory ist ein (Pandas-) Dataframe mit den Spalten lon, lat, time\n",
    "    test = []\n",
    "    \n",
    "    for row in csv_reader:\n",
    "        cleared = row[8].replace(\"],[\", \" -1 \").replace(\"[[\", \"\").replace(\"]]\", \"\")\n",
    "        if cleared != \"POLYLINE\":\n",
    "            splitted = cleared.split(\" -1 \")\n",
    "            # extractes all the points\n",
    "            for entry in splitted:\n",
    "                data = entry.split(\",\")\n",
    "                latitude_list.append(data[1])\n",
    "                longitude_list.append(data[0])\n",
    "                time_list.append(time)\n",
    "                time += 15\n",
    "            counter += 1\n",
    "            time = 0\n",
    "            # creats a trajectory dataframe\n",
    "            coords = pd.DataFrame({'lon': longitude_list, 'lat': latitude_list, 'time': time_list})\n",
    "            test.append(coords)\n",
    "            # reset everything \n",
    "            latitude_list = []\n",
    "            longitude_list = []\n",
    "            time_list = []\n",
    "            # breaks only for development purposes\n",
    "            if counter == 6:\n",
    "                break"
   ]
  },
  {
   "cell_type": "markdown",
   "metadata": {
    "pycharm": {}
   },
   "source": [
    "# 1. Initial Data "
   ]
  },
  {
   "cell_type": "code",
   "execution_count": 3,
   "metadata": {
    "pycharm": {
     "is_executing": false
    }
   },
   "outputs": [
    {
     "ename": "NameError",
     "evalue": "name 'test' is not defined",
     "output_type": "error",
     "traceback": [
      "\u001b[1;31m---------------------------------------------------------------------------\u001b[0m",
      "\u001b[1;31mNameError\u001b[0m                                 Traceback (most recent call last)",
      "\u001b[1;32m<ipython-input-3-c609b7192bf0>\u001b[0m in \u001b[0;36m<module>\u001b[1;34m\u001b[0m\n\u001b[0;32m      1\u001b[0m \u001b[1;31m# retrieve the test route\u001b[0m\u001b[1;33m\u001b[0m\u001b[1;33m\u001b[0m\u001b[1;33m\u001b[0m\u001b[0m\n\u001b[1;32m----> 2\u001b[1;33m \u001b[0mcoords\u001b[0m \u001b[1;33m=\u001b[0m \u001b[0mtest\u001b[0m\u001b[1;33m[\u001b[0m\u001b[1;36m5\u001b[0m\u001b[1;33m]\u001b[0m\u001b[1;33m\u001b[0m\u001b[1;33m\u001b[0m\u001b[0m\n\u001b[0m\u001b[0;32m      3\u001b[0m \u001b[0mcoords\u001b[0m\u001b[1;33m.\u001b[0m\u001b[0mlon\u001b[0m \u001b[1;33m=\u001b[0m \u001b[0mcoords\u001b[0m\u001b[1;33m.\u001b[0m\u001b[0mlon\u001b[0m\u001b[1;33m.\u001b[0m\u001b[0mastype\u001b[0m\u001b[1;33m(\u001b[0m\u001b[0mfloat\u001b[0m\u001b[1;33m)\u001b[0m\u001b[1;33m\u001b[0m\u001b[1;33m\u001b[0m\u001b[0m\n\u001b[0;32m      4\u001b[0m \u001b[0mcoords\u001b[0m\u001b[1;33m.\u001b[0m\u001b[0mlat\u001b[0m \u001b[1;33m=\u001b[0m \u001b[0mcoords\u001b[0m\u001b[1;33m.\u001b[0m\u001b[0mlat\u001b[0m\u001b[1;33m.\u001b[0m\u001b[0mastype\u001b[0m\u001b[1;33m(\u001b[0m\u001b[0mfloat\u001b[0m\u001b[1;33m)\u001b[0m\u001b[1;33m\u001b[0m\u001b[1;33m\u001b[0m\u001b[0m\n",
      "\u001b[1;31mNameError\u001b[0m: name 'test' is not defined"
     ]
    }
   ],
   "source": [
    "# retrieve the test route\n",
    "coords = test[5]\n",
    "coords.lon = coords.lon.astype(float)\n",
    "coords.lat = coords.lat.astype(float)"
   ]
  },
  {
   "cell_type": "code",
   "execution_count": 4,
   "metadata": {
    "pycharm": {
     "is_executing": false
    }
   },
   "outputs": [
    {
     "ename": "NameError",
     "evalue": "name 'plt' is not defined",
     "output_type": "error",
     "traceback": [
      "\u001b[1;31m---------------------------------------------------------------------------\u001b[0m",
      "\u001b[1;31mNameError\u001b[0m                                 Traceback (most recent call last)",
      "\u001b[1;32m<ipython-input-4-0083a2fa2cf0>\u001b[0m in \u001b[0;36m<module>\u001b[1;34m\u001b[0m\n\u001b[1;32m----> 1\u001b[1;33m \u001b[0mfig\u001b[0m \u001b[1;33m=\u001b[0m \u001b[0mplt\u001b[0m\u001b[1;33m.\u001b[0m\u001b[0mfigure\u001b[0m\u001b[1;33m(\u001b[0m\u001b[1;33m)\u001b[0m\u001b[1;33m\u001b[0m\u001b[1;33m\u001b[0m\u001b[0m\n\u001b[0m\u001b[0;32m      2\u001b[0m \u001b[0msimplified_coords\u001b[0m \u001b[1;33m=\u001b[0m \u001b[0mcoords\u001b[0m\u001b[1;33m[\u001b[0m\u001b[1;33m[\u001b[0m\u001b[1;34m'lon'\u001b[0m\u001b[1;33m,\u001b[0m \u001b[1;34m'lat'\u001b[0m\u001b[1;33m]\u001b[0m\u001b[1;33m]\u001b[0m\u001b[1;33m.\u001b[0m\u001b[0mvalues\u001b[0m\u001b[1;33m\u001b[0m\u001b[1;33m\u001b[0m\u001b[0m\n\u001b[0;32m      3\u001b[0m \u001b[0mplt\u001b[0m\u001b[1;33m.\u001b[0m\u001b[0mplot\u001b[0m\u001b[1;33m(\u001b[0m\u001b[0msimplified_coords\u001b[0m\u001b[1;33m[\u001b[0m\u001b[1;33m:\u001b[0m\u001b[1;33m,\u001b[0m\u001b[1;36m0\u001b[0m\u001b[1;33m]\u001b[0m\u001b[1;33m,\u001b[0m \u001b[0msimplified_coords\u001b[0m\u001b[1;33m[\u001b[0m\u001b[1;33m:\u001b[0m\u001b[1;33m,\u001b[0m\u001b[1;36m1\u001b[0m\u001b[1;33m]\u001b[0m\u001b[1;33m)\u001b[0m\u001b[1;33m\u001b[0m\u001b[1;33m\u001b[0m\u001b[0m\n\u001b[0;32m      4\u001b[0m \u001b[0mplt\u001b[0m\u001b[1;33m.\u001b[0m\u001b[0mplot\u001b[0m\u001b[1;33m(\u001b[0m\u001b[0msimplified_coords\u001b[0m\u001b[1;33m[\u001b[0m\u001b[1;33m:\u001b[0m\u001b[1;33m,\u001b[0m\u001b[1;36m0\u001b[0m\u001b[1;33m]\u001b[0m\u001b[1;33m,\u001b[0m \u001b[0msimplified_coords\u001b[0m\u001b[1;33m[\u001b[0m\u001b[1;33m:\u001b[0m\u001b[1;33m,\u001b[0m\u001b[1;36m1\u001b[0m\u001b[1;33m]\u001b[0m\u001b[1;33m,\u001b[0m \u001b[1;34m'ro'\u001b[0m\u001b[1;33m)\u001b[0m\u001b[1;33m\u001b[0m\u001b[1;33m\u001b[0m\u001b[0m\n",
      "\u001b[1;31mNameError\u001b[0m: name 'plt' is not defined"
     ]
    }
   ],
   "source": [
    "fig = plt.figure()\n",
    "simplified_coords = coords[['lon', 'lat']].values\n",
    "plt.plot(simplified_coords[:,0], simplified_coords[:,1])\n",
    "plt.plot(simplified_coords[:,0], simplified_coords[:,1], 'ro')"
   ]
  },
  {
   "cell_type": "code",
   "execution_count": 5,
   "metadata": {
    "pycharm": {
     "is_executing": false
    }
   },
   "outputs": [
    {
     "ename": "NameError",
     "evalue": "name 'mplleaflet' is not defined",
     "output_type": "error",
     "traceback": [
      "\u001b[1;31m---------------------------------------------------------------------------\u001b[0m",
      "\u001b[1;31mNameError\u001b[0m                                 Traceback (most recent call last)",
      "\u001b[1;32m<ipython-input-5-3f32ad87be6d>\u001b[0m in \u001b[0;36m<module>\u001b[1;34m\u001b[0m\n\u001b[1;32m----> 1\u001b[1;33m \u001b[0mmplleaflet\u001b[0m\u001b[1;33m.\u001b[0m\u001b[0mdisplay\u001b[0m\u001b[1;33m(\u001b[0m\u001b[0mfig\u001b[0m\u001b[1;33m=\u001b[0m\u001b[0mfig\u001b[0m\u001b[1;33m)\u001b[0m\u001b[1;33m\u001b[0m\u001b[1;33m\u001b[0m\u001b[0m\n\u001b[0m",
      "\u001b[1;31mNameError\u001b[0m: name 'mplleaflet' is not defined"
     ]
    }
   ],
   "source": [
    "mplleaflet.display(fig=fig)"
   ]
  },
  {
   "cell_type": "markdown",
   "metadata": {
    "pycharm": {}
   },
   "source": [
    "# 2. Trajectory Partition"
   ]
  },
  {
   "cell_type": "markdown",
   "metadata": {
    "pycharm": {}
   },
   "source": [
    "## 2.1. Stop Point Extraction (TDBC)\n",
    "Referenz: Z. Fu, Z. Tian, Y. Xu, and C. Qiao, ‘‘A two-step clustering approach to extract locations from individual GPS trajectory data,’’ ISPRS Int. J. Geo- Inf., vol. 5, no. 10, p. 166, 2016.\n",
    "\n",
    "Auch bei Github hochgeladen als spe-tdbc.pdf\n",
    "### note: currently not working as indented\n",
    "#### die Funktion stop_point_extraction() muss nur noch gefixt werden"
   ]
  },
  {
   "cell_type": "code",
   "execution_count": 6,
   "metadata": {
    "pycharm": {
     "is_executing": false
    }
   },
   "outputs": [
    {
     "ename": "NameError",
     "evalue": "name 'gps' is not defined",
     "output_type": "error",
     "traceback": [
      "\u001b[1;31m---------------------------------------------------------------------------\u001b[0m",
      "\u001b[1;31mNameError\u001b[0m                                 Traceback (most recent call last)",
      "\u001b[1;32m<ipython-input-6-bb26a0281514>\u001b[0m in \u001b[0;36m<module>\u001b[1;34m\u001b[0m\n\u001b[1;32m----> 1\u001b[1;33m \u001b[0mprint\u001b[0m\u001b[1;33m(\u001b[0m\u001b[0mgps\u001b[0m\u001b[1;33m.\u001b[0m\u001b[0mcentroid\u001b[0m\u001b[1;33m(\u001b[0m\u001b[0mcoords\u001b[0m\u001b[1;33m[\u001b[0m\u001b[1;34m'lon'\u001b[0m\u001b[1;33m]\u001b[0m\u001b[1;33m.\u001b[0m\u001b[0mtolist\u001b[0m\u001b[1;33m(\u001b[0m\u001b[1;33m)\u001b[0m\u001b[1;33m,\u001b[0m \u001b[0mcoords\u001b[0m\u001b[1;33m[\u001b[0m\u001b[1;34m'lat'\u001b[0m\u001b[1;33m]\u001b[0m\u001b[1;33m.\u001b[0m\u001b[0mtolist\u001b[0m\u001b[1;33m(\u001b[0m\u001b[1;33m)\u001b[0m\u001b[1;33m)\u001b[0m\u001b[1;33m)\u001b[0m\u001b[1;33m\u001b[0m\u001b[1;33m\u001b[0m\u001b[0m\n\u001b[0m",
      "\u001b[1;31mNameError\u001b[0m: name 'gps' is not defined"
     ]
    }
   ],
   "source": [
    "print(gps.centroid(coords['lon'].tolist(), coords['lat'].tolist()))"
   ]
  },
  {
   "cell_type": "code",
   "execution_count": 7,
   "metadata": {
    "pycharm": {
     "is_executing": false
    }
   },
   "outputs": [],
   "source": [
    "def centroid(lonT, latT):\n",
    "    # https://stackoverflow.com/questions/6671183/calculate-the-center-point-of-multiple-latitude-longitude-coordinate-pairs\n",
    "\n",
    "    # lonT = [13.341664, 13.374373, 13.376003, 13.352830]\n",
    "    # latT = [52.519198, 52.523039, 52.504053, 52.508498]\n",
    "    \n",
    "    if (len(lonT) == 0 or len(latT)== 0):\n",
    "        return 0, 0\n",
    "\n",
    "    xList = []\n",
    "    yList = []\n",
    "    zList = []\n",
    "\n",
    "    dataT = pd.DataFrame({'lat': latT, 'lon': lonT})\n",
    "    for index, row in dataT.iterrows():\n",
    "        lat = row['lat'] * math.pi / 180\n",
    "        lon = row['lon'] * math.pi / 180\n",
    "        X = math.cos(lat) * math.cos(lon)\n",
    "        Y = math.cos(lat) * math.sin(lon)\n",
    "        Z = math.sin(lat)\n",
    "        xList.append(X)\n",
    "        yList.append(Y)\n",
    "        zList.append(Z)\n",
    "\n",
    "    dataXYZ = pd.DataFrame({'x': xList, 'y': yList, 'z': zList})\n",
    "\n",
    "    x = 0\n",
    "    y = 0\n",
    "    z = 0\n",
    "    n = 0\n",
    "\n",
    "    for index, row in dataXYZ.iterrows():\n",
    "        x += row['x']\n",
    "        y += row['y']\n",
    "        z += row['z']\n",
    "        n += 1\n",
    "\n",
    "    aX = x / n\n",
    "    aY = y / n\n",
    "    aZ = z / n\n",
    "\n",
    "    Lon = math.atan2(y, x) * 180 / math.pi\n",
    "    Hyp = math.sqrt(x * x + y * y)\n",
    "    Lat = math.atan2(z, Hyp) * 180 / math.pi\n",
    "\n",
    "    return Lon, Lat"
   ]
  },
  {
   "cell_type": "code",
   "execution_count": 8,
   "metadata": {
    "pycharm": {
     "is_executing": false
    }
   },
   "outputs": [],
   "source": [
    "def stop_point_extraction(trajectory, time_threshold, distance_threshold):\n",
    "\n",
    "    # leere Cluster, c_cluster ist Cluster aus dem Paper, p_cluster ist Previous C\n",
    "    c_cluster = pd.DataFrame(columns=['lon','lat','time'])\n",
    "    p_cluster = pd.DataFrame(columns=['lon','lat','time'])\n",
    "    stop_points = pd.DataFrame(columns=['lon','lat','time'])\n",
    "    stop_points_cluster = pd.DataFrame(columns=['lon','lat','tstart', 'tend'])\n",
    "    # p_point ist Previous stop point in SP aus dem Paper, relevant für Zeile 9 und 11 aus dem Paper\n",
    "    p_point = None\n",
    "    # Boolean Flag, nur relevant für die check Funktion\n",
    "    is_type2 = False\n",
    "    # braucht man nicht wirklich\n",
    "    counter = 0     \n",
    "    \n",
    "    def start_end(cluster):\n",
    "        min_time = min(cluster['time'].tolist())\n",
    "        max_time = max(cluster['time'].tolist())\n",
    "        return min_time, max_time\n",
    "    \n",
    "    def add_stop_point(cluster):\n",
    "        print(\"-------------------BEGIN: add_stop_point(cluster)---------------------\")\n",
    "        # nonlocal, damit auf die Variablen der übergeordneten Funktion aufgerufen und bearbeiten werden kann\n",
    "        nonlocal p_cluster\n",
    "        nonlocal stop_points\n",
    "        nonlocal stop_points_cluster\n",
    "        nonlocal c_cluster\n",
    "        # Variablen Initialisierung \n",
    "        p_stop_point = None\n",
    "        # Nur relevant für die Initailisierung des Algorithmuses: wenn kein Stopppunkt vorhanden,\n",
    "        # füge das aktuelle Cluster oder Punkt der Liste der Stopppunkte hinzu\n",
    "        print(\"-> cluster:\")\n",
    "        print(cluster)\n",
    "        min_time, max_time = start_end(cluster)\n",
    "        if len(stop_points.tail(1)['lon'].values) == 0:\n",
    "            stop_points = stop_points.append(cluster, ignore_index=True)\n",
    "            stop_points_cluster = stop_points_cluster.append(cluster, ignore_index=True)\n",
    "            p_cluster = cluster\n",
    "            print(\"--> initial SP\")\n",
    "            print(\"-> stop_points:\")\n",
    "            print(stop_points)\n",
    "            print(\"-> stop_points_cluster:\")\n",
    "            print(stop_points_cluster)\n",
    "        else:\n",
    "            p_stop_point = stop_points_cluster.tail(1)['lon'].values[0], stop_points_cluster.tail(1)['lat'].values[0]\n",
    "            cluster_coord = centroid(cluster['lon'].tolist(), cluster['lat'].tolist())\n",
    "            # gps.haversine(coord1, coord2) berechnet die Distanc in Metern zwischen zwei Koordinaten\n",
    "            # coord1 und coord2 müssen als Dataframe mit den Spalten lon und lat vorliegen\n",
    "            print(\"-> p_stop_point\")\n",
    "            print(p_stop_point)\n",
    "            print(\"-> cluster\")\n",
    "            print(cluster_coord)\n",
    "            print(\"-> distance between cluster and p_stop_point\")\n",
    "            print(gps.haversine(cluster_coord, p_stop_point))\n",
    "            if gps.haversine(cluster_coord, p_stop_point) < distance_threshold:\n",
    "                # hängt alle Punkte des Clusters oder einzelnen Punkt an den p_cluster (vorheriger Cluster)\n",
    "                p_stop_point_lon, p_stop_point_lat = p_stop_point\n",
    "                test_point = centroid([p_stop_point_lon], [p_stop_point_lon])\n",
    "                test_point_frame = pd.DataFrame({\"lon\": [p_stop_point_lon], \"lat\": [p_stop_point_lat], \"tstart\": [min_time], \"tend\": [max_time]})\n",
    "                stop_points = pd.concat([stop_points,cluster]).drop_duplicates().reset_index(drop=True)\n",
    "                stop_points_cluster = stop_points_cluster.drop(stop_points_cluster.tail(1).index, inplace = True)\n",
    "                stop_points_cluster = pd.concat([stop_points_cluster,test_point_frame]).drop_duplicates().reset_index(drop=True)\n",
    "                print(\"--> Added c_cluster to p_cluster!!!!!!!!!!!!!!!!!!!!!!!!!!!!!!!!!!\")\n",
    "                print(\"-> c_cluster:\")\n",
    "                print(c_cluster)\n",
    "                print(\"-> p_cluster:\")\n",
    "                print(p_cluster)\n",
    "                c_cluster = c_cluster.iloc[0:0]\n",
    "            else:\n",
    "                centeroid_lon, centeroid_lat = cluster_coord\n",
    "                if centeroid_lon != 0:\n",
    "                    data = {'lon': [centeroid_lon], 'lat': [centeroid_lat], 'tstart': [min_time], 'tend': [max_time]}\n",
    "                    sp_frame = pd.DataFrame(data, columns=['lon', 'lat', 'tstart', 'tend'])\n",
    "                    stop_points = stop_points.append(cluster, ignore_index=True)\n",
    "                    stop_points_cluster = stop_points_cluster.append(sp_frame, ignore_index=True)\n",
    "                    p_cluster = cluster\n",
    "                    # Dataframe.iloc[0:0] löscht den Inhalt eines Dataframes, hier den Inhalt von c_cluster\n",
    "                    c_cluster = c_cluster.iloc[0:0]\n",
    "                    print(\"---> p_cluster = cluster / drop c_cluster\")\n",
    "            print(\"-> stop_points:\")\n",
    "            print(stop_points)\n",
    "            print(\"-> stop_points_cluster:\")\n",
    "            print(stop_points_cluster)\n",
    "        print(\"-------------------END: add_stop_point(cluster)---------------------\")\n",
    "\n",
    "            \n",
    "    def check():\n",
    "        print(\"-------------------BEGIN: check()---------------------\")\n",
    "        nonlocal c_cluster\n",
    "        nonlocal p_cluster\n",
    "        nonlocal is_type2\n",
    "        # centroid(coods, coords) berechnet den Mittelpunkt, Argumente, sind jeweils eine Liste von lon und lat\n",
    "        c_cluster_coord = centroid(c_cluster['lon'].tolist(), c_cluster['lat'].tolist())\n",
    "        p_cluster_coord = centroid(p_cluster['lon'].tolist(), p_cluster['lat'].tolist())\n",
    "        print(\"---> BEFORE:\")\n",
    "        print(\"-> c_cluster:\")\n",
    "        print(c_cluster)\n",
    "        print(\"-> p_cluster:\")\n",
    "        print(p_cluster)\n",
    "        print(\"-> time_interval:\")\n",
    "        print(time_interval())\n",
    "        print(\"-> distance c_cluster_coord, p_cluster_coord:\")\n",
    "        print(gps.haversine(c_cluster_coord, p_cluster_coord))\n",
    "        if (time_interval() < time_threshold and gps.haversine(c_cluster_coord, p_cluster_coord) < distance_threshold):\n",
    "            # p_cluster wird erweitert mit c_cluster, Duplikate werden gelöscht\n",
    "            p_cluster = p_cluster.append(c_cluster).drop_duplicates().reset_index(drop=True)\n",
    "            print(\"-> p_cluster\")\n",
    "            print(p_cluster)\n",
    "            print(\"-> is_type2\")\n",
    "            print(is_type2)\n",
    "            if is_type2 == True:\n",
    "                print(\"----> add_stop_point(p_cluster)\")\n",
    "                add_stop_point(p_cluster)\n",
    "                is_type2 == False\n",
    "                # c_cluster = c_cluster.iloc[0:0]\n",
    "            else:\n",
    "                print(\"----> p_cluster = c_cluster / drop c_cluster\")\n",
    "                p_cluster = c_cluster\n",
    "                # löschen des Inhalts von c_cluster\n",
    "                # c_cluster = c_cluster.iloc[0:0]\n",
    "        else:\n",
    "            # pass\n",
    "            add_stop_point(c_cluster)\n",
    "        print(\"---> AFTER:\")\n",
    "        print(\"-> c_cluster:\")\n",
    "        print(c_cluster)\n",
    "        print(\"-> p_cluster:\")\n",
    "        print(p_cluster)\n",
    "        print(\"-------------------END: check()---------------------\")\n",
    "            \n",
    "    def time_interval():\n",
    "        nonlocal c_cluster\n",
    "        nonlocal p_cluster\n",
    "        # wenn p_cluster leer, dann return 0 als Zeitinterval\n",
    "        if p_cluster.shape[0] == 0:\n",
    "            return 0\n",
    "        # berechnet den Zeitinterval von zwei Clustern, indem der Maximalwert (Zeit) der beiden Cluster - Minimalwert\n",
    "        min_time = min([c_cluster.iloc[[0]]['time'].tolist()[0], p_cluster.iloc[[0]]['time'].tolist()[0]])\n",
    "        max_time = max([c_cluster.iloc[[-1]]['time'].tolist()[0], p_cluster.iloc[[-1]]['time'].tolist()[0]])\n",
    "        return abs(max_time - min_time)\n",
    "    \n",
    "    def duration():\n",
    "        nonlocal c_cluster\n",
    "        min_time = min(c_cluster['time'].tolist())\n",
    "        max_time = max(c_cluster['time'].tolist())\n",
    "        return max_time - min_time\n",
    "    \n",
    "    p_coord = None\n",
    "    skip = False\n",
    "    # adds the first and last trajectory points as type 1 stop points \n",
    "    # if counter == 0 or counter == trajectory.shape[0]-1:\n",
    "    \n",
    "    first_sp_lon = trajectory.iloc[0].values[0]\n",
    "    first_sp_lat = trajectory.iloc[0].values[1]\n",
    "    first_sp_frame = pd.DataFrame({\"lon\": [first_sp_lon], \"lat\": [first_sp_lat], \"time\": [0]})\n",
    "    print(first_sp_frame)\n",
    "    add_stop_point(first_sp_frame)\n",
    "    for index, point in trajectory.iterrows():\n",
    "        point_coord = point['lon'], point['lat']\n",
    "        point_frame = pd.DataFrame({\"lon\": [point['lon']], \"lat\": [point['lat']], \"time\": [point['time']]})\n",
    "        print(\"_____________________________________________________________________________\")\n",
    "        print(\"-> p_coord:\")\n",
    "        print(p_coord)\n",
    "        print(\"-> point_coord:\")\n",
    "        print(point_coord)\n",
    "        if p_coord != None:\n",
    "            print(\"-> distance between p_coord and point_coord:\")\n",
    "            print(gps.haversine(p_coord, point_coord))\n",
    "        # Lösungsvorschlag, wenn der initiale Cluster leer ist, dann füge aktuellen Punkt hinzu\n",
    "        cluster_coord = centroid(c_cluster['lon'].tolist(), c_cluster['lat'].tolist())\n",
    "        #print(gps.haversine(cluster_coord, point_coord))\n",
    "        #print(cluster_coord, point_coord)\n",
    "        # Punkte des Typ 2 sind der 1,2,3 Fall\n",
    "        if c_cluster.shape[0] == 0:\n",
    "            print(\"IF -> Cluster empty\")\n",
    "            if p_coord != None and gps.haversine(p_coord, point_coord) < distance_threshold:\n",
    "                print(\"----->c_cluster empty: put current point in c_cluster\")\n",
    "                p_p_lon, p_p_lat = p_coord\n",
    "                p_point_frame = pd.DataFrame({\"lon\": [p_p_lon], \"lat\": [p_p_lat], \"time\": [point['time']-15]})\n",
    "                # if (point['time'] - 15) != 0 :\n",
    "                c_cluster = c_cluster.append(p_point_frame)\n",
    "                c_cluster = c_cluster.append(point_frame)\n",
    "                cluster_coord = centroid(c_cluster['lon'].tolist(), c_cluster['lat'].tolist())\n",
    "            else:\n",
    "                skip = True\n",
    "                print(\"----->PASS -> p_coord None or distance between p_coord, point_coord < distance_threshold\")\n",
    "        \n",
    "        else:\n",
    "            skip = False\n",
    "            print(\"ELSE -> Cluster not empty and point may be added to cluster\")\n",
    "            if gps.haversine(cluster_coord, point_coord) < distance_threshold:\n",
    "                print(\">>>case1: put in c_cluster\")\n",
    "                c_cluster = c_cluster.append(point_frame)\n",
    "                cluster_coord = centroid(c_cluster['lon'].tolist(), c_cluster['lat'].tolist())\n",
    "                is_type2 = True\n",
    "        if (skip != True):\n",
    "            print(\"Other Cases:\")\n",
    "            print(\"-> distance cluster_coord and point_coord\")\n",
    "            print(gps.haversine(cluster_coord, point_coord))\n",
    "            print(\"-> duration()\")\n",
    "            print(duration())\n",
    "            if c_cluster.shape[0] != 0 and gps.haversine(cluster_coord, point_coord) > distance_threshold and duration() > time_threshold:\n",
    "                print(\">>>case2\")\n",
    "                add_stop_point(c_cluster) \n",
    "                is_type2 = True\n",
    "            if c_cluster.shape[0] != 0 and gps.haversine(cluster_coord, point_coord) > distance_threshold and duration() < time_threshold:\n",
    "                print(\">>>case3\")\n",
    "                check()\n",
    "                is_type2 = True\n",
    "            if p_coord != None and gps.haversine(p_coord, point_coord) < distance_threshold and 15 > time_threshold:\n",
    "                print(\">>>case4\")\n",
    "                is_type2 = False\n",
    "                \n",
    "            if p_coord != None and gps.haversine(p_coord, point_coord) > distance_threshold and 15 > time_threshold:\n",
    "                print(\">>>case5\")\n",
    "                is_type2 = False\n",
    "                pass\n",
    "        print(\"<<<----------LOOP RESULTS BEGINN---------->>>\")\n",
    "        print(\"-> c_cluster\")\n",
    "        print(c_cluster)\n",
    "        print(\"-> p_cluster\")\n",
    "        print(p_cluster)\n",
    "        print(\"-> END: stop_points\")\n",
    "        print(stop_points)\n",
    "        print(\"-> END: stop_points_cluster\")\n",
    "        print(stop_points_cluster)\n",
    "        print(\"<<<----------LOOP RESULTS END---------->>>\")\n",
    "        \n",
    "        counter += 1\n",
    "        # p_coord (Vorherige Punkt) wird gesetzt\n",
    "        p_coord = point['lon'], point['lat']\n",
    "    cluster_coord = centroid(c_cluster['lon'].tolist(), c_cluster['lat'].tolist())\n",
    "    centeroid_lon, centeroid_lat = cluster_coord\n",
    "    min_time, max_time = start_end(c_cluster)\n",
    "    data = {'lon': [centeroid_lon], 'lat': [centeroid_lat], 'tstart': [min_time], 'tend': [max_time]}\n",
    "    sp_frame = pd.DataFrame(data, columns=['lon', 'lat', 'tstart', 'tend'])\n",
    "    stop_points_cluster = stop_points_cluster.append(sp_frame, ignore_index=True)\n",
    "    stop_points = stop_points.append(c_cluster, ignore_index=True)\n",
    "    print(\"ENDENDENDENDENDENDENDENDENDENDENDENDENDENDENDENDENDENDENDENDENDENDENDENDENDENDENDEND\")\n",
    "    print(stop_points_cluster)\n",
    "    \n",
    "\n",
    "    return stop_points, stop_points_cluster\n"
   ]
  },
  {
   "cell_type": "markdown",
   "metadata": {},
   "source": [
    "## Test Route: this cell below is a custom test route\n",
    "The data is safed in the variable df"
   ]
  },
  {
   "cell_type": "code",
   "execution_count": 9,
   "metadata": {},
   "outputs": [
    {
     "ename": "NameError",
     "evalue": "name 'pd' is not defined",
     "output_type": "error",
     "traceback": [
      "\u001b[1;31m---------------------------------------------------------------------------\u001b[0m",
      "\u001b[1;31mNameError\u001b[0m                                 Traceback (most recent call last)",
      "\u001b[1;32m<ipython-input-9-80707b170341>\u001b[0m in \u001b[0;36m<module>\u001b[1;34m\u001b[0m\n\u001b[0;32m      5\u001b[0m         \u001b[1;34m'lat'\u001b[0m\u001b[1;33m:\u001b[0m \u001b[0mlat_test_list\u001b[0m\u001b[1;33m,\u001b[0m\u001b[1;33m\u001b[0m\u001b[1;33m\u001b[0m\u001b[0m\n\u001b[0;32m      6\u001b[0m         'time': time_test_list}\n\u001b[1;32m----> 7\u001b[1;33m \u001b[0mdf\u001b[0m \u001b[1;33m=\u001b[0m \u001b[0mpd\u001b[0m\u001b[1;33m.\u001b[0m\u001b[0mDataFrame\u001b[0m\u001b[1;33m(\u001b[0m\u001b[0mdata\u001b[0m\u001b[1;33m,\u001b[0m \u001b[0mcolumns\u001b[0m\u001b[1;33m=\u001b[0m\u001b[1;33m[\u001b[0m\u001b[1;34m'lon'\u001b[0m\u001b[1;33m,\u001b[0m \u001b[1;34m'lat'\u001b[0m\u001b[1;33m,\u001b[0m \u001b[1;34m'time'\u001b[0m\u001b[1;33m]\u001b[0m\u001b[1;33m)\u001b[0m\u001b[1;33m\u001b[0m\u001b[1;33m\u001b[0m\u001b[0m\n\u001b[0m\u001b[0;32m      8\u001b[0m \u001b[0mtest_polt_data\u001b[0m \u001b[1;33m=\u001b[0m \u001b[0mdf\u001b[0m\u001b[1;33m[\u001b[0m\u001b[1;33m[\u001b[0m\u001b[1;34m'lon'\u001b[0m\u001b[1;33m,\u001b[0m \u001b[1;34m'lat'\u001b[0m\u001b[1;33m]\u001b[0m\u001b[1;33m]\u001b[0m\u001b[1;33m.\u001b[0m\u001b[0mvalues\u001b[0m\u001b[1;33m\u001b[0m\u001b[1;33m\u001b[0m\u001b[0m\n\u001b[0;32m      9\u001b[0m \u001b[0mplt\u001b[0m\u001b[1;33m.\u001b[0m\u001b[0mplot\u001b[0m\u001b[1;33m(\u001b[0m\u001b[0mtest_polt_data\u001b[0m\u001b[1;33m[\u001b[0m\u001b[1;33m:\u001b[0m\u001b[1;33m,\u001b[0m\u001b[1;36m0\u001b[0m\u001b[1;33m]\u001b[0m\u001b[1;33m,\u001b[0m \u001b[0mtest_polt_data\u001b[0m\u001b[1;33m[\u001b[0m\u001b[1;33m:\u001b[0m\u001b[1;33m,\u001b[0m\u001b[1;36m1\u001b[0m\u001b[1;33m]\u001b[0m\u001b[1;33m)\u001b[0m\u001b[1;33m\u001b[0m\u001b[1;33m\u001b[0m\u001b[0m\n",
      "\u001b[1;31mNameError\u001b[0m: name 'pd' is not defined"
     ]
    }
   ],
   "source": [
    "lon_test_list = [7.310735, 7.310789, 7.310564, 7.312163, 7.312399, 7.312367, 7.312399, 7.312378, 7.312174, 7.312002, 7.312227, 7.313439, 7.313450]\n",
    "lat_test_list = [49.713822, 49.713753, 49.713600, 49.713718, 49.713711, 49.713218, 49.713211, 49.713142, 49.713100, 49.713294, 49.713419, 49.711768, 49.711706]\n",
    "time_test_list = [0, 15, 30, 45, 60, 75, 90, 105, 120, 135, 150, 165, 180] \n",
    "data = {'lon': lon_test_list,\n",
    "        'lat': lat_test_list,\n",
    "        'time': time_test_list}\n",
    "df = pd.DataFrame(data, columns=['lon', 'lat', 'time'])\n",
    "test_polt_data = df[['lon', 'lat']].values\n",
    "plt.plot(test_polt_data[:,0], test_polt_data[:,1])\n",
    "plt.plot(test_polt_data[:,0], test_polt_data[:,1], 'ro')\n"
   ]
  },
  {
   "cell_type": "code",
   "execution_count": 10,
   "metadata": {
    "pycharm": {
     "is_executing": false
    },
    "scrolled": true
   },
   "outputs": [
    {
     "ename": "NameError",
     "evalue": "name 'coords' is not defined",
     "output_type": "error",
     "traceback": [
      "\u001b[1;31m---------------------------------------------------------------------------\u001b[0m",
      "\u001b[1;31mNameError\u001b[0m                                 Traceback (most recent call last)",
      "\u001b[1;32m<ipython-input-10-fb9af713fb4a>\u001b[0m in \u001b[0;36m<module>\u001b[1;34m\u001b[0m\n\u001b[0;32m      1\u001b[0m \u001b[0mtime_threshold\u001b[0m \u001b[1;33m=\u001b[0m \u001b[1;36m500\u001b[0m\u001b[1;33m\u001b[0m\u001b[1;33m\u001b[0m\u001b[0m\n\u001b[0;32m      2\u001b[0m \u001b[0mdistance_threshold\u001b[0m \u001b[1;33m=\u001b[0m \u001b[1;36m60\u001b[0m\u001b[1;33m\u001b[0m\u001b[1;33m\u001b[0m\u001b[0m\n\u001b[1;32m----> 3\u001b[1;33m \u001b[0mstop_points\u001b[0m\u001b[1;33m,\u001b[0m \u001b[0mstop_points_cluster\u001b[0m \u001b[1;33m=\u001b[0m \u001b[0mstop_point_extraction\u001b[0m\u001b[1;33m(\u001b[0m\u001b[0mcoords\u001b[0m\u001b[1;33m,\u001b[0m \u001b[0mtime_threshold\u001b[0m\u001b[1;33m,\u001b[0m \u001b[0mdistance_threshold\u001b[0m\u001b[1;33m)\u001b[0m\u001b[1;33m\u001b[0m\u001b[1;33m\u001b[0m\u001b[0m\n\u001b[0m",
      "\u001b[1;31mNameError\u001b[0m: name 'coords' is not defined"
     ]
    }
   ],
   "source": [
    "time_threshold = 500\n",
    "distance_threshold = 60\n",
    "stop_points, stop_points_cluster = stop_point_extraction(coords, time_threshold, distance_threshold)"
   ]
  },
  {
   "cell_type": "code",
   "execution_count": 11,
   "metadata": {},
   "outputs": [
    {
     "ename": "NameError",
     "evalue": "name 'coords' is not defined",
     "output_type": "error",
     "traceback": [
      "\u001b[1;31m---------------------------------------------------------------------------\u001b[0m",
      "\u001b[1;31mNameError\u001b[0m                                 Traceback (most recent call last)",
      "\u001b[1;32m<ipython-input-11-5fe92bbabea3>\u001b[0m in \u001b[0;36m<module>\u001b[1;34m\u001b[0m\n\u001b[1;32m----> 1\u001b[1;33m \u001b[0mnew\u001b[0m \u001b[1;33m=\u001b[0m \u001b[0mcoords\u001b[0m\u001b[1;33m.\u001b[0m\u001b[0mmerge\u001b[0m\u001b[1;33m(\u001b[0m\u001b[0mstop_points\u001b[0m\u001b[1;33m,\u001b[0m\u001b[0mon\u001b[0m\u001b[1;33m=\u001b[0m\u001b[1;33m[\u001b[0m\u001b[1;34m'lon'\u001b[0m\u001b[1;33m,\u001b[0m\u001b[1;34m'lat'\u001b[0m\u001b[1;33m]\u001b[0m\u001b[1;33m,\u001b[0m\u001b[0mhow\u001b[0m\u001b[1;33m=\u001b[0m\u001b[1;34m'left'\u001b[0m\u001b[1;33m)\u001b[0m\u001b[1;33m\u001b[0m\u001b[1;33m\u001b[0m\u001b[0m\n\u001b[0m\u001b[0;32m      2\u001b[0m \u001b[0mnew\u001b[0m \u001b[1;33m=\u001b[0m \u001b[0mnew\u001b[0m\u001b[1;33m[\u001b[0m\u001b[0mnew\u001b[0m\u001b[1;33m.\u001b[0m\u001b[0mtime_y\u001b[0m\u001b[1;33m.\u001b[0m\u001b[0misnull\u001b[0m\u001b[1;33m(\u001b[0m\u001b[1;33m)\u001b[0m\u001b[1;33m]\u001b[0m\u001b[1;33m\u001b[0m\u001b[1;33m\u001b[0m\u001b[0m\n\u001b[0;32m      3\u001b[0m \u001b[0mnew\u001b[0m \u001b[1;33m=\u001b[0m \u001b[0mnew\u001b[0m\u001b[1;33m.\u001b[0m\u001b[0mrename\u001b[0m\u001b[1;33m(\u001b[0m\u001b[0mcolumns\u001b[0m\u001b[1;33m=\u001b[0m\u001b[1;33m{\u001b[0m\u001b[1;34m\"time_x\"\u001b[0m\u001b[1;33m:\u001b[0m \u001b[1;34m\"tstart\"\u001b[0m\u001b[1;33m,\u001b[0m \u001b[1;34m\"time_y\"\u001b[0m\u001b[1;33m:\u001b[0m \u001b[1;34m\"tend\"\u001b[0m\u001b[1;33m}\u001b[0m\u001b[1;33m)\u001b[0m\u001b[1;33m\u001b[0m\u001b[1;33m\u001b[0m\u001b[0m\n\u001b[0;32m      4\u001b[0m \u001b[0mroute\u001b[0m \u001b[1;33m=\u001b[0m \u001b[0mstop_points_cluster\u001b[0m\u001b[1;33m.\u001b[0m\u001b[0mappend\u001b[0m\u001b[1;33m(\u001b[0m\u001b[0mnew\u001b[0m\u001b[1;33m)\u001b[0m\u001b[1;33m\u001b[0m\u001b[1;33m\u001b[0m\u001b[0m\n\u001b[0;32m      5\u001b[0m \u001b[0mroute\u001b[0m \u001b[1;33m=\u001b[0m \u001b[0mroute\u001b[0m\u001b[1;33m.\u001b[0m\u001b[0msort_values\u001b[0m\u001b[1;33m(\u001b[0m\u001b[0mby\u001b[0m\u001b[1;33m=\u001b[0m\u001b[1;33m[\u001b[0m\u001b[1;34m'tstart'\u001b[0m\u001b[1;33m]\u001b[0m\u001b[1;33m)\u001b[0m\u001b[1;33m.\u001b[0m\u001b[0mreset_index\u001b[0m\u001b[1;33m(\u001b[0m\u001b[0mdrop\u001b[0m\u001b[1;33m=\u001b[0m\u001b[1;32mTrue\u001b[0m\u001b[1;33m)\u001b[0m\u001b[1;33m\u001b[0m\u001b[1;33m\u001b[0m\u001b[0m\n",
      "\u001b[1;31mNameError\u001b[0m: name 'coords' is not defined"
     ]
    }
   ],
   "source": [
    "new = coords.merge(stop_points,on=['lon','lat'],how='left')\n",
    "new = new[new.time_y.isnull()]\n",
    "new = new.rename(columns={\"time_x\": \"tstart\", \"time_y\": \"tend\"})\n",
    "route = stop_points_cluster.append(new)\n",
    "route = route.sort_values(by=['tstart']).reset_index(drop=True)\n",
    "print(route)\n",
    "polt_point_data = route[['lon', 'lat']].values\n",
    "polt_stop_point_data = stop_points_cluster[['lon', 'lat']].values\n",
    "plt.plot(polt_point_data[:,0], polt_point_data[:,1])\n",
    "plt.plot(polt_point_data[:,0], polt_point_data[:,1], 'ro')\n",
    "plt.plot(polt_stop_point_data[:,0], polt_stop_point_data[:,1], 's', color='red', markersize= 10)"
   ]
  },
  {
   "cell_type": "markdown",
   "metadata": {
    "pycharm": {}
   },
   "source": [
    "## 2.2. Prototype (einfacher Algorithmus)"
   ]
  },
  {
   "cell_type": "code",
   "execution_count": 12,
   "metadata": {
    "pycharm": {}
   },
   "outputs": [
    {
     "ename": "NameError",
     "evalue": "name 'coords' is not defined",
     "output_type": "error",
     "traceback": [
      "\u001b[1;31m---------------------------------------------------------------------------\u001b[0m",
      "\u001b[1;31mNameError\u001b[0m                                 Traceback (most recent call last)",
      "\u001b[1;32m<ipython-input-12-a5d469b1da01>\u001b[0m in \u001b[0;36m<module>\u001b[1;34m\u001b[0m\n\u001b[0;32m      2\u001b[0m \u001b[0mcoord2\u001b[0m \u001b[1;33m=\u001b[0m \u001b[1;32mNone\u001b[0m\u001b[1;33m\u001b[0m\u001b[1;33m\u001b[0m\u001b[0m\n\u001b[0;32m      3\u001b[0m \u001b[0mcounter\u001b[0m \u001b[1;33m=\u001b[0m \u001b[1;36m0\u001b[0m\u001b[1;33m\u001b[0m\u001b[1;33m\u001b[0m\u001b[0m\n\u001b[1;32m----> 4\u001b[1;33m \u001b[0mpoints\u001b[0m \u001b[1;33m=\u001b[0m \u001b[0mcoords\u001b[0m\u001b[1;33m.\u001b[0m\u001b[0mshape\u001b[0m\u001b[1;33m[\u001b[0m\u001b[1;36m0\u001b[0m\u001b[1;33m]\u001b[0m\u001b[1;33m\u001b[0m\u001b[1;33m\u001b[0m\u001b[0m\n\u001b[0m\u001b[0;32m      5\u001b[0m \u001b[0mc_cluster\u001b[0m \u001b[1;33m=\u001b[0m \u001b[0mpd\u001b[0m\u001b[1;33m.\u001b[0m\u001b[0mDataFrame\u001b[0m\u001b[1;33m(\u001b[0m\u001b[0mcolumns\u001b[0m\u001b[1;33m=\u001b[0m\u001b[1;33m[\u001b[0m\u001b[1;34m'lon'\u001b[0m\u001b[1;33m,\u001b[0m\u001b[1;34m'lat'\u001b[0m\u001b[1;33m,\u001b[0m\u001b[1;34m'time'\u001b[0m\u001b[1;33m]\u001b[0m\u001b[1;33m)\u001b[0m\u001b[1;33m\u001b[0m\u001b[1;33m\u001b[0m\u001b[0m\n\u001b[0;32m      6\u001b[0m \u001b[0mp_cluster\u001b[0m \u001b[1;33m=\u001b[0m \u001b[0mpd\u001b[0m\u001b[1;33m.\u001b[0m\u001b[0mDataFrame\u001b[0m\u001b[1;33m(\u001b[0m\u001b[0mcolumns\u001b[0m\u001b[1;33m=\u001b[0m\u001b[1;33m[\u001b[0m\u001b[1;34m'lon'\u001b[0m\u001b[1;33m,\u001b[0m\u001b[1;34m'lat'\u001b[0m\u001b[1;33m,\u001b[0m\u001b[1;34m'time'\u001b[0m\u001b[1;33m]\u001b[0m\u001b[1;33m)\u001b[0m\u001b[1;33m\u001b[0m\u001b[1;33m\u001b[0m\u001b[0m\n",
      "\u001b[1;31mNameError\u001b[0m: name 'coords' is not defined"
     ]
    }
   ],
   "source": [
    "coord1 = None\n",
    "coord2 = None\n",
    "counter = 0\n",
    "points = coords.shape[0]\n",
    "c_cluster = pd.DataFrame(columns=['lon','lat','time'])\n",
    "p_cluster = pd.DataFrame(columns=['lon','lat','time'])\n",
    "for index, row in coords.iterrows():\n",
    "    coord2 = row['lat'], row['lon']\n",
    "    time2 = row['time']\n",
    "    if coord1 != None and gps.haversine(coord1, coord2) < 60:\n",
    "        coords.drop(coords.index[[index-counter,index-counter]], inplace=True)\n",
    "        counter += 1\n",
    "    coord1 = row['lat'], row['lon']\n",
    "    time1 = row['time']\n",
    "print(\"{} gps points simplified to {} points\".format(points, coords.shape[0]))\n"
   ]
  },
  {
   "cell_type": "code",
   "execution_count": 13,
   "metadata": {
    "pycharm": {}
   },
   "outputs": [
    {
     "ename": "NameError",
     "evalue": "name 'plt' is not defined",
     "output_type": "error",
     "traceback": [
      "\u001b[1;31m---------------------------------------------------------------------------\u001b[0m",
      "\u001b[1;31mNameError\u001b[0m                                 Traceback (most recent call last)",
      "\u001b[1;32m<ipython-input-13-0083a2fa2cf0>\u001b[0m in \u001b[0;36m<module>\u001b[1;34m\u001b[0m\n\u001b[1;32m----> 1\u001b[1;33m \u001b[0mfig\u001b[0m \u001b[1;33m=\u001b[0m \u001b[0mplt\u001b[0m\u001b[1;33m.\u001b[0m\u001b[0mfigure\u001b[0m\u001b[1;33m(\u001b[0m\u001b[1;33m)\u001b[0m\u001b[1;33m\u001b[0m\u001b[1;33m\u001b[0m\u001b[0m\n\u001b[0m\u001b[0;32m      2\u001b[0m \u001b[0msimplified_coords\u001b[0m \u001b[1;33m=\u001b[0m \u001b[0mcoords\u001b[0m\u001b[1;33m[\u001b[0m\u001b[1;33m[\u001b[0m\u001b[1;34m'lon'\u001b[0m\u001b[1;33m,\u001b[0m \u001b[1;34m'lat'\u001b[0m\u001b[1;33m]\u001b[0m\u001b[1;33m]\u001b[0m\u001b[1;33m.\u001b[0m\u001b[0mvalues\u001b[0m\u001b[1;33m\u001b[0m\u001b[1;33m\u001b[0m\u001b[0m\n\u001b[0;32m      3\u001b[0m \u001b[0mplt\u001b[0m\u001b[1;33m.\u001b[0m\u001b[0mplot\u001b[0m\u001b[1;33m(\u001b[0m\u001b[0msimplified_coords\u001b[0m\u001b[1;33m[\u001b[0m\u001b[1;33m:\u001b[0m\u001b[1;33m,\u001b[0m\u001b[1;36m0\u001b[0m\u001b[1;33m]\u001b[0m\u001b[1;33m,\u001b[0m \u001b[0msimplified_coords\u001b[0m\u001b[1;33m[\u001b[0m\u001b[1;33m:\u001b[0m\u001b[1;33m,\u001b[0m\u001b[1;36m1\u001b[0m\u001b[1;33m]\u001b[0m\u001b[1;33m)\u001b[0m\u001b[1;33m\u001b[0m\u001b[1;33m\u001b[0m\u001b[0m\n\u001b[0;32m      4\u001b[0m \u001b[0mplt\u001b[0m\u001b[1;33m.\u001b[0m\u001b[0mplot\u001b[0m\u001b[1;33m(\u001b[0m\u001b[0msimplified_coords\u001b[0m\u001b[1;33m[\u001b[0m\u001b[1;33m:\u001b[0m\u001b[1;33m,\u001b[0m\u001b[1;36m0\u001b[0m\u001b[1;33m]\u001b[0m\u001b[1;33m,\u001b[0m \u001b[0msimplified_coords\u001b[0m\u001b[1;33m[\u001b[0m\u001b[1;33m:\u001b[0m\u001b[1;33m,\u001b[0m\u001b[1;36m1\u001b[0m\u001b[1;33m]\u001b[0m\u001b[1;33m,\u001b[0m \u001b[1;34m'ro'\u001b[0m\u001b[1;33m)\u001b[0m\u001b[1;33m\u001b[0m\u001b[1;33m\u001b[0m\u001b[0m\n",
      "\u001b[1;31mNameError\u001b[0m: name 'plt' is not defined"
     ]
    }
   ],
   "source": [
    "fig = plt.figure()\n",
    "simplified_coords = coords[['lon', 'lat']].values\n",
    "plt.plot(simplified_coords[:,0], simplified_coords[:,1])\n",
    "plt.plot(simplified_coords[:,0], simplified_coords[:,1], 'ro')"
   ]
  },
  {
   "cell_type": "code",
   "execution_count": 14,
   "metadata": {
    "pycharm": {}
   },
   "outputs": [
    {
     "ename": "NameError",
     "evalue": "name 'mplleaflet' is not defined",
     "output_type": "error",
     "traceback": [
      "\u001b[1;31m---------------------------------------------------------------------------\u001b[0m",
      "\u001b[1;31mNameError\u001b[0m                                 Traceback (most recent call last)",
      "\u001b[1;32m<ipython-input-14-3f32ad87be6d>\u001b[0m in \u001b[0;36m<module>\u001b[1;34m\u001b[0m\n\u001b[1;32m----> 1\u001b[1;33m \u001b[0mmplleaflet\u001b[0m\u001b[1;33m.\u001b[0m\u001b[0mdisplay\u001b[0m\u001b[1;33m(\u001b[0m\u001b[0mfig\u001b[0m\u001b[1;33m=\u001b[0m\u001b[0mfig\u001b[0m\u001b[1;33m)\u001b[0m\u001b[1;33m\u001b[0m\u001b[1;33m\u001b[0m\u001b[0m\n\u001b[0m",
      "\u001b[1;31mNameError\u001b[0m: name 'mplleaflet' is not defined"
     ]
    }
   ],
   "source": [
    "mplleaflet.display(fig=fig)"
   ]
  },
  {
   "cell_type": "markdown",
   "metadata": {
    "pycharm": {}
   },
   "source": [
    "# 3. Data Simplification "
   ]
  },
  {
   "cell_type": "code",
   "execution_count": 15,
   "metadata": {
    "pycharm": {}
   },
   "outputs": [
    {
     "ename": "NameError",
     "evalue": "name 'pd' is not defined",
     "output_type": "error",
     "traceback": [
      "\u001b[1;31m---------------------------------------------------------------------------\u001b[0m",
      "\u001b[1;31mNameError\u001b[0m                                 Traceback (most recent call last)",
      "\u001b[1;32m<ipython-input-15-6d9c7aa8c98d>\u001b[0m in \u001b[0;36m<module>\u001b[1;34m\u001b[0m\n\u001b[0;32m      1\u001b[0m \u001b[0mpart\u001b[0m \u001b[1;33m=\u001b[0m \u001b[1;33m[\u001b[0m\u001b[1;33m]\u001b[0m\u001b[1;33m\u001b[0m\u001b[1;33m\u001b[0m\u001b[0m\n\u001b[1;32m----> 2\u001b[1;33m \u001b[0msimplified_coords\u001b[0m \u001b[1;33m=\u001b[0m \u001b[0mpd\u001b[0m\u001b[1;33m.\u001b[0m\u001b[0mDataFrame\u001b[0m\u001b[1;33m(\u001b[0m\u001b[0mcolumns\u001b[0m\u001b[1;33m=\u001b[0m\u001b[1;33m[\u001b[0m\u001b[1;34m'lon'\u001b[0m\u001b[1;33m,\u001b[0m\u001b[1;34m'lat'\u001b[0m\u001b[1;33m,\u001b[0m\u001b[1;34m'tstart'\u001b[0m\u001b[1;33m,\u001b[0m \u001b[1;34m'tend'\u001b[0m\u001b[1;33m]\u001b[0m\u001b[1;33m)\u001b[0m\u001b[1;33m\u001b[0m\u001b[1;33m\u001b[0m\u001b[0m\n\u001b[0m\u001b[0;32m      3\u001b[0m \u001b[1;32mfor\u001b[0m \u001b[0mindex\u001b[0m\u001b[1;33m,\u001b[0m \u001b[0mpoint\u001b[0m \u001b[1;32min\u001b[0m \u001b[0mroute\u001b[0m\u001b[1;33m.\u001b[0m\u001b[0miterrows\u001b[0m\u001b[1;33m(\u001b[0m\u001b[1;33m)\u001b[0m\u001b[1;33m:\u001b[0m\u001b[1;33m\u001b[0m\u001b[1;33m\u001b[0m\u001b[0m\n\u001b[0;32m      4\u001b[0m     \u001b[0mcurrent_point\u001b[0m \u001b[1;33m=\u001b[0m \u001b[1;33m[\u001b[0m\u001b[0mpoint\u001b[0m\u001b[1;33m[\u001b[0m\u001b[1;34m'lon'\u001b[0m\u001b[1;33m]\u001b[0m\u001b[1;33m,\u001b[0m \u001b[0mpoint\u001b[0m\u001b[1;33m[\u001b[0m\u001b[1;34m'lat'\u001b[0m\u001b[1;33m]\u001b[0m\u001b[1;33m]\u001b[0m\u001b[1;33m\u001b[0m\u001b[1;33m\u001b[0m\u001b[0m\n\u001b[0;32m      5\u001b[0m     \u001b[0mpart\u001b[0m\u001b[1;33m.\u001b[0m\u001b[0mappend\u001b[0m\u001b[1;33m(\u001b[0m\u001b[0mcurrent_point\u001b[0m\u001b[1;33m)\u001b[0m\u001b[1;33m\u001b[0m\u001b[1;33m\u001b[0m\u001b[0m\n",
      "\u001b[1;31mNameError\u001b[0m: name 'pd' is not defined"
     ]
    }
   ],
   "source": [
    "part = []\n",
    "simplified_coords = pd.DataFrame(columns=['lon','lat','tstart', 'tend'])\n",
    "for index, point in route.iterrows():\n",
    "    current_point = [point['lon'], point['lat']]\n",
    "    part.append(current_point)\n",
    "    if not math.isnan(point['tend']):\n",
    "        l_data = gps.rdp(part, 0.00025)\n",
    "        for i in l_data:\n",
    "            l_lon = i[0]\n",
    "            l_lat = i[1]\n",
    "            l_frame = pd.DataFrame({\"lon\": [l_lon], \"lat\": [l_lat]})\n",
    "            simplified_coords = simplified_coords.append(l_frame)\n",
    "        part = []\n",
    "        part.append(current_point)\n",
    "simplified_coords = simplified_coords.drop_duplicates(subset=None, keep='first', inplace=False).reset_index(drop=True)\n",
    "merged = route.merge(simplified_coords, on=['lon','lat'])\n",
    "merged = merged.drop(['tstart_y', 'tend_y'], axis=1)\n",
    "merged = merged.rename(columns={'tstart_x': 'tstart', 'tend_x': 'tend'})\n",
    "print(merged)\n",
    "print(\"{} gps points simplified to {} points\".format(route.shape[0], simplified_coords.shape[0]))"
   ]
  },
  {
   "cell_type": "code",
   "execution_count": 16,
   "metadata": {
    "pycharm": {},
    "scrolled": true
   },
   "outputs": [
    {
     "ename": "NameError",
     "evalue": "name 'plt' is not defined",
     "output_type": "error",
     "traceback": [
      "\u001b[1;31m---------------------------------------------------------------------------\u001b[0m",
      "\u001b[1;31mNameError\u001b[0m                                 Traceback (most recent call last)",
      "\u001b[1;32m<ipython-input-16-c6416cd727cd>\u001b[0m in \u001b[0;36m<module>\u001b[1;34m\u001b[0m\n\u001b[1;32m----> 1\u001b[1;33m \u001b[0mfig\u001b[0m \u001b[1;33m=\u001b[0m \u001b[0mplt\u001b[0m\u001b[1;33m.\u001b[0m\u001b[0mfigure\u001b[0m\u001b[1;33m(\u001b[0m\u001b[1;33m)\u001b[0m\u001b[1;33m\u001b[0m\u001b[1;33m\u001b[0m\u001b[0m\n\u001b[0m\u001b[0;32m      2\u001b[0m \u001b[0msimplified_coords_plot\u001b[0m \u001b[1;33m=\u001b[0m \u001b[0msimplified_coords\u001b[0m\u001b[1;33m[\u001b[0m\u001b[1;33m[\u001b[0m\u001b[1;34m'lon'\u001b[0m\u001b[1;33m,\u001b[0m \u001b[1;34m'lat'\u001b[0m\u001b[1;33m]\u001b[0m\u001b[1;33m]\u001b[0m\u001b[1;33m.\u001b[0m\u001b[0mvalues\u001b[0m\u001b[1;33m\u001b[0m\u001b[1;33m\u001b[0m\u001b[0m\n\u001b[0;32m      3\u001b[0m \u001b[0mplt\u001b[0m\u001b[1;33m.\u001b[0m\u001b[0mplot\u001b[0m\u001b[1;33m(\u001b[0m\u001b[0msimplified_coords_plot\u001b[0m\u001b[1;33m[\u001b[0m\u001b[1;33m:\u001b[0m\u001b[1;33m,\u001b[0m\u001b[1;36m0\u001b[0m\u001b[1;33m]\u001b[0m\u001b[1;33m,\u001b[0m \u001b[0msimplified_coords_plot\u001b[0m\u001b[1;33m[\u001b[0m\u001b[1;33m:\u001b[0m\u001b[1;33m,\u001b[0m\u001b[1;36m1\u001b[0m\u001b[1;33m]\u001b[0m\u001b[1;33m)\u001b[0m\u001b[1;33m\u001b[0m\u001b[1;33m\u001b[0m\u001b[0m\n\u001b[0;32m      4\u001b[0m \u001b[0mplt\u001b[0m\u001b[1;33m.\u001b[0m\u001b[0mplot\u001b[0m\u001b[1;33m(\u001b[0m\u001b[0msimplified_coords_plot\u001b[0m\u001b[1;33m[\u001b[0m\u001b[1;33m:\u001b[0m\u001b[1;33m,\u001b[0m\u001b[1;36m0\u001b[0m\u001b[1;33m]\u001b[0m\u001b[1;33m,\u001b[0m \u001b[0msimplified_coords_plot\u001b[0m\u001b[1;33m[\u001b[0m\u001b[1;33m:\u001b[0m\u001b[1;33m,\u001b[0m\u001b[1;36m1\u001b[0m\u001b[1;33m]\u001b[0m\u001b[1;33m,\u001b[0m \u001b[1;34m'ro'\u001b[0m\u001b[1;33m)\u001b[0m\u001b[1;33m\u001b[0m\u001b[1;33m\u001b[0m\u001b[0m\n\u001b[0;32m      5\u001b[0m \u001b[0mplt\u001b[0m\u001b[1;33m.\u001b[0m\u001b[0mplot\u001b[0m\u001b[1;33m(\u001b[0m\u001b[0mpolt_stop_point_data\u001b[0m\u001b[1;33m[\u001b[0m\u001b[1;33m:\u001b[0m\u001b[1;33m,\u001b[0m\u001b[1;36m0\u001b[0m\u001b[1;33m]\u001b[0m\u001b[1;33m,\u001b[0m \u001b[0mpolt_stop_point_data\u001b[0m\u001b[1;33m[\u001b[0m\u001b[1;33m:\u001b[0m\u001b[1;33m,\u001b[0m\u001b[1;36m1\u001b[0m\u001b[1;33m]\u001b[0m\u001b[1;33m,\u001b[0m \u001b[1;34m's'\u001b[0m\u001b[1;33m,\u001b[0m \u001b[0mcolor\u001b[0m\u001b[1;33m=\u001b[0m\u001b[1;34m'red'\u001b[0m\u001b[1;33m,\u001b[0m \u001b[0mmarkersize\u001b[0m\u001b[1;33m=\u001b[0m \u001b[1;36m10\u001b[0m\u001b[1;33m)\u001b[0m\u001b[1;33m\u001b[0m\u001b[1;33m\u001b[0m\u001b[0m\n",
      "\u001b[1;31mNameError\u001b[0m: name 'plt' is not defined"
     ]
    }
   ],
   "source": [
    "fig = plt.figure()\n",
    "simplified_coords_plot = simplified_coords[['lon', 'lat']].values\n",
    "plt.plot(simplified_coords_plot[:,0], simplified_coords_plot[:,1])\n",
    "plt.plot(simplified_coords_plot[:,0], simplified_coords_plot[:,1], 'ro')\n",
    "plt.plot(polt_stop_point_data[:,0], polt_stop_point_data[:,1], 's', color='red', markersize= 10)"
   ]
  },
  {
   "cell_type": "code",
   "execution_count": 17,
   "metadata": {
    "pycharm": {}
   },
   "outputs": [
    {
     "ename": "NameError",
     "evalue": "name 'mplleaflet' is not defined",
     "output_type": "error",
     "traceback": [
      "\u001b[1;31m---------------------------------------------------------------------------\u001b[0m",
      "\u001b[1;31mNameError\u001b[0m                                 Traceback (most recent call last)",
      "\u001b[1;32m<ipython-input-17-3f32ad87be6d>\u001b[0m in \u001b[0;36m<module>\u001b[1;34m\u001b[0m\n\u001b[1;32m----> 1\u001b[1;33m \u001b[0mmplleaflet\u001b[0m\u001b[1;33m.\u001b[0m\u001b[0mdisplay\u001b[0m\u001b[1;33m(\u001b[0m\u001b[0mfig\u001b[0m\u001b[1;33m=\u001b[0m\u001b[0mfig\u001b[0m\u001b[1;33m)\u001b[0m\u001b[1;33m\u001b[0m\u001b[1;33m\u001b[0m\u001b[0m\n\u001b[0m",
      "\u001b[1;31mNameError\u001b[0m: name 'mplleaflet' is not defined"
     ]
    }
   ],
   "source": [
    "mplleaflet.display(fig=fig)"
   ]
  },
  {
   "cell_type": "code",
   "execution_count": 18,
   "metadata": {
    "pycharm": {}
   },
   "outputs": [
    {
     "ename": "ValueError",
     "evalue": "math domain error",
     "output_type": "error",
     "traceback": [
      "\u001b[1;31m---------------------------------------------------------------------------\u001b[0m",
      "\u001b[1;31mValueError\u001b[0m                                Traceback (most recent call last)",
      "\u001b[1;32m<ipython-input-18-d4fa66419883>\u001b[0m in \u001b[0;36m<module>\u001b[1;34m\u001b[0m\n\u001b[0;32m      8\u001b[0m \u001b[0mlat1\u001b[0m \u001b[1;33m=\u001b[0m \u001b[1;36m41.178249\u001b[0m\u001b[1;33m;\u001b[0m \u001b[0mlon1\u001b[0m \u001b[1;33m=\u001b[0m \u001b[1;33m-\u001b[0m\u001b[1;36m8.630613\u001b[0m\u001b[1;33m;\u001b[0m\u001b[1;33m\u001b[0m\u001b[1;33m\u001b[0m\u001b[0m\n\u001b[0;32m      9\u001b[0m \u001b[0mlat2\u001b[0m \u001b[1;33m=\u001b[0m \u001b[1;36m41.171912\u001b[0m\u001b[1;33m;\u001b[0m \u001b[0mlon2\u001b[0m \u001b[1;33m=\u001b[0m \u001b[1;33m-\u001b[0m\u001b[1;36m8.626482\u001b[0m\u001b[1;33m;\u001b[0m\u001b[1;33m\u001b[0m\u001b[1;33m\u001b[0m\u001b[0m\n\u001b[1;32m---> 10\u001b[1;33m \u001b[0mprint\u001b[0m\u001b[1;33m(\u001b[0m\u001b[0mangleCalculator\u001b[0m\u001b[1;33m(\u001b[0m\u001b[1;33m(\u001b[0m\u001b[0mlat1\u001b[0m\u001b[1;33m,\u001b[0m \u001b[0mlon1\u001b[0m\u001b[1;33m)\u001b[0m\u001b[1;33m,\u001b[0m \u001b[1;33m(\u001b[0m\u001b[0mlat2\u001b[0m\u001b[1;33m,\u001b[0m \u001b[0mlon2\u001b[0m\u001b[1;33m)\u001b[0m\u001b[1;33m)\u001b[0m\u001b[1;33m)\u001b[0m\u001b[1;33m\u001b[0m\u001b[1;33m\u001b[0m\u001b[0m\n\u001b[0m",
      "\u001b[1;32m<ipython-input-18-d4fa66419883>\u001b[0m in \u001b[0;36mangleCalculator\u001b[1;34m(point1, point2)\u001b[0m\n\u001b[0;32m      3\u001b[0m     \u001b[1;31m#lat1, lon1 = point1\u001b[0m\u001b[1;33m\u001b[0m\u001b[1;33m\u001b[0m\u001b[1;33m\u001b[0m\u001b[0m\n\u001b[0;32m      4\u001b[0m     \u001b[1;31m#lat2, lon2 = point2\u001b[0m\u001b[1;33m\u001b[0m\u001b[1;33m\u001b[0m\u001b[1;33m\u001b[0m\u001b[0m\n\u001b[1;32m----> 5\u001b[1;33m     \u001b[1;32mreturn\u001b[0m \u001b[0mmath\u001b[0m\u001b[1;33m.\u001b[0m\u001b[0masin\u001b[0m\u001b[1;33m(\u001b[0m\u001b[1;36m784.90\u001b[0m\u001b[1;33m/\u001b[0m\u001b[1;36m704.64\u001b[0m\u001b[1;33m)\u001b[0m    \u001b[1;31m# len (point1, point2) / len(point2, (lat1, lon2))\u001b[0m\u001b[1;33m\u001b[0m\u001b[1;33m\u001b[0m\u001b[0m\n\u001b[0m\u001b[0;32m      6\u001b[0m \u001b[1;33m\u001b[0m\u001b[0m\n\u001b[0;32m      7\u001b[0m \u001b[1;33m\u001b[0m\u001b[0m\n",
      "\u001b[1;31mValueError\u001b[0m: math domain error"
     ]
    }
   ],
   "source": [
    "# V2\n",
    "def angleCalculator (point1, point2):\n",
    "    #lat1, lon1 = point1\n",
    "    #lat2, lon2 = point2\n",
    "    return math.asin(784.90/704.64)    # len (point1, point2) / len(point2, (lat1, lon2))\n",
    "    \n",
    "    \n",
    "lat1 = 41.178249; lon1 = -8.630613;\n",
    "lat2 = 41.171912; lon2 = -8.626482;\n",
    "print(angleCalculator((lat1, lon1), (lat2, lon2)))"
   ]
  },
  {
   "cell_type": "code",
   "execution_count": null,
   "metadata": {},
   "outputs": [],
   "source": []
  },
  {
   "cell_type": "code",
   "execution_count": null,
   "metadata": {},
   "outputs": [],
   "source": []
  }
 ],
 "metadata": {
  "kernelspec": {
   "display_name": "Python 3",
   "language": "python",
   "name": "python3"
  },
  "language_info": {
   "codemirror_mode": {
    "name": "ipython",
    "version": 3
   },
   "file_extension": ".py",
   "mimetype": "text/x-python",
   "name": "python",
   "nbconvert_exporter": "python",
   "pygments_lexer": "ipython3",
   "version": "3.7.3"
  },
  "pycharm": {
   "stem_cell": {
    "cell_type": "raw",
    "metadata": {
     "collapsed": false
    },
    "source": []
   }
  }
 },
 "nbformat": 4,
 "nbformat_minor": 2
}
