{
 "cells": [
  {
   "cell_type": "markdown",
   "metadata": {
    "pycharm": {}
   },
   "source": [
    "# 0. Import Data"
   ]
  },
  {
   "cell_type": "code",
   "execution_count": 29,
   "metadata": {
    "pycharm": {
     "is_executing": false
    }
   },
   "outputs": [],
   "source": [
    "import csv\n",
    "import math\n",
    "#import mplleaflet\n",
    "import matplotlib.pyplot as plt\n",
    "import pandas as pd\n",
    "import gps_utils as gps"
   ]
  },
  {
   "cell_type": "code",
   "execution_count": 30,
   "metadata": {
    "pycharm": {
     "is_executing": false
    }
   },
   "outputs": [],
   "source": [
    "with open('C:\\\\Users\\\\markb\\\\Documents\\\\DBPRO\\\\pkdd-15-predict-taxi-service-trajectory-i\\\\test.csv') as csv_file:\n",
    "    csv_reader = csv.reader(csv_file, delimiter=',')\n",
    "\n",
    "    latitude_list = []\n",
    "    longitude_list = []\n",
    "    time_list = []\n",
    "    # breaks only for development purposes\n",
    "    counter = 0\n",
    "    time = 0\n",
    "    \n",
    "    # for development only\n",
    "    # test ist eine Liste mit allen Trajectories, jeder Traejctory ist ein (Pandas-) Dataframe mit den Spalten lon, lat, time\n",
    "    test = []\n",
    "    \n",
    "    for row in csv_reader:\n",
    "        cleared = row[8].replace(\"],[\", \" -1 \").replace(\"[[\", \"\").replace(\"]]\", \"\")\n",
    "        if cleared != \"POLYLINE\":\n",
    "            splitted = cleared.split(\" -1 \")\n",
    "            # extractes all the points\n",
    "            for entry in splitted:\n",
    "                data = entry.split(\",\")\n",
    "                latitude_list.append(data[1])\n",
    "                longitude_list.append(data[0])\n",
    "                time_list.append(time)\n",
    "                time += 15\n",
    "            counter += 1\n",
    "            time = 0\n",
    "            # creats a trajectory dataframe\n",
    "            coords = pd.DataFrame({'lon': longitude_list, 'lat': latitude_list, 'time': time_list})\n",
    "            test.append(coords)\n",
    "            # reset everything \n",
    "            latitude_list = []\n",
    "            longitude_list = []\n",
    "            time_list = []\n",
    "            # breaks only for development purposes\n",
    "            if counter == 6:\n",
    "                break"
   ]
  },
  {
   "cell_type": "markdown",
   "metadata": {
    "pycharm": {}
   },
   "source": [
    "# 1. Initial Data "
   ]
  },
  {
   "cell_type": "code",
   "execution_count": 31,
   "metadata": {
    "pycharm": {
     "is_executing": false
    }
   },
   "outputs": [],
   "source": [
    "# retrieve the test route\n",
    "coords = test[5]\n",
    "coords.lon = coords.lon.astype(float)\n",
    "coords.lat = coords.lat.astype(float)"
   ]
  },
  {
   "cell_type": "code",
   "execution_count": 32,
   "metadata": {
    "pycharm": {
     "is_executing": false
    }
   },
   "outputs": [
    {
     "data": {
      "text/plain": [
       "[<matplotlib.lines.Line2D at 0x27abf8b7390>]"
      ]
     },
     "execution_count": 32,
     "metadata": {},
     "output_type": "execute_result"
    },
    {
     "data": {
      "image/png": "[encoded data removed]",
      "text/plain": [
       "<Figure size 432x288 with 1 Axes>"
      ]
     },
     "metadata": {
      "needs_background": "light"
     },
     "output_type": "display_data"
    }
   ],
   "source": [
    "fig = plt.figure()\n",
    "simplified_coords = coords[['lon', 'lat']].values\n",
    "#plt.plot(simplified_coords[:,0], simplified_coords[:,1])\n",
    "plt.plot(simplified_coords[:,0], simplified_coords[:,1], 'ro')"
   ]
  },
  {
   "cell_type": "code",
   "execution_count": 33,
   "metadata": {
    "pycharm": {
     "is_executing": false
    }
   },
   "outputs": [],
   "source": [
    "#mplleaflet.display(fig=fig)"
   ]
  },
  {
   "cell_type": "markdown",
   "metadata": {
    "pycharm": {}
   },
   "source": [
    "# 2. Trajectory Partition"
   ]
  },
  {
   "cell_type": "markdown",
   "metadata": {
    "pycharm": {}
   },
   "source": [
    "## 2.1. Stop Point Extraction (TDBC)\n",
    "Referenz: Z. Fu, Z. Tian, Y. Xu, and C. Qiao, ‘‘A two-step clustering approach to extract locations from individual GPS trajectory data,’’ ISPRS Int. J. Geo- Inf., vol. 5, no. 10, p. 166, 2016.\n",
    "\n",
    "Auch bei Github hochgeladen als spe-tdbc.pdf\n",
    "### note: currently not working as indented\n",
    "#### die Funktion stop_point_extraction() muss nur noch gefixt werden"
   ]
  },
  {
   "cell_type": "code",
   "execution_count": 34,
   "metadata": {
    "pycharm": {
     "is_executing": false
    }
   },
   "outputs": [],
   "source": [
    "def centroid(lonT, latT):\n",
    "    # https://stackoverflow.com/questions/6671183/calculate-the-center-point-of-multiple-latitude-longitude-coordinate-pairs\n",
    "\n",
    "    # lonT = [13.341664, 13.374373, 13.376003, 13.352830]\n",
    "    # latT = [52.519198, 52.523039, 52.504053, 52.508498]\n",
    "    \n",
    "    if (len(lonT) == 0 or len(latT)== 0):\n",
    "        return 0, 0\n",
    "\n",
    "    xList = []\n",
    "    yList = []\n",
    "    zList = []\n",
    "\n",
    "    dataT = pd.DataFrame({'lat': latT, 'lon': lonT})\n",
    "    for index, row in dataT.iterrows():\n",
    "        lat = row['lat'] * math.pi / 180\n",
    "        lon = row['lon'] * math.pi / 180\n",
    "        X = math.cos(lat) * math.cos(lon)\n",
    "        Y = math.cos(lat) * math.sin(lon)\n",
    "        Z = math.sin(lat)\n",
    "        xList.append(X)\n",
    "        yList.append(Y)\n",
    "        zList.append(Z)\n",
    "\n",
    "    dataXYZ = pd.DataFrame({'x': xList, 'y': yList, 'z': zList})\n",
    "\n",
    "    x = 0\n",
    "    y = 0\n",
    "    z = 0\n",
    "    n = 0\n",
    "\n",
    "    for index, row in dataXYZ.iterrows():\n",
    "        x += row['x']\n",
    "        y += row['y']\n",
    "        z += row['z']\n",
    "        n += 1\n",
    "\n",
    "    aX = x / n\n",
    "    aY = y / n\n",
    "    aZ = z / n\n",
    "\n",
    "    Lon = math.atan2(y, x) * 180 / math.pi\n",
    "    Hyp = math.sqrt(x * x + y * y)\n",
    "    Lat = math.atan2(z, Hyp) * 180 / math.pi\n",
    "\n",
    "    return Lon, Lat"
   ]
  },
  {
   "cell_type": "code",
   "execution_count": 85,
   "metadata": {
    "pycharm": {
     "is_executing": false
    }
   },
   "outputs": [],
   "source": [
    "def stop_point_extraction(trajectory, time_threshold, distance_threshold):\n",
    "\n",
    "    # leere Cluster, c_cluster ist Cluster aus dem Paper, p_cluster ist Previous C\n",
    "    c_cluster = pd.DataFrame(columns=['lon','lat','time'])\n",
    "    p_cluster = pd.DataFrame(columns=['lon','lat','time'])\n",
    "    stop_points = pd.DataFrame(columns=['lon','lat','time'])\n",
    "    stop_points_cluster = pd.DataFrame(columns=['lon','lat','tstart', 'tend'])\n",
    "    # p_point ist Previous stop point in SP aus dem Paper, relevant für Zeile 9 und 11 aus dem Paper\n",
    "    p_point = None\n",
    "    # Boolean Flag, nur relevant für die check Funktion\n",
    "    is_type2 = False\n",
    "    # braucht man nicht wirklich\n",
    "    counter = 0     \n",
    "    \n",
    "    def start_end(cluster):\n",
    "        min_time = min(cluster['time'].tolist())\n",
    "        max_time = max(cluster['time'].tolist())\n",
    "        return min_time, max_time\n",
    "    \n",
    "    def add_stop_point(cluster):\n",
    "        #print(\"-------------------BEGIN: add_stop_point(cluster)---------------------\")\n",
    "        # nonlocal, damit auf die Variablen der übergeordneten Funktion aufgerufen und bearbeiten werden kann\n",
    "        nonlocal p_cluster\n",
    "        nonlocal stop_points\n",
    "        nonlocal stop_points_cluster\n",
    "        nonlocal c_cluster\n",
    "        # Variablen Initialisierung \n",
    "        p_stop_point = None\n",
    "        # Nur relevant für die Initailisierung des Algorithmuses: wenn kein Stopppunkt vorhanden,\n",
    "        # füge das aktuelle Cluster oder Punkt der Liste der Stopppunkte hinzu\n",
    "        #print(\"-> cluster:\")\n",
    "        #print(cluster)\n",
    "        min_time, max_time = start_end(cluster)\n",
    "        if len(stop_points.tail(1)['lon'].values) == 0:\n",
    "            stop_points = stop_points.append(cluster, ignore_index=True)\n",
    "            stop_points_cluster = stop_points_cluster.append(cluster, ignore_index=True)\n",
    "            p_cluster = cluster\n",
    "            '''\n",
    "            print(\"--> initial SP\")\n",
    "            print(\"-> stop_points:\")\n",
    "            print(stop_points)\n",
    "            print(\"-> stop_points_cluster:\")\n",
    "            print(stop_points_cluster)\n",
    "            '''\n",
    "        else:\n",
    "            p_stop_point = stop_points_cluster.tail(1)['lon'].values[0], stop_points_cluster.tail(1)['lat'].values[0]\n",
    "            cluster_coord = centroid(cluster['lon'].tolist(), cluster['lat'].tolist())\n",
    "            # gps.haversine(coord1, coord2) berechnet die Distanc in Metern zwischen zwei Koordinaten\n",
    "            # coord1 und coord2 müssen als Dataframe mit den Spalten lon und lat vorliegen\n",
    "            '''\n",
    "            print(\"-> p_stop_point\")\n",
    "            print(p_stop_point)\n",
    "            print(\"-> cluster\")\n",
    "            print(cluster_coord)\n",
    "            print(\"-> distance between cluster and p_stop_point\")\n",
    "            print(gps.haversine(cluster_coord, p_stop_point))\n",
    "            '''\n",
    "            if gps.haversine(cluster_coord, p_stop_point) < distance_threshold:\n",
    "                # hängt alle Punkte des Clusters oder einzelnen Punkt an den p_cluster (vorheriger Cluster)\n",
    "                p_stop_point_lon, p_stop_point_lat = p_stop_point\n",
    "                test_point = centroid([p_stop_point_lon], [p_stop_point_lon])\n",
    "                test_point_frame = pd.DataFrame({\"lon\": [p_stop_point_lon], \"lat\": [p_stop_point_lat], \"tstart\": [min_time], \"tend\": [max_time]})\n",
    "                stop_points = pd.concat([stop_points,cluster]).drop_duplicates().reset_index(drop=True)\n",
    "                stop_points_cluster = stop_points_cluster.drop(stop_points_cluster.tail(1).index, inplace = True)\n",
    "                stop_points_cluster = pd.concat([stop_points_cluster,test_point_frame]).drop_duplicates().reset_index(drop=True)\n",
    "                '''\n",
    "                print(\"--> Added c_cluster to p_cluster!!!!!!!!!!!!!!!!!!!!!!!!!!!!!!!!!!\")\n",
    "                print(\"-> c_cluster:\")\n",
    "                print(c_cluster)\n",
    "                print(\"-> p_cluster:\")\n",
    "                print(p_cluster)\n",
    "                '''\n",
    "                c_cluster = c_cluster.iloc[0:0]\n",
    "            else:\n",
    "                centeroid_lon, centeroid_lat = cluster_coord\n",
    "                if centeroid_lon != 0:\n",
    "                    data = {'lon': [centeroid_lon], 'lat': [centeroid_lat], 'tstart': [min_time], 'tend': [max_time]}\n",
    "                    sp_frame = pd.DataFrame(data, columns=['lon', 'lat', 'tstart', 'tend'])\n",
    "                    stop_points = stop_points.append(cluster, ignore_index=True)\n",
    "                    stop_points_cluster = stop_points_cluster.append(sp_frame, ignore_index=True)\n",
    "                    p_cluster = cluster\n",
    "                    # Dataframe.iloc[0:0] löscht den Inhalt eines Dataframes, hier den Inhalt von c_cluster\n",
    "                    c_cluster = c_cluster.iloc[0:0]\n",
    "                    print(\"---> p_cluster = cluster / drop c_cluster\")\n",
    "            '''\n",
    "            print(\"-> stop_points:\")\n",
    "            print(stop_points)\n",
    "            print(\"-> stop_points_cluster:\")\n",
    "            print(stop_points_cluster)\n",
    "        print(\"-------------------END: add_stop_point(cluster)---------------------\")\n",
    "            '''\n",
    "            \n",
    "    def check():\n",
    "        #print(\"-------------------BEGIN: check()---------------------\")\n",
    "        nonlocal c_cluster\n",
    "        nonlocal p_cluster\n",
    "        nonlocal is_type2\n",
    "        # centroid(coods, coords) berechnet den Mittelpunkt, Argumente, sind jeweils eine Liste von lon und lat\n",
    "        c_cluster_coord = centroid(c_cluster['lon'].tolist(), c_cluster['lat'].tolist())\n",
    "        p_cluster_coord = centroid(p_cluster['lon'].tolist(), p_cluster['lat'].tolist())\n",
    "        '''\n",
    "        print(\"---> BEFORE:\")\n",
    "        print(\"-> c_cluster:\")\n",
    "        print(c_cluster)\n",
    "        print(\"-> p_cluster:\")\n",
    "        print(p_cluster)\n",
    "        print(\"-> time_interval:\")\n",
    "        print(time_interval())\n",
    "        print(\"-> distance c_cluster_coord, p_cluster_coord:\")\n",
    "        print(gps.haversine(c_cluster_coord, p_cluster_coord))\n",
    "        '''\n",
    "        if (time_interval() < time_threshold and gps.haversine(c_cluster_coord, p_cluster_coord) < distance_threshold):\n",
    "            # p_cluster wird erweitert mit c_cluster, Duplikate werden gelöscht\n",
    "            p_cluster = p_cluster.append(c_cluster).drop_duplicates().reset_index(drop=True)\n",
    "            '''\n",
    "            print(\"-> p_cluster\")\n",
    "            print(p_cluster)\n",
    "            print(\"-> is_type2\")\n",
    "            print(is_type2)\n",
    "            '''\n",
    "            if is_type2 == True:\n",
    "                #print(\"----> add_stop_(p_cluster)\")\n",
    "                add_stop_point(p_cluster)\n",
    "                is_type2 == False\n",
    "                # c_cluster = c_cluster.iloc[0:0]\n",
    "            else:\n",
    "                #print(\"----> p_cluster = c_cluster / drop c_cluster\")\n",
    "                p_cluster = c_cluster\n",
    "                # löschen des Inhalts von c_cluster\n",
    "                # c_cluster = c_cluster.iloc[0:0]\n",
    "        else:\n",
    "            # pass\n",
    "            add_stop_point(c_cluster)\n",
    "        '''\n",
    "        print(\"---> AFTER:\")\n",
    "        print(\"-> c_cluster:\")\n",
    "        print(c_cluster)\n",
    "        print(\"-> p_cluster:\")\n",
    "        print(p_cluster)\n",
    "        print(\"-------------------END: check()---------------------\")\n",
    "        '''\n",
    "            \n",
    "    def time_interval():\n",
    "        nonlocal c_cluster\n",
    "        nonlocal p_cluster\n",
    "        # wenn p_cluster leer, dann return 0 als Zeitinterval\n",
    "        if p_cluster.shape[0] == 0:\n",
    "            return 0\n",
    "        # berechnet den Zeitinterval von zwei Clustern, indem der Maximalwert (Zeit) der beiden Cluster - Minimalwert\n",
    "        min_time = min([c_cluster.iloc[[0]]['time'].tolist()[0], p_cluster.iloc[[0]]['time'].tolist()[0]])\n",
    "        max_time = max([c_cluster.iloc[[-1]]['time'].tolist()[0], p_cluster.iloc[[-1]]['time'].tolist()[0]])\n",
    "        return abs(max_time - min_time)\n",
    "    \n",
    "    def duration():\n",
    "        nonlocal c_cluster\n",
    "        min_time = min(c_cluster['time'].tolist())\n",
    "        max_time = max(c_cluster['time'].tolist())\n",
    "        return max_time - min_time\n",
    "    \n",
    "    p_coord = None\n",
    "    skip = False\n",
    "    # adds the first and last trajectory points as type 1 stop points \n",
    "    # if counter == 0 or counter == trajectory.shape[0]-1:\n",
    "    \n",
    "    first_sp_lon = trajectory.iloc[0].values[0]\n",
    "    first_sp_lat = trajectory.iloc[0].values[1]\n",
    "    first_sp_frame = pd.DataFrame({\"lon\": [first_sp_lon], \"lat\": [first_sp_lat], \"time\": [0]})\n",
    "    print(first_sp_frame)\n",
    "    add_stop_point(first_sp_frame)\n",
    "    for index, point in trajectory.iterrows():\n",
    "        point_coord = point['lon'], point['lat']\n",
    "        point_frame = pd.DataFrame({\"lon\": [point['lon']], \"lat\": [point['lat']], \"time\": [point['time']]})\n",
    "        '''\n",
    "        print(\"_____________________________________________________________________________\")\n",
    "        print(\"-> p_coord:\")\n",
    "        print(p_coord)\n",
    "        print(\"-> point_coord:\")\n",
    "        print(point_coord)\n",
    "        if p_coord != None:\n",
    "            print(\"-> distance between p_coord and point_coord:\")\n",
    "            print(gps.haversine(p_coord, point_coord))\n",
    "        # Lösungsvorschlag, wenn der initiale Cluster leer ist, dann füge aktuellen Punkt hinzu\n",
    "        '''\n",
    "        cluster_coord = centroid(c_cluster['lon'].tolist(), c_cluster['lat'].tolist())\n",
    "        #print(gps.haversine(cluster_coord, point_coord))\n",
    "        #print(cluster_coord, point_coord)\n",
    "        # Punkte des Typ 2 sind der 1,2,3 Fall\n",
    "        if c_cluster.shape[0] == 0:\n",
    "            #print(\"IF -> Cluster empty\")\n",
    "            if p_coord != None and gps.haversine(p_coord, point_coord) < distance_threshold:\n",
    "                #print(\"----->c_cluster empty: put current point in c_cluster\")\n",
    "                p_p_lon, p_p_lat = p_coord\n",
    "                p_point_frame = pd.DataFrame({\"lon\": [p_p_lon], \"lat\": [p_p_lat], \"time\": [point['time']-15]})\n",
    "                # if (point['time'] - 15) != 0 :\n",
    "                c_cluster = c_cluster.append(p_point_frame)\n",
    "                c_cluster = c_cluster.append(point_frame)\n",
    "                cluster_coord = centroid(c_cluster['lon'].tolist(), c_cluster['lat'].tolist())\n",
    "            else:\n",
    "                skip = True\n",
    "                #print(\"----->PASS -> p_coord None or distance between p_coord, point_coord < distance_threshold\")\n",
    "        \n",
    "        else:\n",
    "            skip = False\n",
    "            #print(\"ELSE -> Cluster not empty and point may be added to cluster\")\n",
    "            if gps.haversine(cluster_coord, point_coord) < distance_threshold:\n",
    "                #print(\">>>case1: put in c_cluster\")\n",
    "                c_cluster = c_cluster.append(point_frame)\n",
    "                cluster_coord = centroid(c_cluster['lon'].tolist(), c_cluster['lat'].tolist())\n",
    "                is_type2 = True\n",
    "        if (skip != True):\n",
    "            '''\n",
    "            print(\"Other Cases:\")\n",
    "            print(\"-> distance cluster_coord and point_coord\")\n",
    "            print(gps.haversine(cluster_coord, point_coord))\n",
    "            print(\"-> duration()\")\n",
    "            print(duration())\n",
    "            '''\n",
    "            if c_cluster.shape[0] != 0 and gps.haversine(cluster_coord, point_coord) > distance_threshold and duration() > time_threshold:\n",
    "                #print(\">>>case2\")\n",
    "                add_stop_point(c_cluster) \n",
    "                is_type2 = True\n",
    "            if c_cluster.shape[0] != 0 and gps.haversine(cluster_coord, point_coord) > distance_threshold and duration() < time_threshold:\n",
    "                #print(\">>>case3\")\n",
    "                check()\n",
    "                is_type2 = True\n",
    "            if p_coord != None and gps.haversine(p_coord, point_coord) < distance_threshold and 15 > time_threshold:\n",
    "                #print(\">>>case4\")\n",
    "                is_type2 = False\n",
    "                \n",
    "            if p_coord != None and gps.haversine(p_coord, point_coord) > distance_threshold and 15 > time_threshold:\n",
    "                #print(\">>>case5\")\n",
    "                is_type2 = False\n",
    "                pass\n",
    "        '''\n",
    "        print(\"<<<----------LOOP RESULTS BEGINN---------->>>\")\n",
    "        print(\"-> c_cluster\")\n",
    "        print(c_cluster)\n",
    "        print(\"-> p_cluster\")\n",
    "        print(p_cluster)\n",
    "        print(\"-> END: stop_points\")\n",
    "        print(stop_points)\n",
    "        print(\"-> END: stop_points_cluster\")\n",
    "        print(stop_points_cluster)\n",
    "        print(\"<<<----------LOOP RESULTS END---------->>>\")\n",
    "        '''\n",
    "        \n",
    "        counter += 1\n",
    "        # p_coord (Vorherige Punkt) wird gesetzt\n",
    "        p_coord = point['lon'], point['lat']\n",
    "    cluster_coord = centroid(c_cluster['lon'].tolist(), c_cluster['lat'].tolist())\n",
    "    centeroid_lon, centeroid_lat = cluster_coord\n",
    "    min_time, max_time = start_end(c_cluster)\n",
    "    data = {'lon': [centeroid_lon], 'lat': [centeroid_lat], 'tstart': [min_time], 'tend': [max_time]}\n",
    "    sp_frame = pd.DataFrame(data, columns=['lon', 'lat', 'tstart', 'tend'])\n",
    "    stop_points_cluster = stop_points_cluster.append(sp_frame, ignore_index=True)\n",
    "    stop_points = stop_points.append(c_cluster, ignore_index=True)\n",
    "    #print(\"ENDENDENDENDENDENDENDENDENDENDENDENDENDENDENDENDENDENDENDENDENDENDENDENDENDENDENDEND\")\n",
    "    #print(stop_points_cluster)\n",
    "    \n",
    "\n",
    "    return stop_points, stop_points_cluster"
   ]
  },
  {
   "cell_type": "code",
   "execution_count": 86,
   "metadata": {
    "pycharm": {
     "is_executing": false
    },
    "scrolled": true
   },
   "outputs": [
    {
     "name": "stdout",
     "output_type": "stream",
     "text": [
      "        lon        lat  time\n",
      "0 -8.630613  41.178249     0\n",
      "---> p_cluster = cluster / drop c_cluster\n",
      "---> p_cluster = cluster / drop c_cluster\n",
      "---> p_cluster = cluster / drop c_cluster\n"
     ]
    }
   ],
   "source": [
    "time_threshold = 500\n",
    "distance_threshold = 60\n",
    "stop_points, stop_points_cluster = stop_point_extraction(coords, time_threshold, distance_threshold)"
   ]
  },
  {
   "cell_type": "code",
   "execution_count": 37,
   "metadata": {},
   "outputs": [
    {
     "name": "stdout",
     "output_type": "stream",
     "text": [
      "        lon        lat  tstart    tend\n",
      "0 -8.630613  41.178249     0.0    30.0\n",
      "1 -8.631409  41.178128    45.0    60.0\n",
      "2 -8.630028  41.177889    75.0     NaN\n",
      "3 -8.629218  41.177943    90.0   120.0\n",
      "4 -8.628660  41.177394   135.0     NaN\n",
      "5 -8.627922  41.176017   150.0   195.0\n",
      "6 -8.627157  41.174127   210.0     NaN\n",
      "7 -8.626275  41.172588   225.0     NaN\n",
      "8 -8.626482  41.171912   240.0  2040.0\n"
     ]
    },
    {
     "data": {
      "text/plain": [
       "[<matplotlib.lines.Line2D at 0x27abf9354e0>]"
      ]
     },
     "execution_count": 37,
     "metadata": {},
     "output_type": "execute_result"
    },
    {
     "data": {
      "image/png": "[encoded data removed]",
      "text/plain": [
       "<Figure size 432x288 with 1 Axes>"
      ]
     },
     "metadata": {
      "needs_background": "light"
     },
     "output_type": "display_data"
    }
   ],
   "source": [
    "new = coords.merge(stop_points,on=['lon','lat'],how='left')\n",
    "new = new[new.time_y.isnull()]\n",
    "new = new.rename(columns={\"time_x\": \"tstart\", \"time_y\": \"tend\"})\n",
    "route = stop_points_cluster.append(new)\n",
    "route = route.sort_values(by=['tstart']).reset_index(drop=True)\n",
    "print(route)\n",
    "polt_point_data = route[['lon', 'lat']].values\n",
    "polt_stop_point_data = stop_points_cluster[['lon', 'lat']].values\n",
    "plt.plot(polt_point_data[:,0], polt_point_data[:,1])\n",
    "plt.plot(polt_point_data[:,0], polt_point_data[:,1], 'ro')\n",
    "plt.plot(polt_stop_point_data[:,0], polt_stop_point_data[:,1], 's', color='red', markersize= 10)"
   ]
  },
  {
   "cell_type": "markdown",
   "metadata": {
    "pycharm": {}
   },
   "source": [
    "# 3. Data Simplification "
   ]
  },
  {
   "cell_type": "code",
   "execution_count": 38,
   "metadata": {
    "pycharm": {}
   },
   "outputs": [
    {
     "name": "stdout",
     "output_type": "stream",
     "text": [
      "        lon        lat  tstart    tend\n",
      "0 -8.630613  41.178249     0.0    30.0\n",
      "1 -8.631409  41.178128    45.0    60.0\n",
      "2 -8.629218  41.177943    90.0   120.0\n",
      "3 -8.627922  41.176017   150.0   195.0\n",
      "4 -8.626275  41.172588   225.0     NaN\n",
      "5 -8.626482  41.171912   240.0  2040.0\n",
      "9 gps points simplified to 6 points\n"
     ]
    },
    {
     "name": "stderr",
     "output_type": "stream",
     "text": [
      "C:\\Users\\markb\\Anaconda3\\lib\\site-packages\\pandas\\core\\frame.py:6692: FutureWarning: Sorting because non-concatenation axis is not aligned. A future version\n",
      "of pandas will change to not sort by default.\n",
      "\n",
      "To accept the future behavior, pass 'sort=False'.\n",
      "\n",
      "To retain the current behavior and silence the warning, pass 'sort=True'.\n",
      "\n",
      "  sort=sort)\n"
     ]
    }
   ],
   "source": [
    "part = []\n",
    "simplified_coords = pd.DataFrame(columns=['lon','lat','tstart', 'tend'])\n",
    "for index, point in route.iterrows():\n",
    "    current_point = [point['lon'], point['lat']]\n",
    "    part.append(current_point)\n",
    "    if not math.isnan(point['tend']):\n",
    "        l_data = gps.rdp(part, 0.00025)\n",
    "        for i in l_data:\n",
    "            l_lon = i[0]\n",
    "            l_lat = i[1]\n",
    "            l_frame = pd.DataFrame({\"lon\": [l_lon], \"lat\": [l_lat]})\n",
    "            simplified_coords = simplified_coords.append(l_frame)\n",
    "        part = []\n",
    "        part.append(current_point)\n",
    "simplified_coords = simplified_coords.drop_duplicates(subset=None, keep='first', inplace=False).reset_index(drop=True)\n",
    "merged = route.merge(simplified_coords, on=['lon','lat'])\n",
    "merged = merged.drop(['tstart_y', 'tend_y'], axis=1)\n",
    "merged = merged.rename(columns={'tstart_x': 'tstart', 'tend_x': 'tend'})\n",
    "print(merged)\n",
    "print(\"{} gps points simplified to {} points\".format(route.shape[0], simplified_coords.shape[0]))"
   ]
  },
  {
   "cell_type": "code",
   "execution_count": 39,
   "metadata": {
    "pycharm": {},
    "scrolled": true
   },
   "outputs": [
    {
     "data": {
      "text/plain": [
       "[<matplotlib.lines.Line2D at 0x27ac097db38>]"
      ]
     },
     "execution_count": 39,
     "metadata": {},
     "output_type": "execute_result"
    },
    {
     "data": {
      "image/png": "[encoded data removed]",
      "text/plain": [
       "<Figure size 432x288 with 1 Axes>"
      ]
     },
     "metadata": {
      "needs_background": "light"
     },
     "output_type": "display_data"
    }
   ],
   "source": [
    "fig = plt.figure()\n",
    "simplified_coords_plot = simplified_coords[['lon', 'lat']].values\n",
    "plt.plot(simplified_coords_plot[:,0], simplified_coords_plot[:,1])\n",
    "plt.plot(simplified_coords_plot[:,0], simplified_coords_plot[:,1], 'ro')\n",
    "plt.plot(polt_stop_point_data[:,0], polt_stop_point_data[:,1], 's', color='red', markersize= 10)"
   ]
  },
  {
   "cell_type": "code",
   "execution_count": 40,
   "metadata": {
    "pycharm": {}
   },
   "outputs": [],
   "source": [
    "# mplleaflet.display(fig=fig)"
   ]
  },
  {
   "cell_type": "code",
   "execution_count": 41,
   "metadata": {},
   "outputs": [],
   "source": [
    "simplified_coords = pd.DataFrame(columns=['lon','lat','time'])\n"
   ]
  },
  {
   "cell_type": "code",
   "execution_count": 44,
   "metadata": {
    "pycharm": {}
   },
   "outputs": [
    {
     "name": "stdout",
     "output_type": "stream",
     "text": [
      "148.33710017955076\n"
     ]
    }
   ],
   "source": [
    "# V2\n",
    "def bearingCalculator (point1, point2):\n",
    "    lat1, lon1 = point1\n",
    "    lat2, lon2 = point2\n",
    "    dLon = (lon2-lon1)\n",
    "    y = math.sin(dLon) * math.cos(lat2)\n",
    "    x = math.cos(lat1)*math.sin(lat2) - math.sin(lat1)*math.cos(lat2)*math.cos(dLon)\n",
    "    brng = math.degrees(math.atan2(y, x))\n",
    "    return (360 - (brng + 360) % 360)\n",
    "    #return math.asin(784.90/704.64)    # len (point1, point2) / len(point2, (lat1, lon2))\n",
    "    \n",
    "    \n",
    "lat1 = 41.178249; lon1 = -8.630613;\n",
    "lat2 = 41.171912; lon2 = -8.626482;\n",
    "print(angleCalculator((lat1, lon1), (lat2, lon2)))"
   ]
  },
  {
   "cell_type": "code",
   "execution_count": 75,
   "metadata": {},
   "outputs": [
    {
     "name": "stdout",
     "output_type": "stream",
     "text": [
      "       lon1       lat1  tstart1  tend1      lon2       lat2  tstart2   tend2  \\\n",
      "0 -8.630613  41.178249      0.0   30.0 -8.631409  41.178128     45.0    60.0   \n",
      "1 -8.631409  41.178128     45.0   60.0 -8.629218  41.177943     90.0   120.0   \n",
      "2 -8.629218  41.177943     90.0  120.0 -8.627922  41.176017    150.0   195.0   \n",
      "3 -8.627922  41.176017    150.0  195.0 -8.626275  41.172588    225.0     NaN   \n",
      "4 -8.626275  41.172588    225.0    NaN -8.626482  41.171912    240.0  2040.0   \n",
      "\n",
      "     distance     bearing  \n",
      "0   89.568324  186.107473  \n",
      "1  244.526339  356.627896  \n",
      "2  256.125118  313.932135  \n",
      "3  419.104329  304.589157  \n",
      "4   77.839235  246.375439  \n"
     ]
    }
   ],
   "source": [
    "p_point = pd.Series([]) \n",
    "p_point_e = False\n",
    "lts = pd.DataFrame(columns=['lon1','lat1','tstart1','tend1', 'lon2','lat2','tstart2','tend2', 'distance', 'bearing'])\n",
    "    \n",
    "for index, point in merged.iterrows():\n",
    "    if p_point_e == False:\n",
    "        pass\n",
    "    else:\n",
    "        #print(point)\n",
    "        brng = bearingCalculator((p_point['lon'], p_point['lat']), (point['lon'], point['lat']))\n",
    "        dis = gps.haversine((p_point['lon'], p_point['lat']), (point['lon'], point['lat']))\n",
    "        lts_frame = pd.DataFrame({'lon1': [p_point['lon']], 'lat1': [p_point['lat']],'tstart1': [p_point['tstart']],'tend1': [p_point['tend']], \n",
    "                                  'lon2': [point['lon']], 'lat2': [point['lat']],'tstart2': [point['tstart']],'tend2': [point['tend']], \n",
    "                                  'distance': [dis], 'bearing': [brng]})\n",
    "        lts = lts.append(lts_frame)\n",
    "        #print(p_point, point)\n",
    "        #print(brng, dis)\n",
    "    p_point = point \n",
    "    p_point_e = True\n",
    "    \n",
    "lts = lts.reset_index(drop=True)\n",
    "print(lts)   \n",
    "lts.to_csv('test_lts.csv', sep = ';', mode = 'a')    #header = 'False', index = 'True')"
   ]
  },
  {
   "cell_type": "code",
   "execution_count": null,
   "metadata": {},
   "outputs": [],
   "source": []
  },
  {
   "cell_type": "markdown",
   "metadata": {},
   "source": [
    "# 4. Common Segment Discovery"
   ]
  },
  {
   "cell_type": "code",
   "execution_count": null,
   "metadata": {},
   "outputs": [],
   "source": [
    "#Algorithm for Line Grouping Based on Multi-Level Grid\n",
    "#Input: ungrouped lines in LTS,δθ , δd\n",
    "#Output: a set of grouped lines LGs\n",
    "\n"
   ]
  }
 ],
 "metadata": {
  "kernelspec": {
   "display_name": "Python 3",
   "language": "python",
   "name": "python3"
  },
  "language_info": {
   "codemirror_mode": {
    "name": "ipython",
    "version": 3
   },
   "file_extension": ".py",
   "mimetype": "text/x-python",
   "name": "python",
   "nbconvert_exporter": "python",
   "pygments_lexer": "ipython3",
   "version": "3.7.3"
  },
  "pycharm": {
   "stem_cell": {
    "cell_type": "raw",
    "metadata": {
     "collapsed": false
    },
    "source": []
   }
  }
 },
 "nbformat": 4,
 "nbformat_minor": 2
}
